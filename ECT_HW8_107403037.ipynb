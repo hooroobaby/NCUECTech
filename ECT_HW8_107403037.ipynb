{
  "cells": [
    {
      "cell_type": "markdown",
      "metadata": {
        "id": "view-in-github",
        "colab_type": "text"
      },
      "source": [
        "<a href=\"https://colab.research.google.com/github/hooroobaby/NCUECTech/blob/main/ECT_HW8_107403037.ipynb\" target=\"_parent\"><img src=\"https://colab.research.google.com/assets/colab-badge.svg\" alt=\"Open In Colab\"/></a>"
      ]
    },
    {
      "cell_type": "markdown",
      "metadata": {
        "id": "-7kPcONrc7lN"
      },
      "source": [
        "## 匯入資料&前處理"
      ]
    },
    {
      "cell_type": "code",
      "execution_count": null,
      "metadata": {
        "id": "JGb5UXecc7lP",
        "outputId": "60f83c1a-4e06-4667-b695-71ade35e7633"
      },
      "outputs": [
        {
          "data": {
            "text/html": [
              "<div>\n",
              "<style scoped>\n",
              "    .dataframe tbody tr th:only-of-type {\n",
              "        vertical-align: middle;\n",
              "    }\n",
              "\n",
              "    .dataframe tbody tr th {\n",
              "        vertical-align: top;\n",
              "    }\n",
              "\n",
              "    .dataframe thead th {\n",
              "        text-align: right;\n",
              "    }\n",
              "</style>\n",
              "<table border=\"1\" class=\"dataframe\">\n",
              "  <thead>\n",
              "    <tr style=\"text-align: right;\">\n",
              "      <th></th>\n",
              "      <th>age</th>\n",
              "      <th>workclass</th>\n",
              "      <th>fnlwgt</th>\n",
              "      <th>education</th>\n",
              "      <th>educational-num</th>\n",
              "      <th>marital-status</th>\n",
              "      <th>occupation</th>\n",
              "      <th>relationship</th>\n",
              "      <th>race</th>\n",
              "      <th>gender</th>\n",
              "      <th>capital-gain</th>\n",
              "      <th>capital-loss</th>\n",
              "      <th>hours-per-week</th>\n",
              "      <th>native-country</th>\n",
              "      <th>income</th>\n",
              "    </tr>\n",
              "  </thead>\n",
              "  <tbody>\n",
              "    <tr>\n",
              "      <th>0</th>\n",
              "      <td>31</td>\n",
              "      <td>Local-gov</td>\n",
              "      <td>206609</td>\n",
              "      <td>Bachelors</td>\n",
              "      <td>13</td>\n",
              "      <td>Never-married</td>\n",
              "      <td>Protective-serv</td>\n",
              "      <td>Not-in-family</td>\n",
              "      <td>White</td>\n",
              "      <td>Male</td>\n",
              "      <td>0</td>\n",
              "      <td>1876</td>\n",
              "      <td>40</td>\n",
              "      <td>United-States</td>\n",
              "      <td>&lt;=50K</td>\n",
              "    </tr>\n",
              "    <tr>\n",
              "      <th>1</th>\n",
              "      <td>31</td>\n",
              "      <td>Private</td>\n",
              "      <td>194752</td>\n",
              "      <td>HS-grad</td>\n",
              "      <td>9</td>\n",
              "      <td>Never-married</td>\n",
              "      <td>Exec-managerial</td>\n",
              "      <td>Unmarried</td>\n",
              "      <td>Black</td>\n",
              "      <td>Female</td>\n",
              "      <td>0</td>\n",
              "      <td>0</td>\n",
              "      <td>45</td>\n",
              "      <td>United-States</td>\n",
              "      <td>&lt;=50K</td>\n",
              "    </tr>\n",
              "    <tr>\n",
              "      <th>2</th>\n",
              "      <td>35</td>\n",
              "      <td>Private</td>\n",
              "      <td>30529</td>\n",
              "      <td>HS-grad</td>\n",
              "      <td>9</td>\n",
              "      <td>Never-married</td>\n",
              "      <td>Adm-clerical</td>\n",
              "      <td>Not-in-family</td>\n",
              "      <td>White</td>\n",
              "      <td>Male</td>\n",
              "      <td>0</td>\n",
              "      <td>0</td>\n",
              "      <td>40</td>\n",
              "      <td>United-States</td>\n",
              "      <td>&lt;=50K</td>\n",
              "    </tr>\n",
              "    <tr>\n",
              "      <th>3</th>\n",
              "      <td>17</td>\n",
              "      <td>Private</td>\n",
              "      <td>80576</td>\n",
              "      <td>10th</td>\n",
              "      <td>6</td>\n",
              "      <td>Never-married</td>\n",
              "      <td>Other-service</td>\n",
              "      <td>Own-child</td>\n",
              "      <td>White</td>\n",
              "      <td>Female</td>\n",
              "      <td>0</td>\n",
              "      <td>0</td>\n",
              "      <td>16</td>\n",
              "      <td>United-States</td>\n",
              "      <td>&lt;=50K</td>\n",
              "    </tr>\n",
              "    <tr>\n",
              "      <th>4</th>\n",
              "      <td>41</td>\n",
              "      <td>Private</td>\n",
              "      <td>107276</td>\n",
              "      <td>Assoc-voc</td>\n",
              "      <td>11</td>\n",
              "      <td>Never-married</td>\n",
              "      <td>Prof-specialty</td>\n",
              "      <td>Not-in-family</td>\n",
              "      <td>White</td>\n",
              "      <td>Female</td>\n",
              "      <td>0</td>\n",
              "      <td>0</td>\n",
              "      <td>45</td>\n",
              "      <td>United-States</td>\n",
              "      <td>&lt;=50K</td>\n",
              "    </tr>\n",
              "  </tbody>\n",
              "</table>\n",
              "</div>"
            ],
            "text/plain": [
              "   age  workclass  fnlwgt  education  educational-num marital-status  \\\n",
              "0   31  Local-gov  206609  Bachelors               13  Never-married   \n",
              "1   31    Private  194752    HS-grad                9  Never-married   \n",
              "2   35    Private   30529    HS-grad                9  Never-married   \n",
              "3   17    Private   80576       10th                6  Never-married   \n",
              "4   41    Private  107276  Assoc-voc               11  Never-married   \n",
              "\n",
              "        occupation   relationship   race  gender  capital-gain  capital-loss  \\\n",
              "0  Protective-serv  Not-in-family  White    Male             0          1876   \n",
              "1  Exec-managerial      Unmarried  Black  Female             0             0   \n",
              "2     Adm-clerical  Not-in-family  White    Male             0             0   \n",
              "3    Other-service      Own-child  White  Female             0             0   \n",
              "4   Prof-specialty  Not-in-family  White  Female             0             0   \n",
              "\n",
              "   hours-per-week native-country income  \n",
              "0              40  United-States  <=50K  \n",
              "1              45  United-States  <=50K  \n",
              "2              40  United-States  <=50K  \n",
              "3              16  United-States  <=50K  \n",
              "4              45  United-States  <=50K  "
            ]
          },
          "execution_count": 185,
          "metadata": {},
          "output_type": "execute_result"
        }
      ],
      "source": [
        "import pandas as pd\n",
        "df = pd.read_csv(\"income.csv\")\n",
        "df.head()"
      ]
    },
    {
      "cell_type": "code",
      "execution_count": null,
      "metadata": {
        "id": "h1rqsH_-c7lQ",
        "outputId": "2b8a163d-6765-44e0-db80-458850305243"
      },
      "outputs": [
        {
          "data": {
            "text/plain": [
              "workclass\n",
              "Federal-gov          341\n",
              "Local-gov            680\n",
              "Private             6964\n",
              "Self-emp-inc         506\n",
              "Self-emp-not-inc     852\n",
              "State-gov            403\n",
              "Without-pay            7\n",
              "dtype: int64"
            ]
          },
          "execution_count": 186,
          "metadata": {},
          "output_type": "execute_result"
        }
      ],
      "source": [
        "df.groupby(['workclass']).size()"
      ]
    },
    {
      "cell_type": "code",
      "execution_count": null,
      "metadata": {
        "id": "Ee3_hqBRc7lQ",
        "outputId": "9eb26b49-5668-4205-809a-3354bb760f13"
      },
      "outputs": [
        {
          "data": {
            "text/plain": [
              "workclass\n",
              "0     341\n",
              "1     680\n",
              "2    6964\n",
              "3     506\n",
              "4     852\n",
              "5     403\n",
              "6       7\n",
              "dtype: int64"
            ]
          },
          "execution_count": 187,
          "metadata": {},
          "output_type": "execute_result"
        }
      ],
      "source": [
        "# 轉為數字型態\n",
        "index = df.groupby(['workclass']).size().index\n",
        "index\n",
        "d={}\n",
        "for i in range(len(index)):\n",
        "    d[index[i]] = i\n",
        "df['workclass'] = df['workclass'].map(d)\n",
        "df.groupby(['workclass']).size()"
      ]
    },
    {
      "cell_type": "code",
      "execution_count": null,
      "metadata": {
        "id": "xUgmzlbNc7lR",
        "outputId": "d905a5c3-e817-4250-e1ff-5870bac9a812"
      },
      "outputs": [
        {
          "data": {
            "text/plain": [
              "education\n",
              "10th             219\n",
              "11th             287\n",
              "12th             107\n",
              "1st-4th           32\n",
              "5th-6th           64\n",
              "7th-8th          162\n",
              "9th              128\n",
              "Assoc-acdm       331\n",
              "Assoc-voc        434\n",
              "Bachelors       1897\n",
              "Doctorate        190\n",
              "HS-grad         2936\n",
              "Masters          721\n",
              "Preschool         20\n",
              "Prof-school      238\n",
              "Some-college    1987\n",
              "dtype: int64"
            ]
          },
          "execution_count": 188,
          "metadata": {},
          "output_type": "execute_result"
        }
      ],
      "source": [
        "df.groupby(['education']).size()"
      ]
    },
    {
      "cell_type": "code",
      "execution_count": null,
      "metadata": {
        "id": "Q2ti0Hi-c7lR",
        "outputId": "ad5a0a54-5232-4107-a84f-818565b90b31"
      },
      "outputs": [
        {
          "data": {
            "text/plain": [
              "education\n",
              "0      219\n",
              "1      287\n",
              "2      107\n",
              "3       32\n",
              "4       64\n",
              "5      162\n",
              "6      128\n",
              "7      331\n",
              "8      434\n",
              "9     1897\n",
              "10     190\n",
              "11    2936\n",
              "12     721\n",
              "13      20\n",
              "14     238\n",
              "15    1987\n",
              "dtype: int64"
            ]
          },
          "execution_count": 189,
          "metadata": {},
          "output_type": "execute_result"
        }
      ],
      "source": [
        "# 轉為數字型態\n",
        "index = df.groupby(['education']).size().index\n",
        "index\n",
        "for i in range(len(index)):\n",
        "    d[index[i]] = i\n",
        "df['education'] = df['education'].map(d)\n",
        "df.groupby(['education']).size()"
      ]
    },
    {
      "cell_type": "code",
      "execution_count": null,
      "metadata": {
        "id": "ACOPi0Uvc7lS",
        "outputId": "a842079e-d996-4a41-fd08-f920f80679a6"
      },
      "outputs": [
        {
          "data": {
            "text/plain": [
              "marital-status\n",
              "Divorced                 1191\n",
              "Married-AF-spouse           7\n",
              "Married-civ-spouse       5501\n",
              "Married-spouse-absent     108\n",
              "Never-married            2483\n",
              "Separated                 235\n",
              "Widowed                   228\n",
              "dtype: int64"
            ]
          },
          "execution_count": 190,
          "metadata": {},
          "output_type": "execute_result"
        }
      ],
      "source": [
        "df.groupby(['marital-status']).size()"
      ]
    },
    {
      "cell_type": "code",
      "execution_count": null,
      "metadata": {
        "id": "DD4Ixro1c7lS",
        "outputId": "9c881a58-18c5-48ad-9bea-72bb7111ac1d"
      },
      "outputs": [
        {
          "data": {
            "text/plain": [
              "marital-status\n",
              "0    1191\n",
              "1       7\n",
              "2    5501\n",
              "3     108\n",
              "4    2483\n",
              "5     235\n",
              "6     228\n",
              "dtype: int64"
            ]
          },
          "execution_count": 191,
          "metadata": {},
          "output_type": "execute_result"
        }
      ],
      "source": [
        "# 轉為數字型態\n",
        "index = df.groupby(['marital-status']).size().index\n",
        "index\n",
        "for i in range(len(index)):\n",
        "    d[index[i]] = i\n",
        "df['marital-status'] = df['marital-status'].map(d)\n",
        "df.groupby(['marital-status']).size()"
      ]
    },
    {
      "cell_type": "code",
      "execution_count": null,
      "metadata": {
        "id": "tGnqZcpIc7lS",
        "outputId": "32ffb715-59ed-4b3d-8374-414b09c8f7f2"
      },
      "outputs": [
        {
          "data": {
            "text/plain": [
              "occupation\n",
              "Adm-clerical         1020\n",
              "Armed-Forces            3\n",
              "Craft-repair         1261\n",
              "Exec-managerial      1635\n",
              "Farming-fishing       260\n",
              "Handlers-cleaners     371\n",
              "Machine-op-inspct     584\n",
              "Other-service         821\n",
              "Priv-house-serv        40\n",
              "Prof-specialty       1543\n",
              "Protective-serv       206\n",
              "Sales                1208\n",
              "Tech-support          320\n",
              "Transport-moving      481\n",
              "dtype: int64"
            ]
          },
          "execution_count": 192,
          "metadata": {},
          "output_type": "execute_result"
        }
      ],
      "source": [
        "df.groupby(['occupation']).size()"
      ]
    },
    {
      "cell_type": "code",
      "execution_count": null,
      "metadata": {
        "id": "iD5thlSpc7lS",
        "outputId": "084fdaa2-8eef-4e45-e9e0-ddda666ac3e2"
      },
      "outputs": [
        {
          "data": {
            "text/plain": [
              "occupation\n",
              "0     1020\n",
              "1        3\n",
              "2     1261\n",
              "3     1635\n",
              "4      260\n",
              "5      371\n",
              "6      584\n",
              "7      821\n",
              "8       40\n",
              "9     1543\n",
              "10     206\n",
              "11    1208\n",
              "12     320\n",
              "13     481\n",
              "dtype: int64"
            ]
          },
          "execution_count": 193,
          "metadata": {},
          "output_type": "execute_result"
        }
      ],
      "source": [
        "# 轉為數字型態\n",
        "index = df.groupby(['occupation']).size().index\n",
        "index\n",
        "for i in range(len(index)):\n",
        "    d[index[i]] = i\n",
        "df['occupation'] = df['occupation'].map(d)\n",
        "df.groupby(['occupation']).size()"
      ]
    },
    {
      "cell_type": "code",
      "execution_count": null,
      "metadata": {
        "id": "PJrUZ1Dtc7lT",
        "outputId": "f998f22e-abc6-48c7-938b-2400ab608199"
      },
      "outputs": [
        {
          "data": {
            "text/plain": [
              "relationship\n",
              "Husband           4902\n",
              "Not-in-family     2177\n",
              "Other-relative     215\n",
              "Own-child         1086\n",
              "Unmarried          835\n",
              "Wife               538\n",
              "dtype: int64"
            ]
          },
          "execution_count": 194,
          "metadata": {},
          "output_type": "execute_result"
        }
      ],
      "source": [
        "df.groupby(['relationship']).size()"
      ]
    },
    {
      "cell_type": "code",
      "execution_count": null,
      "metadata": {
        "id": "mFlw-S3-c7lT",
        "outputId": "5813e6d4-6076-4a65-f9ec-36cfc3446324"
      },
      "outputs": [
        {
          "data": {
            "text/plain": [
              "relationship\n",
              "0    4902\n",
              "1    2177\n",
              "2     215\n",
              "3    1086\n",
              "4     835\n",
              "5     538\n",
              "dtype: int64"
            ]
          },
          "execution_count": 195,
          "metadata": {},
          "output_type": "execute_result"
        }
      ],
      "source": [
        "# 轉為數字型態\n",
        "index = df.groupby(['relationship']).size().index\n",
        "index\n",
        "for i in range(len(index)):\n",
        "    d[index[i]] = i\n",
        "df['relationship'] = df['relationship'].map(d)\n",
        "df.groupby(['relationship']).size()"
      ]
    },
    {
      "cell_type": "code",
      "execution_count": null,
      "metadata": {
        "id": "yYq7yB0Wc7lT",
        "outputId": "a8dad7de-5886-4fa6-d4b2-b3f9e20fc8a0"
      },
      "outputs": [
        {
          "data": {
            "text/plain": [
              "race\n",
              "Amer-Indian-Eskimo      75\n",
              "Asian-Pac-Islander     298\n",
              "Black                  840\n",
              "Other                   60\n",
              "White                 8480\n",
              "dtype: int64"
            ]
          },
          "execution_count": 196,
          "metadata": {},
          "output_type": "execute_result"
        }
      ],
      "source": [
        "df.groupby(['race']).size()"
      ]
    },
    {
      "cell_type": "code",
      "execution_count": null,
      "metadata": {
        "id": "TwXUo8_7c7lT"
      },
      "outputs": [],
      "source": [
        "# 轉為數字型態\n",
        "d = {'Amer-Indian-Eskimo':0, 'Asian-Pac-Islander':1, 'Black':2, 'Other':3, 'White':4}\n",
        "df['race'] = df['race'].map(d)"
      ]
    },
    {
      "cell_type": "code",
      "execution_count": null,
      "metadata": {
        "id": "XxXseuNBc7lT",
        "outputId": "dba0360e-ca67-4ce6-a7ee-ee76bee68889"
      },
      "outputs": [
        {
          "data": {
            "text/plain": [
              "race\n",
              "0      75\n",
              "1     298\n",
              "2     840\n",
              "3      60\n",
              "4    8480\n",
              "dtype: int64"
            ]
          },
          "execution_count": 198,
          "metadata": {},
          "output_type": "execute_result"
        }
      ],
      "source": [
        "df.groupby(['race']).size()"
      ]
    },
    {
      "cell_type": "code",
      "execution_count": null,
      "metadata": {
        "id": "N_4YcU5Cc7lT",
        "outputId": "ee6a0244-f459-4266-8185-f0973393bbe8"
      },
      "outputs": [
        {
          "data": {
            "text/plain": [
              "gender\n",
              "Female    2729\n",
              "Male      7024\n",
              "dtype: int64"
            ]
          },
          "execution_count": 199,
          "metadata": {},
          "output_type": "execute_result"
        }
      ],
      "source": [
        "df.groupby(['gender']).size()"
      ]
    },
    {
      "cell_type": "code",
      "execution_count": null,
      "metadata": {
        "id": "WeSnoFolc7lT",
        "outputId": "63476a57-043d-4317-acf7-51aa529c2750"
      },
      "outputs": [
        {
          "data": {
            "text/plain": [
              "gender\n",
              "0    2729\n",
              "1    7024\n",
              "dtype: int64"
            ]
          },
          "execution_count": 200,
          "metadata": {},
          "output_type": "execute_result"
        }
      ],
      "source": [
        "# 轉為數字型態\n",
        "d = {'Female':0, 'Male':1}\n",
        "df['gender'] = df['gender'].map(d)\n",
        "df.groupby(['gender']).size()"
      ]
    },
    {
      "cell_type": "code",
      "execution_count": null,
      "metadata": {
        "id": "2-rpJW78c7lT",
        "outputId": "debc6004-9453-4772-ec9f-b78ab52a9b0c"
      },
      "outputs": [
        {
          "data": {
            "text/plain": [
              "Index(['Cambodia', 'Canada', 'China', 'Columbia', 'Cuba', 'Dominican-Republic',\n",
              "       'Ecuador', 'El-Salvador', 'England', 'France', 'Germany', 'Greece',\n",
              "       'Guatemala', 'Haiti', 'Honduras', 'Hong', 'Hungary', 'India', 'Iran',\n",
              "       'Ireland', 'Italy', 'Jamaica', 'Japan', 'Laos', 'Mexico', 'Nicaragua',\n",
              "       'Outlying-US(Guam-USVI-etc)', 'Peru', 'Philippines', 'Poland',\n",
              "       'Portugal', 'Puerto-Rico', 'Scotland', 'South', 'Taiwan', 'Thailand',\n",
              "       'Trinadad&Tobago', 'United-States', 'Vietnam', 'Yugoslavia'],\n",
              "      dtype='object', name='native-country')"
            ]
          },
          "execution_count": 201,
          "metadata": {},
          "output_type": "execute_result"
        }
      ],
      "source": [
        "index = df.groupby(['native-country']).size().index\n",
        "index"
      ]
    },
    {
      "cell_type": "code",
      "execution_count": null,
      "metadata": {
        "id": "uhHWmKZnc7lU"
      },
      "outputs": [],
      "source": [
        "for i in range(len(index)):\n",
        "    d[index[i]] = i"
      ]
    },
    {
      "cell_type": "code",
      "execution_count": null,
      "metadata": {
        "id": "zd7LEK54c7lU",
        "outputId": "b2a87470-4e8d-4d0a-b2fb-b9b5ac0d05be"
      },
      "outputs": [
        {
          "data": {
            "text/plain": [
              "native-country\n",
              "0        6\n",
              "1       38\n",
              "2       26\n",
              "3       16\n",
              "4       25\n",
              "5       14\n",
              "6       13\n",
              "7       28\n",
              "8       37\n",
              "9       10\n",
              "10      41\n",
              "11      12\n",
              "12      17\n",
              "13       8\n",
              "14       3\n",
              "15       3\n",
              "16       2\n",
              "17      34\n",
              "18      12\n",
              "19       3\n",
              "20      25\n",
              "21      17\n",
              "22      21\n",
              "23       3\n",
              "24     141\n",
              "25      13\n",
              "26       2\n",
              "27       9\n",
              "28      69\n",
              "29      17\n",
              "30      11\n",
              "31      25\n",
              "32       5\n",
              "33      22\n",
              "34      14\n",
              "35       5\n",
              "36       4\n",
              "37    8982\n",
              "38      16\n",
              "39       4\n",
              "dtype: int64"
            ]
          },
          "execution_count": 203,
          "metadata": {},
          "output_type": "execute_result"
        }
      ],
      "source": [
        "df['native-country'] = df['native-country'].map(d)\n",
        "df.groupby(['native-country']).size()"
      ]
    },
    {
      "cell_type": "code",
      "execution_count": null,
      "metadata": {
        "id": "czzhi4CUc7lU",
        "outputId": "137a134c-8101-4627-b4ad-a614696aa131"
      },
      "outputs": [
        {
          "data": {
            "text/plain": [
              "income\n",
              "<=50K    5460\n",
              ">50K     4293\n",
              "dtype: int64"
            ]
          },
          "execution_count": 204,
          "metadata": {},
          "output_type": "execute_result"
        }
      ],
      "source": [
        "df.groupby(['income']).size()"
      ]
    },
    {
      "cell_type": "code",
      "execution_count": null,
      "metadata": {
        "id": "NmE66I6uc7lU",
        "outputId": "531c84fd-906c-4e90-9398-46a274d9041b"
      },
      "outputs": [
        {
          "data": {
            "text/plain": [
              "income\n",
              "0    5460\n",
              "1    4293\n",
              "dtype: int64"
            ]
          },
          "execution_count": 205,
          "metadata": {},
          "output_type": "execute_result"
        }
      ],
      "source": [
        "# 轉為數字型態\n",
        "d = {'<=50K':0, '>50K':1}\n",
        "df['income'] = df['income'].map(d)\n",
        "df.groupby(['income']).size()"
      ]
    },
    {
      "cell_type": "markdown",
      "metadata": {
        "id": "ojjB63M_c7lU"
      },
      "source": [
        "# 1."
      ]
    },
    {
      "cell_type": "code",
      "execution_count": null,
      "metadata": {
        "id": "JG96kE2gc7lU"
      },
      "outputs": [],
      "source": [
        "X = df.drop(['income'], axis=1)\n",
        "y = df['income']\n",
        "from sklearn.model_selection import train_test_split\n",
        "X_train, X_test, y_train, y_test = train_test_split(X, y\n",
        "                                                   ,test_size=0.3\n",
        "                                                   ,random_state=15\n",
        "                                                   )"
      ]
    },
    {
      "cell_type": "code",
      "execution_count": null,
      "metadata": {
        "id": "cUqhRAQSc7lU",
        "outputId": "4c4a2139-db5a-4472-d1c6-fc9212046363"
      },
      "outputs": [
        {
          "data": {
            "text/plain": [
              "KNeighborsClassifier()"
            ]
          },
          "execution_count": 207,
          "metadata": {},
          "output_type": "execute_result"
        }
      ],
      "source": [
        "from sklearn.neighbors import KNeighborsClassifier\n",
        "knn = KNeighborsClassifier()\n",
        "knn.fit(X_train, y_train)"
      ]
    },
    {
      "cell_type": "code",
      "execution_count": null,
      "metadata": {
        "id": "WsHvfKP0c7lU",
        "outputId": "64051f2b-a98a-4075-8fda-6e843da9fa33"
      },
      "outputs": [
        {
          "name": "stdout",
          "output_type": "stream",
          "text": [
            "挑選前訓練集： 0.7490845173575509\n",
            "挑選前測試集： 0.6230348598769652\n"
          ]
        }
      ],
      "source": [
        "from sklearn.metrics import accuracy_score\n",
        "print(\"挑選前訓練集：\", knn.score(X_train,y_train))\n",
        "print(\"挑選前測試集：\", knn.score(X_test,y_test))"
      ]
    },
    {
      "cell_type": "markdown",
      "metadata": {
        "id": "e2rVMuWvc7lV"
      },
      "source": [
        "# 2."
      ]
    },
    {
      "cell_type": "code",
      "execution_count": null,
      "metadata": {
        "id": "5iTOvSd3c7lV"
      },
      "outputs": [],
      "source": [
        "from mlxtend.feature_selection import SequentialFeatureSelector\n",
        "\n",
        "sfs = SequentialFeatureSelector(knn, k_features=14, forward=True,\n",
        "                                floating=False, scoring='accuracy', cv=5)"
      ]
    },
    {
      "cell_type": "code",
      "execution_count": null,
      "metadata": {
        "id": "7PaVjfvLc7lV",
        "outputId": "1bda4e5a-b6f4-475f-89e0-e93497ed0031"
      },
      "outputs": [
        {
          "data": {
            "text/plain": [
              "SequentialFeatureSelector(estimator=KNeighborsClassifier(), k_features=14,\n",
              "                          scoring='accuracy')"
            ]
          },
          "execution_count": 210,
          "metadata": {},
          "output_type": "execute_result"
        }
      ],
      "source": [
        "sfs.fit(X_train, y_train)"
      ]
    },
    {
      "cell_type": "code",
      "execution_count": null,
      "metadata": {
        "id": "okaBp8hFc7lV"
      },
      "outputs": [],
      "source": [
        "# sfs.subsets_"
      ]
    },
    {
      "cell_type": "code",
      "execution_count": null,
      "metadata": {
        "id": "rOvbUV6Ec7lV",
        "outputId": "ed51c35d-ca9e-487f-c72d-55baefaf96d3"
      },
      "outputs": [
        {
          "data": {
            "text/html": [
              "<div>\n",
              "<style scoped>\n",
              "    .dataframe tbody tr th:only-of-type {\n",
              "        vertical-align: middle;\n",
              "    }\n",
              "\n",
              "    .dataframe tbody tr th {\n",
              "        vertical-align: top;\n",
              "    }\n",
              "\n",
              "    .dataframe thead th {\n",
              "        text-align: right;\n",
              "    }\n",
              "</style>\n",
              "<table border=\"1\" class=\"dataframe\">\n",
              "  <thead>\n",
              "    <tr style=\"text-align: right;\">\n",
              "      <th></th>\n",
              "      <th>1</th>\n",
              "      <th>2</th>\n",
              "      <th>3</th>\n",
              "      <th>4</th>\n",
              "      <th>5</th>\n",
              "      <th>6</th>\n",
              "      <th>7</th>\n",
              "      <th>8</th>\n",
              "      <th>9</th>\n",
              "      <th>10</th>\n",
              "      <th>11</th>\n",
              "      <th>12</th>\n",
              "      <th>13</th>\n",
              "      <th>14</th>\n",
              "    </tr>\n",
              "  </thead>\n",
              "  <tbody>\n",
              "    <tr>\n",
              "      <th>feature_idx</th>\n",
              "      <td>(7,)</td>\n",
              "      <td>(3, 7)</td>\n",
              "      <td>(3, 7, 10)</td>\n",
              "      <td>(3, 7, 10, 11)</td>\n",
              "      <td>(3, 6, 7, 10, 11)</td>\n",
              "      <td>(3, 4, 6, 7, 10, 11)</td>\n",
              "      <td>(3, 4, 5, 6, 7, 10, 11)</td>\n",
              "      <td>(3, 4, 5, 6, 7, 9, 10, 11)</td>\n",
              "      <td>(3, 4, 5, 6, 7, 8, 9, 10, 11)</td>\n",
              "      <td>(1, 3, 4, 5, 6, 7, 8, 9, 10, 11)</td>\n",
              "      <td>(1, 3, 4, 5, 6, 7, 8, 9, 10, 11, 12)</td>\n",
              "      <td>(1, 3, 4, 5, 6, 7, 8, 9, 10, 11, 12, 13)</td>\n",
              "      <td>(0, 1, 3, 4, 5, 6, 7, 8, 9, 10, 11, 12, 13)</td>\n",
              "      <td>(0, 1, 2, 3, 4, 5, 6, 7, 8, 9, 10, 11, 12, 13)</td>\n",
              "    </tr>\n",
              "    <tr>\n",
              "      <th>cv_scores</th>\n",
              "      <td>[0.7503660322108345, 0.7562225475841874, 0.627...</td>\n",
              "      <td>[0.7437774524158126, 0.7518301610541728, 0.733...</td>\n",
              "      <td>[0.7825768667642753, 0.7979502196193266, 0.755...</td>\n",
              "      <td>[0.8096632503660323, 0.7723279648609077, 0.809...</td>\n",
              "      <td>[0.8089311859443631, 0.8111273792093704, 0.824...</td>\n",
              "      <td>[0.8162518301610542, 0.8184480234260615, 0.809...</td>\n",
              "      <td>[0.821376281112738, 0.8074670571010248, 0.8109...</td>\n",
              "      <td>[0.8155197657393851, 0.8125915080527086, 0.819...</td>\n",
              "      <td>[0.8111273792093704, 0.8096632503660323, 0.815...</td>\n",
              "      <td>[0.8118594436310396, 0.7928257686676428, 0.805...</td>\n",
              "      <td>[0.7855051244509517, 0.8067349926793558, 0.803...</td>\n",
              "      <td>[0.7855051244509517, 0.7994143484626647, 0.796...</td>\n",
              "      <td>[0.781112737920937, 0.7833089311859444, 0.7692...</td>\n",
              "      <td>[0.6068814055636896, 0.6024890190336749, 0.606...</td>\n",
              "    </tr>\n",
              "    <tr>\n",
              "      <th>avg_score</th>\n",
              "      <td>0.718754</td>\n",
              "      <td>0.746154</td>\n",
              "      <td>0.783651</td>\n",
              "      <td>0.802552</td>\n",
              "      <td>0.813389</td>\n",
              "      <td>0.81324</td>\n",
              "      <td>0.811336</td>\n",
              "      <td>0.812948</td>\n",
              "      <td>0.811338</td>\n",
              "      <td>0.806505</td>\n",
              "      <td>0.79962</td>\n",
              "      <td>0.793907</td>\n",
              "      <td>0.781163</td>\n",
              "      <td>0.608467</td>\n",
              "    </tr>\n",
              "    <tr>\n",
              "      <th>feature_names</th>\n",
              "      <td>(relationship,)</td>\n",
              "      <td>(education, relationship)</td>\n",
              "      <td>(education, relationship, capital-gain)</td>\n",
              "      <td>(education, relationship, capital-gain, capita...</td>\n",
              "      <td>(education, occupation, relationship, capital-...</td>\n",
              "      <td>(education, educational-num, occupation, relat...</td>\n",
              "      <td>(education, educational-num, marital-status, o...</td>\n",
              "      <td>(education, educational-num, marital-status, o...</td>\n",
              "      <td>(education, educational-num, marital-status, o...</td>\n",
              "      <td>(workclass, education, educational-num, marita...</td>\n",
              "      <td>(workclass, education, educational-num, marita...</td>\n",
              "      <td>(workclass, education, educational-num, marita...</td>\n",
              "      <td>(age, workclass, education, educational-num, m...</td>\n",
              "      <td>(age, workclass, fnlwgt, education, educationa...</td>\n",
              "    </tr>\n",
              "    <tr>\n",
              "      <th>ci_bound</th>\n",
              "      <td>0.0619951</td>\n",
              "      <td>0.00972461</td>\n",
              "      <td>0.019299</td>\n",
              "      <td>0.0194894</td>\n",
              "      <td>0.0140628</td>\n",
              "      <td>0.00536057</td>\n",
              "      <td>0.00833755</td>\n",
              "      <td>0.00714964</td>\n",
              "      <td>0.00292287</td>\n",
              "      <td>0.00922356</td>\n",
              "      <td>0.00982738</td>\n",
              "      <td>0.00620666</td>\n",
              "      <td>0.00823011</td>\n",
              "      <td>0.00563112</td>\n",
              "    </tr>\n",
              "    <tr>\n",
              "      <th>std_dev</th>\n",
              "      <td>0.0482343</td>\n",
              "      <td>0.00756608</td>\n",
              "      <td>0.0150153</td>\n",
              "      <td>0.0151634</td>\n",
              "      <td>0.0109414</td>\n",
              "      <td>0.0041707</td>\n",
              "      <td>0.00648689</td>\n",
              "      <td>0.00556266</td>\n",
              "      <td>0.0022741</td>\n",
              "      <td>0.00717625</td>\n",
              "      <td>0.00764604</td>\n",
              "      <td>0.00482899</td>\n",
              "      <td>0.00640331</td>\n",
              "      <td>0.0043812</td>\n",
              "    </tr>\n",
              "    <tr>\n",
              "      <th>std_err</th>\n",
              "      <td>0.0241171</td>\n",
              "      <td>0.00378304</td>\n",
              "      <td>0.00750763</td>\n",
              "      <td>0.00758172</td>\n",
              "      <td>0.00547068</td>\n",
              "      <td>0.00208535</td>\n",
              "      <td>0.00324345</td>\n",
              "      <td>0.00278133</td>\n",
              "      <td>0.00113705</td>\n",
              "      <td>0.00358812</td>\n",
              "      <td>0.00382302</td>\n",
              "      <td>0.0024145</td>\n",
              "      <td>0.00320165</td>\n",
              "      <td>0.0021906</td>\n",
              "    </tr>\n",
              "  </tbody>\n",
              "</table>\n",
              "</div>"
            ],
            "text/plain": [
              "                                                              1   \\\n",
              "feature_idx                                                 (7,)   \n",
              "cv_scores      [0.7503660322108345, 0.7562225475841874, 0.627...   \n",
              "avg_score                                               0.718754   \n",
              "feature_names                                    (relationship,)   \n",
              "ci_bound                                               0.0619951   \n",
              "std_dev                                                0.0482343   \n",
              "std_err                                                0.0241171   \n",
              "\n",
              "                                                              2   \\\n",
              "feature_idx                                               (3, 7)   \n",
              "cv_scores      [0.7437774524158126, 0.7518301610541728, 0.733...   \n",
              "avg_score                                               0.746154   \n",
              "feature_names                          (education, relationship)   \n",
              "ci_bound                                              0.00972461   \n",
              "std_dev                                               0.00756608   \n",
              "std_err                                               0.00378304   \n",
              "\n",
              "                                                              3   \\\n",
              "feature_idx                                           (3, 7, 10)   \n",
              "cv_scores      [0.7825768667642753, 0.7979502196193266, 0.755...   \n",
              "avg_score                                               0.783651   \n",
              "feature_names            (education, relationship, capital-gain)   \n",
              "ci_bound                                                0.019299   \n",
              "std_dev                                                0.0150153   \n",
              "std_err                                               0.00750763   \n",
              "\n",
              "                                                              4   \\\n",
              "feature_idx                                       (3, 7, 10, 11)   \n",
              "cv_scores      [0.8096632503660323, 0.7723279648609077, 0.809...   \n",
              "avg_score                                               0.802552   \n",
              "feature_names  (education, relationship, capital-gain, capita...   \n",
              "ci_bound                                               0.0194894   \n",
              "std_dev                                                0.0151634   \n",
              "std_err                                               0.00758172   \n",
              "\n",
              "                                                              5   \\\n",
              "feature_idx                                    (3, 6, 7, 10, 11)   \n",
              "cv_scores      [0.8089311859443631, 0.8111273792093704, 0.824...   \n",
              "avg_score                                               0.813389   \n",
              "feature_names  (education, occupation, relationship, capital-...   \n",
              "ci_bound                                               0.0140628   \n",
              "std_dev                                                0.0109414   \n",
              "std_err                                               0.00547068   \n",
              "\n",
              "                                                              6   \\\n",
              "feature_idx                                 (3, 4, 6, 7, 10, 11)   \n",
              "cv_scores      [0.8162518301610542, 0.8184480234260615, 0.809...   \n",
              "avg_score                                                0.81324   \n",
              "feature_names  (education, educational-num, occupation, relat...   \n",
              "ci_bound                                              0.00536057   \n",
              "std_dev                                                0.0041707   \n",
              "std_err                                               0.00208535   \n",
              "\n",
              "                                                              7   \\\n",
              "feature_idx                              (3, 4, 5, 6, 7, 10, 11)   \n",
              "cv_scores      [0.821376281112738, 0.8074670571010248, 0.8109...   \n",
              "avg_score                                               0.811336   \n",
              "feature_names  (education, educational-num, marital-status, o...   \n",
              "ci_bound                                              0.00833755   \n",
              "std_dev                                               0.00648689   \n",
              "std_err                                               0.00324345   \n",
              "\n",
              "                                                              8   \\\n",
              "feature_idx                           (3, 4, 5, 6, 7, 9, 10, 11)   \n",
              "cv_scores      [0.8155197657393851, 0.8125915080527086, 0.819...   \n",
              "avg_score                                               0.812948   \n",
              "feature_names  (education, educational-num, marital-status, o...   \n",
              "ci_bound                                              0.00714964   \n",
              "std_dev                                               0.00556266   \n",
              "std_err                                               0.00278133   \n",
              "\n",
              "                                                              9   \\\n",
              "feature_idx                        (3, 4, 5, 6, 7, 8, 9, 10, 11)   \n",
              "cv_scores      [0.8111273792093704, 0.8096632503660323, 0.815...   \n",
              "avg_score                                               0.811338   \n",
              "feature_names  (education, educational-num, marital-status, o...   \n",
              "ci_bound                                              0.00292287   \n",
              "std_dev                                                0.0022741   \n",
              "std_err                                               0.00113705   \n",
              "\n",
              "                                                              10  \\\n",
              "feature_idx                     (1, 3, 4, 5, 6, 7, 8, 9, 10, 11)   \n",
              "cv_scores      [0.8118594436310396, 0.7928257686676428, 0.805...   \n",
              "avg_score                                               0.806505   \n",
              "feature_names  (workclass, education, educational-num, marita...   \n",
              "ci_bound                                              0.00922356   \n",
              "std_dev                                               0.00717625   \n",
              "std_err                                               0.00358812   \n",
              "\n",
              "                                                              11  \\\n",
              "feature_idx                 (1, 3, 4, 5, 6, 7, 8, 9, 10, 11, 12)   \n",
              "cv_scores      [0.7855051244509517, 0.8067349926793558, 0.803...   \n",
              "avg_score                                                0.79962   \n",
              "feature_names  (workclass, education, educational-num, marita...   \n",
              "ci_bound                                              0.00982738   \n",
              "std_dev                                               0.00764604   \n",
              "std_err                                               0.00382302   \n",
              "\n",
              "                                                              12  \\\n",
              "feature_idx             (1, 3, 4, 5, 6, 7, 8, 9, 10, 11, 12, 13)   \n",
              "cv_scores      [0.7855051244509517, 0.7994143484626647, 0.796...   \n",
              "avg_score                                               0.793907   \n",
              "feature_names  (workclass, education, educational-num, marita...   \n",
              "ci_bound                                              0.00620666   \n",
              "std_dev                                               0.00482899   \n",
              "std_err                                                0.0024145   \n",
              "\n",
              "                                                              13  \\\n",
              "feature_idx          (0, 1, 3, 4, 5, 6, 7, 8, 9, 10, 11, 12, 13)   \n",
              "cv_scores      [0.781112737920937, 0.7833089311859444, 0.7692...   \n",
              "avg_score                                               0.781163   \n",
              "feature_names  (age, workclass, education, educational-num, m...   \n",
              "ci_bound                                              0.00823011   \n",
              "std_dev                                               0.00640331   \n",
              "std_err                                               0.00320165   \n",
              "\n",
              "                                                              14  \n",
              "feature_idx       (0, 1, 2, 3, 4, 5, 6, 7, 8, 9, 10, 11, 12, 13)  \n",
              "cv_scores      [0.6068814055636896, 0.6024890190336749, 0.606...  \n",
              "avg_score                                               0.608467  \n",
              "feature_names  (age, workclass, fnlwgt, education, educationa...  \n",
              "ci_bound                                              0.00563112  \n",
              "std_dev                                                0.0043812  \n",
              "std_err                                                0.0021906  "
            ]
          },
          "metadata": {},
          "output_type": "display_data"
        }
      ],
      "source": [
        "display(pd.DataFrame(sfs.get_metric_dict()))"
      ]
    },
    {
      "cell_type": "markdown",
      "metadata": {
        "id": "rMiP0VOwc7lV"
      },
      "source": [
        "# 3."
      ]
    },
    {
      "cell_type": "code",
      "execution_count": null,
      "metadata": {
        "id": "QRSdbru0c7lV"
      },
      "outputs": [],
      "source": [
        "data = pd.DataFrame(sfs.get_metric_dict())"
      ]
    },
    {
      "cell_type": "code",
      "execution_count": null,
      "metadata": {
        "id": "jAW0ZNsmc7lV",
        "outputId": "3192e492-1df6-4f4a-fdc4-1fabc019c4d9"
      },
      "outputs": [
        {
          "data": {
            "text/plain": [
              "0.6153846153846154"
            ]
          },
          "execution_count": 214,
          "metadata": {},
          "output_type": "execute_result"
        }
      ],
      "source": [
        "data[14].cv_scores.max()"
      ]
    },
    {
      "cell_type": "code",
      "execution_count": null,
      "metadata": {
        "id": "GTiHVVGbc7lV",
        "outputId": "9968945e-9779-4f45-cabb-c2acecb0212b"
      },
      "outputs": [
        {
          "data": {
            "image/png": "[encoded data removed]",
            "text/plain": [
              "<Figure size 432x288 with 1 Axes>"
            ]
          },
          "metadata": {
            "needs_background": "light"
          },
          "output_type": "display_data"
        }
      ],
      "source": [
        "import matplotlib.pyplot as plt\n",
        "a = []\n",
        "b = []\n",
        "for i in range(14):\n",
        "    a.append(i+1)\n",
        "#     y.append(data[i+1].cv_scores.max())\n",
        "    b.append(data[i+1].avg_score)\n",
        "plt.plot(a,b)\n",
        "plt.xlabel(\"feature num\")\n",
        "plt.ylabel(\"Accuracy\")\n",
        "plt.show()"
      ]
    },
    {
      "cell_type": "markdown",
      "metadata": {
        "id": "q4DmLkQ0c7lV"
      },
      "source": [
        "# 4."
      ]
    },
    {
      "cell_type": "code",
      "execution_count": null,
      "metadata": {
        "id": "R5M_Jl_6c7lV",
        "outputId": "09eb64d3-b2eb-4ce7-ea3b-3d9dfd51d30d"
      },
      "outputs": [
        {
          "name": "stdout",
          "output_type": "stream",
          "text": [
            "feature數量: 5\n",
            "名稱: ('education', 'occupation', 'relationship', 'capital-gain', 'capital-loss')\n"
          ]
        }
      ],
      "source": [
        "import numpy as np\n",
        "maxnum = a[np.argmax(b)]\n",
        "name = data.loc[\"feature_names\"][maxnum]\n",
        "print(f\"feature數量: {maxnum}\")\n",
        "print(f\"名稱: {name}\")"
      ]
    },
    {
      "cell_type": "markdown",
      "metadata": {
        "id": "Gm0XE3uSc7lV"
      },
      "source": [
        "# 5."
      ]
    },
    {
      "cell_type": "code",
      "execution_count": null,
      "metadata": {
        "id": "3l0Kv2-pc7lV",
        "outputId": "9f3f041e-6ac4-4704-ba86-eda5bf57a143"
      },
      "outputs": [
        {
          "name": "stdout",
          "output_type": "stream",
          "text": [
            "挑選後訓練集： 0.8246667643181486\n",
            "挑選後測試集： 0.8110047846889952\n"
          ]
        }
      ],
      "source": [
        "x = df[['education', 'occupation', 'relationship', 'capital-gain', 'capital-loss']]\n",
        "x_train, x_test, y_train, y_test = train_test_split(x, y\n",
        "                                                   ,test_size=0.3\n",
        "                                                   ,random_state=15\n",
        "                                                   )\n",
        "knn.fit(x_train, y_train)\n",
        "print(\"挑選後訓練集：\", knn.score(x_train,y_train))\n",
        "print(\"挑選後測試集：\", knn.score(x_test,y_test))"
      ]
    },
    {
      "cell_type": "markdown",
      "metadata": {
        "id": "0tiKq0ePc7la"
      },
      "source": [
        "## 比較挑選前與挑選後的模型表現"
      ]
    }
  ],
  "metadata": {
    "kernelspec": {
      "display_name": "Python 3",
      "language": "python",
      "name": "python3"
    },
    "language_info": {
      "codemirror_mode": {
        "name": "ipython",
        "version": 3
      },
      "file_extension": ".py",
      "mimetype": "text/x-python",
      "name": "python",
      "nbconvert_exporter": "python",
      "pygments_lexer": "ipython3",
      "version": "3.8.5"
    },
    "colab": {
      "provenance": [],
      "include_colab_link": true
    }
  },
  "nbformat": 4,
  "nbformat_minor": 0
}