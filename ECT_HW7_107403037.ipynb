{
  "cells": [
    {
      "cell_type": "markdown",
      "metadata": {
        "id": "view-in-github",
        "colab_type": "text"
      },
      "source": [
        "<a href=\"https://colab.research.google.com/github/hooroobaby/NCUECTech/blob/main/ECT_HW7_107403037.ipynb\" target=\"_parent\"><img src=\"https://colab.research.google.com/assets/colab-badge.svg\" alt=\"Open In Colab\"/></a>"
      ]
    },
    {
      "cell_type": "markdown",
      "metadata": {
        "id": "NZkRMeBMdZ4G"
      },
      "source": [
        "### 資料集 Churn_Modelling.csv 是一份銀行客戶的資料，請對此資料集進行前處理與分析各欄位，並預測潛在的流失客戶\n",
        "# 1."
      ]
    },
    {
      "cell_type": "code",
      "execution_count": null,
      "metadata": {
        "id": "sO9WLANFdZ4J"
      },
      "outputs": [],
      "source": [
        "import pandas as pd\n",
        "df = pd.read_csv(\"Churn_Modelling.csv\")"
      ]
    },
    {
      "cell_type": "code",
      "execution_count": null,
      "metadata": {
        "id": "0exwOrxydZ4K",
        "outputId": "d9350783-0f86-490f-8984-e532b202f46c"
      },
      "outputs": [
        {
          "data": {
            "text/plain": [
              "CustomerId         0\n",
              "CredRate           0\n",
              "Geography          0\n",
              "Gender             4\n",
              "Age                6\n",
              "Tenure             0\n",
              "Balance            0\n",
              "Prod Number        0\n",
              "HasCrCard          0\n",
              "ActMem             0\n",
              "EstimatedSalary    4\n",
              "Exited             0\n",
              "dtype: int64"
            ]
          },
          "execution_count": 195,
          "metadata": {},
          "output_type": "execute_result"
        }
      ],
      "source": [
        "df.isnull().sum()"
      ]
    },
    {
      "cell_type": "code",
      "execution_count": null,
      "metadata": {
        "id": "QAKLBcExdZ4L",
        "outputId": "05ee79f9-a97d-4c93-d7f6-47fa14e6eb68"
      },
      "outputs": [
        {
          "data": {
            "text/html": [
              "<div>\n",
              "<style scoped>\n",
              "    .dataframe tbody tr th:only-of-type {\n",
              "        vertical-align: middle;\n",
              "    }\n",
              "\n",
              "    .dataframe tbody tr th {\n",
              "        vertical-align: top;\n",
              "    }\n",
              "\n",
              "    .dataframe thead th {\n",
              "        text-align: right;\n",
              "    }\n",
              "</style>\n",
              "<table border=\"1\" class=\"dataframe\">\n",
              "  <thead>\n",
              "    <tr style=\"text-align: right;\">\n",
              "      <th></th>\n",
              "      <th>CustomerId</th>\n",
              "      <th>CredRate</th>\n",
              "      <th>Geography</th>\n",
              "      <th>Gender</th>\n",
              "      <th>Age</th>\n",
              "      <th>Tenure</th>\n",
              "      <th>Balance</th>\n",
              "      <th>Prod Number</th>\n",
              "      <th>HasCrCard</th>\n",
              "      <th>ActMem</th>\n",
              "      <th>EstimatedSalary</th>\n",
              "      <th>Exited</th>\n",
              "    </tr>\n",
              "  </thead>\n",
              "  <tbody>\n",
              "    <tr>\n",
              "      <th>6</th>\n",
              "      <td>15592531</td>\n",
              "      <td>822</td>\n",
              "      <td>France</td>\n",
              "      <td>NaN</td>\n",
              "      <td>50.0</td>\n",
              "      <td>7</td>\n",
              "      <td>0.00</td>\n",
              "      <td>2</td>\n",
              "      <td>1</td>\n",
              "      <td>1</td>\n",
              "      <td>10062.80</td>\n",
              "      <td>0</td>\n",
              "    </tr>\n",
              "    <tr>\n",
              "      <th>10</th>\n",
              "      <td>15767821</td>\n",
              "      <td>528</td>\n",
              "      <td>France</td>\n",
              "      <td>Male</td>\n",
              "      <td>NaN</td>\n",
              "      <td>6</td>\n",
              "      <td>102016.72</td>\n",
              "      <td>2</td>\n",
              "      <td>0</td>\n",
              "      <td>0</td>\n",
              "      <td>80181.12</td>\n",
              "      <td>0</td>\n",
              "    </tr>\n",
              "    <tr>\n",
              "      <th>11</th>\n",
              "      <td>15737173</td>\n",
              "      <td>497</td>\n",
              "      <td>Spain</td>\n",
              "      <td>Male</td>\n",
              "      <td>NaN</td>\n",
              "      <td>3</td>\n",
              "      <td>0.00</td>\n",
              "      <td>2</td>\n",
              "      <td>1</td>\n",
              "      <td>0</td>\n",
              "      <td>76390.01</td>\n",
              "      <td>0</td>\n",
              "    </tr>\n",
              "    <tr>\n",
              "      <th>12</th>\n",
              "      <td>15632264</td>\n",
              "      <td>476</td>\n",
              "      <td>France</td>\n",
              "      <td>Female</td>\n",
              "      <td>NaN</td>\n",
              "      <td>10</td>\n",
              "      <td>0.00</td>\n",
              "      <td>2</td>\n",
              "      <td>1</td>\n",
              "      <td>0</td>\n",
              "      <td>26260.98</td>\n",
              "      <td>0</td>\n",
              "    </tr>\n",
              "    <tr>\n",
              "      <th>37</th>\n",
              "      <td>15729599</td>\n",
              "      <td>804</td>\n",
              "      <td>Spain</td>\n",
              "      <td>Male</td>\n",
              "      <td>NaN</td>\n",
              "      <td>7</td>\n",
              "      <td>76548.60</td>\n",
              "      <td>1</td>\n",
              "      <td>0</td>\n",
              "      <td>1</td>\n",
              "      <td>98453.45</td>\n",
              "      <td>0</td>\n",
              "    </tr>\n",
              "    <tr>\n",
              "      <th>38</th>\n",
              "      <td>15717426</td>\n",
              "      <td>850</td>\n",
              "      <td>France</td>\n",
              "      <td>Male</td>\n",
              "      <td>NaN</td>\n",
              "      <td>7</td>\n",
              "      <td>0.00</td>\n",
              "      <td>1</td>\n",
              "      <td>1</td>\n",
              "      <td>1</td>\n",
              "      <td>40812.90</td>\n",
              "      <td>0</td>\n",
              "    </tr>\n",
              "    <tr>\n",
              "      <th>39</th>\n",
              "      <td>15585768</td>\n",
              "      <td>582</td>\n",
              "      <td>Germany</td>\n",
              "      <td>Male</td>\n",
              "      <td>NaN</td>\n",
              "      <td>6</td>\n",
              "      <td>70349.48</td>\n",
              "      <td>2</td>\n",
              "      <td>0</td>\n",
              "      <td>1</td>\n",
              "      <td>178074.04</td>\n",
              "      <td>0</td>\n",
              "    </tr>\n",
              "    <tr>\n",
              "      <th>74</th>\n",
              "      <td>15770811</td>\n",
              "      <td>519</td>\n",
              "      <td>France</td>\n",
              "      <td>Male</td>\n",
              "      <td>36.0</td>\n",
              "      <td>9</td>\n",
              "      <td>0.00</td>\n",
              "      <td>2</td>\n",
              "      <td>0</td>\n",
              "      <td>1</td>\n",
              "      <td>NaN</td>\n",
              "      <td>0</td>\n",
              "    </tr>\n",
              "    <tr>\n",
              "      <th>77</th>\n",
              "      <td>15662085</td>\n",
              "      <td>678</td>\n",
              "      <td>France</td>\n",
              "      <td>Female</td>\n",
              "      <td>32.0</td>\n",
              "      <td>9</td>\n",
              "      <td>0.00</td>\n",
              "      <td>1</td>\n",
              "      <td>1</td>\n",
              "      <td>1</td>\n",
              "      <td>NaN</td>\n",
              "      <td>0</td>\n",
              "    </tr>\n",
              "    <tr>\n",
              "      <th>87</th>\n",
              "      <td>15625759</td>\n",
              "      <td>729</td>\n",
              "      <td>France</td>\n",
              "      <td>Male</td>\n",
              "      <td>30.0</td>\n",
              "      <td>9</td>\n",
              "      <td>0.00</td>\n",
              "      <td>2</td>\n",
              "      <td>1</td>\n",
              "      <td>0</td>\n",
              "      <td>NaN</td>\n",
              "      <td>0</td>\n",
              "    </tr>\n",
              "    <tr>\n",
              "      <th>92</th>\n",
              "      <td>15809248</td>\n",
              "      <td>524</td>\n",
              "      <td>France</td>\n",
              "      <td>Female</td>\n",
              "      <td>36.0</td>\n",
              "      <td>10</td>\n",
              "      <td>0.00</td>\n",
              "      <td>2</td>\n",
              "      <td>1</td>\n",
              "      <td>0</td>\n",
              "      <td>NaN</td>\n",
              "      <td>0</td>\n",
              "    </tr>\n",
              "    <tr>\n",
              "      <th>7809</th>\n",
              "      <td>15780989</td>\n",
              "      <td>579</td>\n",
              "      <td>Spain</td>\n",
              "      <td>NaN</td>\n",
              "      <td>43.0</td>\n",
              "      <td>2</td>\n",
              "      <td>145843.82</td>\n",
              "      <td>1</td>\n",
              "      <td>1</td>\n",
              "      <td>1</td>\n",
              "      <td>198402.37</td>\n",
              "      <td>1</td>\n",
              "    </tr>\n",
              "    <tr>\n",
              "      <th>7818</th>\n",
              "      <td>15637977</td>\n",
              "      <td>542</td>\n",
              "      <td>Germany</td>\n",
              "      <td>NaN</td>\n",
              "      <td>25.0</td>\n",
              "      <td>8</td>\n",
              "      <td>139330.10</td>\n",
              "      <td>1</td>\n",
              "      <td>0</td>\n",
              "      <td>0</td>\n",
              "      <td>54372.37</td>\n",
              "      <td>0</td>\n",
              "    </tr>\n",
              "    <tr>\n",
              "      <th>9282</th>\n",
              "      <td>15799435</td>\n",
              "      <td>619</td>\n",
              "      <td>Spain</td>\n",
              "      <td>NaN</td>\n",
              "      <td>34.0</td>\n",
              "      <td>1</td>\n",
              "      <td>0.00</td>\n",
              "      <td>1</td>\n",
              "      <td>1</td>\n",
              "      <td>0</td>\n",
              "      <td>139919.38</td>\n",
              "      <td>0</td>\n",
              "    </tr>\n",
              "  </tbody>\n",
              "</table>\n",
              "</div>"
            ],
            "text/plain": [
              "      CustomerId  CredRate Geography  Gender   Age  Tenure    Balance  \\\n",
              "6       15592531       822    France     NaN  50.0       7       0.00   \n",
              "10      15767821       528    France    Male   NaN       6  102016.72   \n",
              "11      15737173       497     Spain    Male   NaN       3       0.00   \n",
              "12      15632264       476    France  Female   NaN      10       0.00   \n",
              "37      15729599       804     Spain    Male   NaN       7   76548.60   \n",
              "38      15717426       850    France    Male   NaN       7       0.00   \n",
              "39      15585768       582   Germany    Male   NaN       6   70349.48   \n",
              "74      15770811       519    France    Male  36.0       9       0.00   \n",
              "77      15662085       678    France  Female  32.0       9       0.00   \n",
              "87      15625759       729    France    Male  30.0       9       0.00   \n",
              "92      15809248       524    France  Female  36.0      10       0.00   \n",
              "7809    15780989       579     Spain     NaN  43.0       2  145843.82   \n",
              "7818    15637977       542   Germany     NaN  25.0       8  139330.10   \n",
              "9282    15799435       619     Spain     NaN  34.0       1       0.00   \n",
              "\n",
              "      Prod Number  HasCrCard  ActMem  EstimatedSalary  Exited  \n",
              "6               2          1       1         10062.80       0  \n",
              "10              2          0       0         80181.12       0  \n",
              "11              2          1       0         76390.01       0  \n",
              "12              2          1       0         26260.98       0  \n",
              "37              1          0       1         98453.45       0  \n",
              "38              1          1       1         40812.90       0  \n",
              "39              2          0       1        178074.04       0  \n",
              "74              2          0       1              NaN       0  \n",
              "77              1          1       1              NaN       0  \n",
              "87              2          1       0              NaN       0  \n",
              "92              2          1       0              NaN       0  \n",
              "7809            1          1       1        198402.37       1  \n",
              "7818            1          0       0         54372.37       0  \n",
              "9282            1          1       0        139919.38       0  "
            ]
          },
          "execution_count": 196,
          "metadata": {},
          "output_type": "execute_result"
        }
      ],
      "source": [
        "df[df.isnull().values==True]"
      ]
    },
    {
      "cell_type": "code",
      "execution_count": null,
      "metadata": {
        "id": "xfJ4f09DdZ4L",
        "outputId": "253864e2-6696-46fc-a2fd-71fb0269042c"
      },
      "outputs": [
        {
          "data": {
            "text/html": [
              "<div>\n",
              "<style scoped>\n",
              "    .dataframe tbody tr th:only-of-type {\n",
              "        vertical-align: middle;\n",
              "    }\n",
              "\n",
              "    .dataframe tbody tr th {\n",
              "        vertical-align: top;\n",
              "    }\n",
              "\n",
              "    .dataframe thead th {\n",
              "        text-align: right;\n",
              "    }\n",
              "</style>\n",
              "<table border=\"1\" class=\"dataframe\">\n",
              "  <thead>\n",
              "    <tr style=\"text-align: right;\">\n",
              "      <th></th>\n",
              "      <th>CustomerId</th>\n",
              "      <th>CredRate</th>\n",
              "      <th>Geography</th>\n",
              "      <th>Gender</th>\n",
              "      <th>Age</th>\n",
              "      <th>Tenure</th>\n",
              "      <th>Balance</th>\n",
              "      <th>Prod Number</th>\n",
              "      <th>HasCrCard</th>\n",
              "      <th>ActMem</th>\n",
              "      <th>EstimatedSalary</th>\n",
              "      <th>Exited</th>\n",
              "    </tr>\n",
              "  </thead>\n",
              "  <tbody>\n",
              "    <tr>\n",
              "      <th>0</th>\n",
              "      <td>15634602</td>\n",
              "      <td>619</td>\n",
              "      <td>France</td>\n",
              "      <td>Female</td>\n",
              "      <td>42.0</td>\n",
              "      <td>2</td>\n",
              "      <td>0.00</td>\n",
              "      <td>1</td>\n",
              "      <td>1</td>\n",
              "      <td>1</td>\n",
              "      <td>101348.88</td>\n",
              "      <td>1</td>\n",
              "    </tr>\n",
              "    <tr>\n",
              "      <th>1</th>\n",
              "      <td>15647311</td>\n",
              "      <td>608</td>\n",
              "      <td>Spain</td>\n",
              "      <td>Female</td>\n",
              "      <td>41.0</td>\n",
              "      <td>1</td>\n",
              "      <td>83807.86</td>\n",
              "      <td>1</td>\n",
              "      <td>0</td>\n",
              "      <td>1</td>\n",
              "      <td>112542.58</td>\n",
              "      <td>0</td>\n",
              "    </tr>\n",
              "    <tr>\n",
              "      <th>2</th>\n",
              "      <td>15619304</td>\n",
              "      <td>502</td>\n",
              "      <td>France</td>\n",
              "      <td>Female</td>\n",
              "      <td>42.0</td>\n",
              "      <td>8</td>\n",
              "      <td>159660.80</td>\n",
              "      <td>3</td>\n",
              "      <td>1</td>\n",
              "      <td>0</td>\n",
              "      <td>113931.57</td>\n",
              "      <td>1</td>\n",
              "    </tr>\n",
              "    <tr>\n",
              "      <th>3</th>\n",
              "      <td>15701354</td>\n",
              "      <td>699</td>\n",
              "      <td>France</td>\n",
              "      <td>Female</td>\n",
              "      <td>39.0</td>\n",
              "      <td>1</td>\n",
              "      <td>0.00</td>\n",
              "      <td>2</td>\n",
              "      <td>0</td>\n",
              "      <td>0</td>\n",
              "      <td>93826.63</td>\n",
              "      <td>0</td>\n",
              "    </tr>\n",
              "    <tr>\n",
              "      <th>4</th>\n",
              "      <td>15737888</td>\n",
              "      <td>850</td>\n",
              "      <td>Spain</td>\n",
              "      <td>Female</td>\n",
              "      <td>43.0</td>\n",
              "      <td>2</td>\n",
              "      <td>125510.82</td>\n",
              "      <td>1</td>\n",
              "      <td>1</td>\n",
              "      <td>1</td>\n",
              "      <td>79084.10</td>\n",
              "      <td>0</td>\n",
              "    </tr>\n",
              "  </tbody>\n",
              "</table>\n",
              "</div>"
            ],
            "text/plain": [
              "   CustomerId  CredRate Geography  Gender   Age  Tenure    Balance  \\\n",
              "0    15634602       619    France  Female  42.0       2       0.00   \n",
              "1    15647311       608     Spain  Female  41.0       1   83807.86   \n",
              "2    15619304       502    France  Female  42.0       8  159660.80   \n",
              "3    15701354       699    France  Female  39.0       1       0.00   \n",
              "4    15737888       850     Spain  Female  43.0       2  125510.82   \n",
              "\n",
              "   Prod Number  HasCrCard  ActMem  EstimatedSalary  Exited  \n",
              "0            1          1       1        101348.88       1  \n",
              "1            1          0       1        112542.58       0  \n",
              "2            3          1       0        113931.57       1  \n",
              "3            2          0       0         93826.63       0  \n",
              "4            1          1       1         79084.10       0  "
            ]
          },
          "execution_count": 197,
          "metadata": {},
          "output_type": "execute_result"
        }
      ],
      "source": [
        "df.head()"
      ]
    },
    {
      "cell_type": "markdown",
      "metadata": {
        "id": "O6sxbeKwdZ4M"
      },
      "source": [
        "# 2."
      ]
    },
    {
      "cell_type": "code",
      "execution_count": null,
      "metadata": {
        "id": "JB4c_ExRdZ4M"
      },
      "outputs": [],
      "source": [
        "df[\"Age\"] = df[\"Age\"].fillna(df.Age.mode()[0])"
      ]
    },
    {
      "cell_type": "code",
      "execution_count": null,
      "metadata": {
        "id": "7xrNMp8KdZ4M"
      },
      "outputs": [],
      "source": [
        "df.EstimatedSalary = df.EstimatedSalary.fillna(df.EstimatedSalary.mean())"
      ]
    },
    {
      "cell_type": "code",
      "execution_count": null,
      "metadata": {
        "id": "Dv-Ze3IzdZ4N"
      },
      "outputs": [],
      "source": [
        "df.Gender = df.Gender.fillna(df.Gender.mode()[0])"
      ]
    },
    {
      "cell_type": "code",
      "execution_count": null,
      "metadata": {
        "id": "cAx2u8WodZ4N",
        "outputId": "535c2ef1-2aa8-44ba-abfc-c51d1e4ed05d"
      },
      "outputs": [
        {
          "name": "stdout",
          "output_type": "stream",
          "text": [
            "<class 'pandas.core.frame.DataFrame'>\n",
            "RangeIndex: 10000 entries, 0 to 9999\n",
            "Data columns (total 12 columns):\n",
            " #   Column           Non-Null Count  Dtype  \n",
            "---  ------           --------------  -----  \n",
            " 0   CustomerId       10000 non-null  int64  \n",
            " 1   CredRate         10000 non-null  int64  \n",
            " 2   Geography        10000 non-null  object \n",
            " 3   Gender           10000 non-null  object \n",
            " 4   Age              10000 non-null  float64\n",
            " 5   Tenure           10000 non-null  int64  \n",
            " 6   Balance          10000 non-null  float64\n",
            " 7   Prod Number      10000 non-null  int64  \n",
            " 8   HasCrCard        10000 non-null  int64  \n",
            " 9   ActMem           10000 non-null  int64  \n",
            " 10  EstimatedSalary  10000 non-null  float64\n",
            " 11  Exited           10000 non-null  int64  \n",
            "dtypes: float64(3), int64(7), object(2)\n",
            "memory usage: 937.6+ KB\n"
          ]
        }
      ],
      "source": [
        "df.info()"
      ]
    },
    {
      "cell_type": "markdown",
      "metadata": {
        "id": "pFNeh0a5dZ4O"
      },
      "source": [
        "# 3."
      ]
    },
    {
      "cell_type": "code",
      "execution_count": null,
      "metadata": {
        "id": "_CpHOcKZdZ4O"
      },
      "outputs": [],
      "source": [
        "df = df.rename(columns={'CredRate':'CreditScore', 'ActMem':'IsActiveMember', 'Prod Number':'NumOfProducts', 'Exited':'Churn'})"
      ]
    },
    {
      "cell_type": "markdown",
      "metadata": {
        "id": "07UmfZ9odZ4O"
      },
      "source": [
        "# 4."
      ]
    },
    {
      "cell_type": "code",
      "execution_count": null,
      "metadata": {
        "id": "PNHAPW5AdZ4O"
      },
      "outputs": [],
      "source": [
        "df = df.drop(['CustomerId'], axis=1)"
      ]
    },
    {
      "cell_type": "code",
      "execution_count": null,
      "metadata": {
        "id": "6_WZOqUZdZ4O"
      },
      "outputs": [],
      "source": [
        "df[['Geography','Gender','HasCrCard','Churn','IsActiveMember']] = df[['Geography','Gender','HasCrCard','Churn','IsActiveMember']].astype('category')"
      ]
    },
    {
      "cell_type": "code",
      "execution_count": null,
      "metadata": {
        "id": "wO9cweXndZ4O",
        "outputId": "13eb5655-a366-4c2c-9c8e-a2cd867cd7cc"
      },
      "outputs": [
        {
          "data": {
            "text/plain": [
              "CreditScore           int64\n",
              "Geography          category\n",
              "Gender             category\n",
              "Age                 float64\n",
              "Tenure                int64\n",
              "Balance             float64\n",
              "NumOfProducts         int64\n",
              "HasCrCard          category\n",
              "IsActiveMember     category\n",
              "EstimatedSalary     float64\n",
              "Churn              category\n",
              "dtype: object"
            ]
          },
          "execution_count": 205,
          "metadata": {},
          "output_type": "execute_result"
        }
      ],
      "source": [
        "df.dtypes"
      ]
    },
    {
      "cell_type": "code",
      "execution_count": null,
      "metadata": {
        "id": "iS_DZTk2dZ4O"
      },
      "outputs": [],
      "source": [
        "df.to_csv('new.csv', index=False)"
      ]
    },
    {
      "cell_type": "markdown",
      "metadata": {
        "id": "Mm19cEnwdZ4O"
      },
      "source": [
        "# 5.\n",
        "### (1)0.2945沒有、0.7055有"
      ]
    },
    {
      "cell_type": "code",
      "execution_count": null,
      "metadata": {
        "id": "utPleGdIdZ4P",
        "outputId": "6cd58de4-9188-4954-8da5-c584a10d56a1"
      },
      "outputs": [
        {
          "data": {
            "text/plain": [
              "HasCrCard\n",
              "0    0.2945\n",
              "1    0.7055\n",
              "dtype: float64"
            ]
          },
          "execution_count": 207,
          "metadata": {},
          "output_type": "execute_result"
        }
      ],
      "source": [
        "(df.groupby(['HasCrCard']).size())/10000"
      ]
    },
    {
      "cell_type": "markdown",
      "metadata": {
        "id": "WhqvLbDqdZ4P"
      },
      "source": [
        "### (2)churn rate流失率=0.2037"
      ]
    },
    {
      "cell_type": "code",
      "execution_count": null,
      "metadata": {
        "id": "ICfLWfAJdZ4P",
        "outputId": "d39355ce-4ffd-4ada-9db0-4bd9032ed784"
      },
      "outputs": [
        {
          "data": {
            "text/plain": [
              "Churn\n",
              "0    0.7963\n",
              "1    0.2037\n",
              "dtype: float64"
            ]
          },
          "execution_count": 208,
          "metadata": {},
          "output_type": "execute_result"
        }
      ],
      "source": [
        "(df.groupby(['Churn']).size())/10000"
      ]
    },
    {
      "cell_type": "markdown",
      "metadata": {
        "id": "o6X3wgPMdZ4P"
      },
      "source": [
        "\n",
        "### (3)0.5151是活躍的"
      ]
    },
    {
      "cell_type": "code",
      "execution_count": null,
      "metadata": {
        "id": "rZKXdtXvdZ4P",
        "outputId": "356241a9-e543-4dbb-c78b-3149a14cbe6b"
      },
      "outputs": [
        {
          "data": {
            "text/plain": [
              "IsActiveMember\n",
              "0    0.4849\n",
              "1    0.5151\n",
              "dtype: float64"
            ]
          },
          "execution_count": 209,
          "metadata": {},
          "output_type": "execute_result"
        }
      ],
      "source": [
        "(df.groupby(['IsActiveMember']).size())/10000"
      ]
    },
    {
      "cell_type": "markdown",
      "metadata": {
        "id": "vU8qWOwRdZ4P"
      },
      "source": [
        "### (4)"
      ]
    },
    {
      "cell_type": "code",
      "execution_count": null,
      "metadata": {
        "id": "5MCjYLOPdZ4P",
        "outputId": "380468d0-840b-4986-ed44-6d3cfc999fab"
      },
      "outputs": [
        {
          "data": {
            "text/html": [
              "<div>\n",
              "<style scoped>\n",
              "    .dataframe tbody tr th:only-of-type {\n",
              "        vertical-align: middle;\n",
              "    }\n",
              "\n",
              "    .dataframe tbody tr th {\n",
              "        vertical-align: top;\n",
              "    }\n",
              "\n",
              "    .dataframe thead th {\n",
              "        text-align: right;\n",
              "    }\n",
              "</style>\n",
              "<table border=\"1\" class=\"dataframe\">\n",
              "  <thead>\n",
              "    <tr style=\"text-align: right;\">\n",
              "      <th></th>\n",
              "      <th>CreditScore</th>\n",
              "      <th>Age</th>\n",
              "      <th>Tenure</th>\n",
              "      <th>Balance</th>\n",
              "      <th>NumOfProducts</th>\n",
              "      <th>EstimatedSalary</th>\n",
              "    </tr>\n",
              "    <tr>\n",
              "      <th>Churn</th>\n",
              "      <th></th>\n",
              "      <th></th>\n",
              "      <th></th>\n",
              "      <th></th>\n",
              "      <th></th>\n",
              "      <th></th>\n",
              "    </tr>\n",
              "  </thead>\n",
              "  <tbody>\n",
              "    <tr>\n",
              "      <th>0</th>\n",
              "      <td>651.853196</td>\n",
              "      <td>37.411277</td>\n",
              "      <td>5.033279</td>\n",
              "      <td>72745.296779</td>\n",
              "      <td>1.544267</td>\n",
              "      <td>99718.932023</td>\n",
              "    </tr>\n",
              "    <tr>\n",
              "      <th>1</th>\n",
              "      <td>645.351497</td>\n",
              "      <td>44.837997</td>\n",
              "      <td>4.932744</td>\n",
              "      <td>91108.539337</td>\n",
              "      <td>1.475209</td>\n",
              "      <td>101465.677531</td>\n",
              "    </tr>\n",
              "  </tbody>\n",
              "</table>\n",
              "</div>"
            ],
            "text/plain": [
              "       CreditScore        Age    Tenure       Balance  NumOfProducts  \\\n",
              "Churn                                                                  \n",
              "0       651.853196  37.411277  5.033279  72745.296779       1.544267   \n",
              "1       645.351497  44.837997  4.932744  91108.539337       1.475209   \n",
              "\n",
              "       EstimatedSalary  \n",
              "Churn                   \n",
              "0         99718.932023  \n",
              "1        101465.677531  "
            ]
          },
          "execution_count": 210,
          "metadata": {},
          "output_type": "execute_result"
        }
      ],
      "source": [
        "result = df.groupby([\"Churn\"]).mean()\n",
        "result"
      ]
    },
    {
      "cell_type": "markdown",
      "metadata": {
        "id": "OpbRwe-zdZ4P"
      },
      "source": [
        "### (5)"
      ]
    },
    {
      "cell_type": "code",
      "execution_count": null,
      "metadata": {
        "id": "sC-kAVkhdZ4P",
        "outputId": "854f5bc9-c1ea-4366-8b96-bc9681cb6bd0"
      },
      "outputs": [
        {
          "data": {
            "text/html": [
              "<div>\n",
              "<style scoped>\n",
              "    .dataframe tbody tr th:only-of-type {\n",
              "        vertical-align: middle;\n",
              "    }\n",
              "\n",
              "    .dataframe tbody tr th {\n",
              "        vertical-align: top;\n",
              "    }\n",
              "\n",
              "    .dataframe thead th {\n",
              "        text-align: right;\n",
              "    }\n",
              "</style>\n",
              "<table border=\"1\" class=\"dataframe\">\n",
              "  <thead>\n",
              "    <tr style=\"text-align: right;\">\n",
              "      <th></th>\n",
              "      <th>CreditScore</th>\n",
              "      <th>Age</th>\n",
              "      <th>Tenure</th>\n",
              "      <th>Balance</th>\n",
              "      <th>NumOfProducts</th>\n",
              "      <th>EstimatedSalary</th>\n",
              "    </tr>\n",
              "  </thead>\n",
              "  <tbody>\n",
              "    <tr>\n",
              "      <th>CreditScore</th>\n",
              "      <td>1.000000</td>\n",
              "      <td>-0.004179</td>\n",
              "      <td>0.000842</td>\n",
              "      <td>0.006268</td>\n",
              "      <td>0.012238</td>\n",
              "      <td>-0.001352</td>\n",
              "    </tr>\n",
              "    <tr>\n",
              "      <th>Age</th>\n",
              "      <td>-0.004179</td>\n",
              "      <td>1.000000</td>\n",
              "      <td>-0.009996</td>\n",
              "      <td>0.028141</td>\n",
              "      <td>-0.030590</td>\n",
              "      <td>-0.007215</td>\n",
              "    </tr>\n",
              "    <tr>\n",
              "      <th>Tenure</th>\n",
              "      <td>0.000842</td>\n",
              "      <td>-0.009996</td>\n",
              "      <td>1.000000</td>\n",
              "      <td>-0.012254</td>\n",
              "      <td>0.013444</td>\n",
              "      <td>0.007407</td>\n",
              "    </tr>\n",
              "    <tr>\n",
              "      <th>Balance</th>\n",
              "      <td>0.006268</td>\n",
              "      <td>0.028141</td>\n",
              "      <td>-0.012254</td>\n",
              "      <td>1.000000</td>\n",
              "      <td>-0.304180</td>\n",
              "      <td>0.013129</td>\n",
              "    </tr>\n",
              "    <tr>\n",
              "      <th>NumOfProducts</th>\n",
              "      <td>0.012238</td>\n",
              "      <td>-0.030590</td>\n",
              "      <td>0.013444</td>\n",
              "      <td>-0.304180</td>\n",
              "      <td>1.000000</td>\n",
              "      <td>0.014132</td>\n",
              "    </tr>\n",
              "    <tr>\n",
              "      <th>EstimatedSalary</th>\n",
              "      <td>-0.001352</td>\n",
              "      <td>-0.007215</td>\n",
              "      <td>0.007407</td>\n",
              "      <td>0.013129</td>\n",
              "      <td>0.014132</td>\n",
              "      <td>1.000000</td>\n",
              "    </tr>\n",
              "  </tbody>\n",
              "</table>\n",
              "</div>"
            ],
            "text/plain": [
              "                 CreditScore       Age    Tenure   Balance  NumOfProducts  \\\n",
              "CreditScore         1.000000 -0.004179  0.000842  0.006268       0.012238   \n",
              "Age                -0.004179  1.000000 -0.009996  0.028141      -0.030590   \n",
              "Tenure              0.000842 -0.009996  1.000000 -0.012254       0.013444   \n",
              "Balance             0.006268  0.028141 -0.012254  1.000000      -0.304180   \n",
              "NumOfProducts       0.012238 -0.030590  0.013444 -0.304180       1.000000   \n",
              "EstimatedSalary    -0.001352 -0.007215  0.007407  0.013129       0.014132   \n",
              "\n",
              "                 EstimatedSalary  \n",
              "CreditScore            -0.001352  \n",
              "Age                    -0.007215  \n",
              "Tenure                  0.007407  \n",
              "Balance                 0.013129  \n",
              "NumOfProducts           0.014132  \n",
              "EstimatedSalary         1.000000  "
            ]
          },
          "execution_count": 211,
          "metadata": {},
          "output_type": "execute_result"
        }
      ],
      "source": [
        "cor = df.corr()\n",
        "cor"
      ]
    },
    {
      "cell_type": "code",
      "execution_count": null,
      "metadata": {
        "id": "mvPxi_ADdZ4P",
        "outputId": "7c15de48-0e83-405d-8b35-4792134f8315"
      },
      "outputs": [
        {
          "data": {
            "text/plain": [
              "<AxesSubplot:>"
            ]
          },
          "execution_count": 212,
          "metadata": {},
          "output_type": "execute_result"
        },
        {
          "data": {
            "image/png": "[encoded data removed]",
            "text/plain": [
              "<Figure size 432x288 with 2 Axes>"
            ]
          },
          "metadata": {
            "needs_background": "light"
          },
          "output_type": "display_data"
        }
      ],
      "source": [
        "import numpy as np\n",
        "import seaborn as sns\n",
        "sns.heatmap(cor, vmin=0, vmax=1, cmap=\"RdPu_r\", annot=True)"
      ]
    },
    {
      "cell_type": "markdown",
      "metadata": {
        "id": "o2NILYZPdZ4Q"
      },
      "source": [
        "# 6.\n",
        "### (1)"
      ]
    },
    {
      "cell_type": "code",
      "execution_count": null,
      "metadata": {
        "id": "UfH119KydZ4Q",
        "outputId": "e138a39d-81be-432c-c6af-be483ac084f7"
      },
      "outputs": [
        {
          "data": {
            "image/png": "[encoded data removed]",
            "text/plain": [
              "<Figure size 432x288 with 1 Axes>"
            ]
          },
          "metadata": {
            "needs_background": "light"
          },
          "output_type": "display_data"
        }
      ],
      "source": [
        "ax = sns.countplot(y=\"Gender\", hue=\"Churn\", data=df, palette=\"Set2\").set_title('Customer Churn Distribution by Gender')\n",
        "\n",
        "import matplotlib.pyplot as plt\n",
        "plt.legend([\"No Churn\", \"Churn\"], title=\"Churn\")\n",
        "plt.show()"
      ]
    },
    {
      "cell_type": "markdown",
      "metadata": {
        "id": "K99nzry4dZ4Q"
      },
      "source": [
        "### (2)"
      ]
    },
    {
      "cell_type": "code",
      "execution_count": null,
      "metadata": {
        "id": "VhMnss3edZ4Q",
        "outputId": "2c83465f-6e3f-4137-fbec-1cc80afc3420"
      },
      "outputs": [
        {
          "data": {
            "image/png": "[encoded data removed]",
            "text/plain": [
              "<Figure size 432x288 with 1 Axes>"
            ]
          },
          "metadata": {
            "needs_background": "light"
          },
          "output_type": "display_data"
        }
      ],
      "source": [
        "ax = sns.countplot(y=\"Geography\", hue=\"Churn\", data=df, palette=\"Set2\").set_title('Customer Churn Distribution by Geography')\n",
        "plt.legend([\"No Churn\", \"Churn\"], title=\"Churn\")\n",
        "plt.show()"
      ]
    },
    {
      "cell_type": "markdown",
      "metadata": {
        "id": "Hvf5KJIodZ4Q"
      },
      "source": [
        "### (3)"
      ]
    },
    {
      "cell_type": "code",
      "execution_count": null,
      "metadata": {
        "id": "w5vEAy9SdZ4Q",
        "outputId": "1c52d30a-bbb0-4951-837a-cb0448426bb4"
      },
      "outputs": [
        {
          "data": {
            "image/png": "[encoded data removed]",
            "text/plain": [
              "<Figure size 432x288 with 1 Axes>"
            ]
          },
          "metadata": {
            "needs_background": "light"
          },
          "output_type": "display_data"
        }
      ],
      "source": [
        "# sns.kdeplot(x=\"Age\", y=\"Churn\", data=df, shade=True)\n",
        "# sns.kdeplot(x=\"Age\", Churn, data=df, shade=True)\n",
        "sns.kdeplot(x=\"Age\", hue=\"Churn\", data=df, shade=True)\n",
        "\n",
        "plt.title(\"Customer Age - churn vs no churn\")\n",
        "plt.legend([\"churn\",'no churn'])\n",
        "plt.show()"
      ]
    },
    {
      "cell_type": "code",
      "execution_count": null,
      "metadata": {
        "id": "hxcH1OVKdZ4Q",
        "outputId": "ac8ad1e3-cad2-4ae1-bdc9-47865a678981"
      },
      "outputs": [
        {
          "data": {
            "image/png": "[encoded data removed]",
            "text/plain": [
              "<Figure size 432x288 with 1 Axes>"
            ]
          },
          "metadata": {
            "needs_background": "light"
          },
          "output_type": "display_data"
        }
      ],
      "source": [
        "sns.kdeplot(x=\"CreditScore\", hue=\"Churn\", data=df, shade=True)\n",
        "\n",
        "plt.title(\"Customer CreditScore - churn vs no churn\")\n",
        "plt.legend([\"churn\",'no churn'])\n",
        "plt.show()"
      ]
    }
  ],
  "metadata": {
    "kernelspec": {
      "display_name": "Python 3",
      "language": "python",
      "name": "python3"
    },
    "language_info": {
      "codemirror_mode": {
        "name": "ipython",
        "version": 3
      },
      "file_extension": ".py",
      "mimetype": "text/x-python",
      "name": "python",
      "nbconvert_exporter": "python",
      "pygments_lexer": "ipython3",
      "version": "3.8.5"
    },
    "colab": {
      "provenance": [],
      "include_colab_link": true
    }
  },
  "nbformat": 4,
  "nbformat_minor": 0
}