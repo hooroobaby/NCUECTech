{
  "cells": [
    {
      "cell_type": "markdown",
      "metadata": {
        "id": "view-in-github",
        "colab_type": "text"
      },
      "source": [
        "<a href=\"https://colab.research.google.com/github/hooroobaby/NCUECTech/blob/main/ECT_HW6_107403037.ipynb\" target=\"_parent\"><img src=\"https://colab.research.google.com/assets/colab-badge.svg\" alt=\"Open In Colab\"/></a>"
      ]
    },
    {
      "cell_type": "markdown",
      "metadata": {
        "id": "2QCbTZqXcY5I"
      },
      "source": [
        "# 第一部分：Predicting Performance\n",
        "## 分類任務：根據一個人的相關資訊判斷此人 10 年內是否有罹患心臟病的風險(TenYearCHD)"
      ]
    },
    {
      "cell_type": "markdown",
      "metadata": {
        "id": "hj7SjQk4cY5J"
      },
      "source": [
        "# 1."
      ]
    },
    {
      "cell_type": "code",
      "execution_count": null,
      "metadata": {
        "id": "tqUq6XAicY5J",
        "outputId": "11aef96a-cb93-4249-94b0-ea650388bd49"
      },
      "outputs": [
        {
          "data": {
            "text/html": [
              "<div>\n",
              "<style scoped>\n",
              "    .dataframe tbody tr th:only-of-type {\n",
              "        vertical-align: middle;\n",
              "    }\n",
              "\n",
              "    .dataframe tbody tr th {\n",
              "        vertical-align: top;\n",
              "    }\n",
              "\n",
              "    .dataframe thead th {\n",
              "        text-align: right;\n",
              "    }\n",
              "</style>\n",
              "<table border=\"1\" class=\"dataframe\">\n",
              "  <thead>\n",
              "    <tr style=\"text-align: right;\">\n",
              "      <th></th>\n",
              "      <th>male</th>\n",
              "      <th>age</th>\n",
              "      <th>education</th>\n",
              "      <th>currentSmoker</th>\n",
              "      <th>cigsPerDay</th>\n",
              "      <th>BPMeds</th>\n",
              "      <th>prevalentStroke</th>\n",
              "      <th>prevalentHyp</th>\n",
              "      <th>diabetes</th>\n",
              "      <th>totChol</th>\n",
              "      <th>sysBP</th>\n",
              "      <th>diaBP</th>\n",
              "      <th>BMI</th>\n",
              "      <th>heartRate</th>\n",
              "      <th>glucose</th>\n",
              "      <th>TenYearCHD</th>\n",
              "    </tr>\n",
              "  </thead>\n",
              "  <tbody>\n",
              "    <tr>\n",
              "      <th>0</th>\n",
              "      <td>1</td>\n",
              "      <td>0.184211</td>\n",
              "      <td>0.333333</td>\n",
              "      <td>1</td>\n",
              "      <td>0.428571</td>\n",
              "      <td>0</td>\n",
              "      <td>0</td>\n",
              "      <td>0</td>\n",
              "      <td>0</td>\n",
              "      <td>0.176591</td>\n",
              "      <td>0.191489</td>\n",
              "      <td>0.402116</td>\n",
              "      <td>0.190257</td>\n",
              "      <td>0.323232</td>\n",
              "      <td>0.090395</td>\n",
              "      <td>0</td>\n",
              "    </tr>\n",
              "    <tr>\n",
              "      <th>1</th>\n",
              "      <td>1</td>\n",
              "      <td>0.736842</td>\n",
              "      <td>0.000000</td>\n",
              "      <td>0</td>\n",
              "      <td>0.000000</td>\n",
              "      <td>0</td>\n",
              "      <td>0</td>\n",
              "      <td>0</td>\n",
              "      <td>0</td>\n",
              "      <td>0.262834</td>\n",
              "      <td>0.170213</td>\n",
              "      <td>0.328042</td>\n",
              "      <td>0.221037</td>\n",
              "      <td>0.161616</td>\n",
              "      <td>0.107345</td>\n",
              "      <td>0</td>\n",
              "    </tr>\n",
              "    <tr>\n",
              "      <th>2</th>\n",
              "      <td>0</td>\n",
              "      <td>0.157895</td>\n",
              "      <td>0.666667</td>\n",
              "      <td>1</td>\n",
              "      <td>0.500000</td>\n",
              "      <td>0</td>\n",
              "      <td>0</td>\n",
              "      <td>0</td>\n",
              "      <td>0</td>\n",
              "      <td>0.104723</td>\n",
              "      <td>0.125296</td>\n",
              "      <td>0.296296</td>\n",
              "      <td>0.201406</td>\n",
              "      <td>0.242424</td>\n",
              "      <td>0.121469</td>\n",
              "      <td>0</td>\n",
              "    </tr>\n",
              "    <tr>\n",
              "      <th>3</th>\n",
              "      <td>0</td>\n",
              "      <td>0.868421</td>\n",
              "      <td>0.333333</td>\n",
              "      <td>0</td>\n",
              "      <td>0.000000</td>\n",
              "      <td>0</td>\n",
              "      <td>0</td>\n",
              "      <td>1</td>\n",
              "      <td>0</td>\n",
              "      <td>0.293634</td>\n",
              "      <td>0.309693</td>\n",
              "      <td>0.507937</td>\n",
              "      <td>0.344401</td>\n",
              "      <td>0.464646</td>\n",
              "      <td>0.112994</td>\n",
              "      <td>1</td>\n",
              "    </tr>\n",
              "    <tr>\n",
              "      <th>4</th>\n",
              "      <td>0</td>\n",
              "      <td>0.947368</td>\n",
              "      <td>0.666667</td>\n",
              "      <td>1</td>\n",
              "      <td>0.285714</td>\n",
              "      <td>0</td>\n",
              "      <td>0</td>\n",
              "      <td>1</td>\n",
              "      <td>0</td>\n",
              "      <td>0.297741</td>\n",
              "      <td>0.352246</td>\n",
              "      <td>0.486772</td>\n",
              "      <td>0.390208</td>\n",
              "      <td>0.363636</td>\n",
              "      <td>0.124294</td>\n",
              "      <td>1</td>\n",
              "    </tr>\n",
              "  </tbody>\n",
              "</table>\n",
              "</div>"
            ],
            "text/plain": [
              "   male       age  education  currentSmoker  cigsPerDay  BPMeds  \\\n",
              "0     1  0.184211   0.333333              1    0.428571       0   \n",
              "1     1  0.736842   0.000000              0    0.000000       0   \n",
              "2     0  0.157895   0.666667              1    0.500000       0   \n",
              "3     0  0.868421   0.333333              0    0.000000       0   \n",
              "4     0  0.947368   0.666667              1    0.285714       0   \n",
              "\n",
              "   prevalentStroke  prevalentHyp  diabetes   totChol     sysBP     diaBP  \\\n",
              "0                0             0         0  0.176591  0.191489  0.402116   \n",
              "1                0             0         0  0.262834  0.170213  0.328042   \n",
              "2                0             0         0  0.104723  0.125296  0.296296   \n",
              "3                0             1         0  0.293634  0.309693  0.507937   \n",
              "4                0             1         0  0.297741  0.352246  0.486772   \n",
              "\n",
              "        BMI  heartRate   glucose  TenYearCHD  \n",
              "0  0.190257   0.323232  0.090395           0  \n",
              "1  0.221037   0.161616  0.107345           0  \n",
              "2  0.201406   0.242424  0.121469           0  \n",
              "3  0.344401   0.464646  0.112994           1  \n",
              "4  0.390208   0.363636  0.124294           1  "
            ]
          },
          "execution_count": 97,
          "metadata": {},
          "output_type": "execute_result"
        }
      ],
      "source": [
        "import pandas as pd\n",
        "df = pd.read_csv('framingham_train.csv')\n",
        "df.head()"
      ]
    },
    {
      "cell_type": "code",
      "execution_count": null,
      "metadata": {
        "id": "KvUL7g_RcY5K"
      },
      "outputs": [],
      "source": [
        "X = df[['male','age','education','currentSmoker','cigsPerDay','BPMeds','prevalentStroke','prevalentHyp','diabetes','totChol','sysBP','diaBP','BMI','heartRate','glucose']]\n",
        "y = df[['TenYearCHD']]"
      ]
    },
    {
      "cell_type": "code",
      "execution_count": null,
      "metadata": {
        "id": "evIXNFwUcY5K",
        "outputId": "a397e167-595c-4b99-dd51-65778c8b4ab9"
      },
      "outputs": [
        {
          "name": "stderr",
          "output_type": "stream",
          "text": [
            "C:\\Users\\user\\anaconda3\\lib\\site-packages\\sklearn\\utils\\validation.py:72: DataConversionWarning: A column-vector y was passed when a 1d array was expected. Please change the shape of y to (n_samples, ), for example using ravel().\n",
            "  return f(**kwargs)\n"
          ]
        },
        {
          "data": {
            "text/plain": [
              "LogisticRegression()"
            ]
          },
          "execution_count": 99,
          "metadata": {},
          "output_type": "execute_result"
        }
      ],
      "source": [
        "from sklearn.linear_model import LogisticRegression\n",
        "model = LogisticRegression(solver='lbfgs')\n",
        "model.fit(X, y)"
      ]
    },
    {
      "cell_type": "code",
      "execution_count": null,
      "metadata": {
        "id": "bsezJjdWcY5K",
        "outputId": "098adf3e-d862-417f-cf32-f2911febd223"
      },
      "outputs": [
        {
          "name": "stdout",
          "output_type": "stream",
          "text": [
            "訓練資料Accuracy： 0.8522975929978118\n"
          ]
        }
      ],
      "source": [
        "print(\"訓練資料Accuracy：\", model.score(X,y))"
      ]
    },
    {
      "cell_type": "markdown",
      "metadata": {
        "id": "NozlDE5wcY5L"
      },
      "source": [
        "# 2."
      ]
    },
    {
      "cell_type": "code",
      "execution_count": null,
      "metadata": {
        "id": "14BnW4nqcY5L"
      },
      "outputs": [],
      "source": [
        "sp1 = pd.read_csv('test_sample_1.csv')\n",
        "sp4 = pd.read_csv('test_sample_4.csv')\n",
        "sp5 = pd.read_csv('test_sample_5.csv')"
      ]
    },
    {
      "cell_type": "code",
      "execution_count": null,
      "metadata": {
        "id": "DO56zkGScY5L",
        "outputId": "2975aaba-4523-4f61-f7c1-1da2a694a727"
      },
      "outputs": [
        {
          "data": {
            "text/html": [
              "<div>\n",
              "<style scoped>\n",
              "    .dataframe tbody tr th:only-of-type {\n",
              "        vertical-align: middle;\n",
              "    }\n",
              "\n",
              "    .dataframe tbody tr th {\n",
              "        vertical-align: top;\n",
              "    }\n",
              "\n",
              "    .dataframe thead th {\n",
              "        text-align: right;\n",
              "    }\n",
              "</style>\n",
              "<table border=\"1\" class=\"dataframe\">\n",
              "  <thead>\n",
              "    <tr style=\"text-align: right;\">\n",
              "      <th></th>\n",
              "      <th>Pr[X&gt;=z]</th>\n",
              "      <th>z</th>\n",
              "    </tr>\n",
              "  </thead>\n",
              "  <tbody>\n",
              "    <tr>\n",
              "      <th>0</th>\n",
              "      <td>0.1%</td>\n",
              "      <td>3.09</td>\n",
              "    </tr>\n",
              "    <tr>\n",
              "      <th>1</th>\n",
              "      <td>0.5%</td>\n",
              "      <td>2.58</td>\n",
              "    </tr>\n",
              "    <tr>\n",
              "      <th>2</th>\n",
              "      <td>1%</td>\n",
              "      <td>2.33</td>\n",
              "    </tr>\n",
              "    <tr>\n",
              "      <th>3</th>\n",
              "      <td>5%</td>\n",
              "      <td>1.65</td>\n",
              "    </tr>\n",
              "    <tr>\n",
              "      <th>4</th>\n",
              "      <td>10%</td>\n",
              "      <td>1.28</td>\n",
              "    </tr>\n",
              "    <tr>\n",
              "      <th>5</th>\n",
              "      <td>20%</td>\n",
              "      <td>0.84</td>\n",
              "    </tr>\n",
              "    <tr>\n",
              "      <th>6</th>\n",
              "      <td>40%</td>\n",
              "      <td>0.25</td>\n",
              "    </tr>\n",
              "  </tbody>\n",
              "</table>\n",
              "</div>"
            ],
            "text/plain": [
              "  Pr[X>=z]     z\n",
              "0     0.1%  3.09\n",
              "1     0.5%  2.58\n",
              "2       1%  2.33\n",
              "3       5%  1.65\n",
              "4      10%  1.28\n",
              "5      20%  0.84\n",
              "6      40%  0.25"
            ]
          },
          "execution_count": 102,
          "metadata": {},
          "output_type": "execute_result"
        }
      ],
      "source": [
        "z = pd.DataFrame({\n",
        "    \"Pr[X>=z]\":['0.1%','0.5%','1%','5%','10%','20%','40%'],\n",
        "    \"z\":[3.09,2.58,2.33,1.65,1.28,0.84,0.25]\n",
        "})\n",
        "# z.set_index(\"Pr[X>=z]\",inplace = True)\n",
        "z.columns = ['Pr[X>=z]','z']\n",
        "z.groupby(\"Pr[X>=z]\")\n",
        "z"
      ]
    },
    {
      "cell_type": "code",
      "execution_count": null,
      "metadata": {
        "id": "jDgDyIv3cY5L"
      },
      "outputs": [],
      "source": [
        "c80 = int(((100-80)/2))\n",
        "c80 = str(c80)+\"%\"\n",
        "# z80 = z.loc[c80].values\n",
        "fil = z[z[\"Pr[X>=z]\"]==c80]\n",
        "z80 = fil['z'].values[0]\n",
        "\n",
        "c90 = int(((100-90)/2))\n",
        "c90 = str(c90)+\"%\"\n",
        "# z90 = z.loc[c90].values\n",
        "# z90\n",
        "fil = z[z[\"Pr[X>=z]\"]==c90]\n",
        "z90 = fil['z'].values[0]\n",
        "\n",
        "c99 = ((100-99)/2)\n",
        "c99 = str(c99)+\"%\"\n",
        "fil = z[z[\"Pr[X>=z]\"]==c99]\n",
        "z99 = fil['z'].values[0]\n",
        "# type(c80)"
      ]
    },
    {
      "cell_type": "code",
      "execution_count": null,
      "metadata": {
        "id": "pgNWh-yicY5L"
      },
      "outputs": [],
      "source": [
        "X1 = sp1[['male','age','education','currentSmoker','cigsPerDay','BPMeds','prevalentStroke','prevalentHyp','diabetes','totChol','sysBP','diaBP','BMI','heartRate','glucose']]\n",
        "y1 = sp1[['TenYearCHD']]"
      ]
    },
    {
      "cell_type": "markdown",
      "metadata": {
        "id": "YHfplaP8cY5L"
      },
      "source": [
        "### test_sample_1.csv"
      ]
    },
    {
      "cell_type": "code",
      "execution_count": null,
      "metadata": {
        "id": "WnlASybhcY5L"
      },
      "outputs": [],
      "source": [
        "f = model.score(X1, y1)\n",
        "N1 = len(sp1.index)"
      ]
    },
    {
      "cell_type": "code",
      "execution_count": null,
      "metadata": {
        "id": "AxgWbdwWcY5L"
      },
      "outputs": [],
      "source": [
        "import math\n",
        "sqrt1 = math.sqrt((f/N1)-(f*f/N1)+((z80*z80)/(4*N1*N1)))\n",
        "\n",
        "l801 = (f+((z80*z80)/(2*N1))-z80*sqrt1)/(1+(z80*z80)/N1)\n",
        "u801 = (f+((z80*z80)/(2*N1))+z80*sqrt1)/(1+(z80*z80)/N1)"
      ]
    },
    {
      "cell_type": "code",
      "execution_count": null,
      "metadata": {
        "id": "rXgzD68WcY5L"
      },
      "outputs": [],
      "source": [
        "sqrt1 = math.sqrt((f/N1)-(f*f/N1)+((z90*z90)/(4*N1*N1)))\n",
        "\n",
        "l901 = (f+((z90*z90)/(2*N1))-z90*sqrt1)/(1+(z90*z90)/N1)\n",
        "u901 = (f+((z90*z90)/(2*N1))+z90*sqrt1)/(1+(z90*z90)/N1)"
      ]
    },
    {
      "cell_type": "code",
      "execution_count": null,
      "metadata": {
        "id": "H2dPQypMcY5M"
      },
      "outputs": [],
      "source": [
        "sqrt1 = math.sqrt((f/N1)-(f*f/N1)+((z99*z99)/(4*N1*N1)))\n",
        "\n",
        "l991 = (f+((z99*z99)/(2*N1))-z99*sqrt1)/(1+(z99*z99)/N1)\n",
        "u991 = (f+((z99*z99)/(2*N1))+z99*sqrt1)/(1+(z99*z99)/N1)"
      ]
    },
    {
      "cell_type": "markdown",
      "metadata": {
        "id": "j1VkJXmUcY5M"
      },
      "source": [
        "### test_sample_4.csv"
      ]
    },
    {
      "cell_type": "code",
      "execution_count": null,
      "metadata": {
        "id": "weII0jM2cY5M"
      },
      "outputs": [],
      "source": [
        "X4 = sp4[['male','age','education','currentSmoker','cigsPerDay','BPMeds','prevalentStroke','prevalentHyp','diabetes','totChol','sysBP','diaBP','BMI','heartRate','glucose']]\n",
        "y4 = sp4[['TenYearCHD']]\n",
        "f = model.score(X4, y4)\n",
        "N4 = len(sp4.index)"
      ]
    },
    {
      "cell_type": "code",
      "execution_count": null,
      "metadata": {
        "id": "PtKsTSxccY5M"
      },
      "outputs": [],
      "source": [
        "sqrt1 = math.sqrt((f/N4)-(f*f/N4)+((z80*z80)/(4*N4*N4)))\n",
        "l804 = (f+((z80*z80)/(2*N4))-z80*sqrt1)/(1+(z80*z80)/N4)\n",
        "u804 = (f+((z80*z80)/(2*N4))+z80*sqrt1)/(1+(z80*z80)/N4)\n",
        "\n",
        "sqrt1 = math.sqrt((f/N4)-(f*f/N4)+((z90*z90)/(4*N4*N4)))\n",
        "l904 = (f+((z90*z90)/(2*N4))-z90*sqrt1)/(1+(z90*z90)/N4)\n",
        "u904 = (f+((z90*z90)/(2*N4))+z90*sqrt1)/(1+(z90*z90)/N4)\n",
        "\n",
        "sqrt1 = math.sqrt((f/N4)-(f*f/N4)+((z99*z99)/(4*N4*N4)))\n",
        "l994 = (f+((z99*z99)/(2*N4))-z99*sqrt1)/(1+(z99*z99)/N4)\n",
        "u994 = (f+((z99*z99)/(2*N4))+z99*sqrt1)/(1+(z99*z99)/N4)"
      ]
    },
    {
      "cell_type": "markdown",
      "metadata": {
        "id": "yEyPzf4ZcY5M"
      },
      "source": [
        "### test_sample_5.csv"
      ]
    },
    {
      "cell_type": "code",
      "execution_count": null,
      "metadata": {
        "id": "_6fGFdJEcY5M"
      },
      "outputs": [],
      "source": [
        "X5 = sp5[['male','age','education','currentSmoker','cigsPerDay','BPMeds','prevalentStroke','prevalentHyp','diabetes','totChol','sysBP','diaBP','BMI','heartRate','glucose']]\n",
        "y5 = sp5[['TenYearCHD']]\n",
        "f = model.score(X5, y5)\n",
        "N5 = len(sp5.index)"
      ]
    },
    {
      "cell_type": "code",
      "execution_count": null,
      "metadata": {
        "id": "OVfGryIScY5M",
        "outputId": "8ce1837f-6a28-4e6e-b113-fb536ac928eb"
      },
      "outputs": [
        {
          "data": {
            "text/plain": [
              "0.8787394711298374"
            ]
          },
          "execution_count": 112,
          "metadata": {},
          "output_type": "execute_result"
        }
      ],
      "source": [
        "sqrt1 = math.sqrt((f/N5)-(f*f/N5)+((z80*z80)/(4*N5*N5)))\n",
        "l805 = (f+((z80*z80)/(2*N5))-z80*sqrt1)/(1+(z80*z80)/N5)\n",
        "u805 = (f+((z80*z80)/(2*N5))+z80*sqrt1)/(1+(z80*z80)/N5)\n",
        "\n",
        "sqrt1 = math.sqrt((f/N5)-(f*f/N5)+((z90*z90)/(4*N5*N5)))\n",
        "l905 = (f+((z90*z90)/(2*N5))-z90*sqrt1)/(1+(z90*z90)/N5)\n",
        "u905 = (f+((z90*z90)/(2*N5))+z90*sqrt1)/(1+(z90*z90)/N5)\n",
        "\n",
        "sqrt1 = math.sqrt((f/N5)-(f*f/N5)+((z99*z99)/(4*N5*N5)))\n",
        "l995 = (f+((z99*z99)/(2*N5))-z99*sqrt1)/(1+(z99*z99)/N5)\n",
        "u995 = (f+((z99*z99)/(2*N5))+z99*sqrt1)/(1+(z99*z99)/N5)\n",
        "u995"
      ]
    },
    {
      "cell_type": "code",
      "execution_count": null,
      "metadata": {
        "id": "ocS-7Nw1cY5M",
        "outputId": "53225859-56bf-4aa2-c630-103d6e504b51"
      },
      "outputs": [
        {
          "data": {
            "text/html": [
              "<div>\n",
              "<style scoped>\n",
              "    .dataframe tbody tr th:only-of-type {\n",
              "        vertical-align: middle;\n",
              "    }\n",
              "\n",
              "    .dataframe tbody tr th {\n",
              "        vertical-align: top;\n",
              "    }\n",
              "\n",
              "    .dataframe thead th {\n",
              "        text-align: right;\n",
              "    }\n",
              "</style>\n",
              "<table border=\"1\" class=\"dataframe\">\n",
              "  <thead>\n",
              "    <tr style=\"text-align: right;\">\n",
              "      <th></th>\n",
              "      <th></th>\n",
              "      <th>80%</th>\n",
              "      <th>90%</th>\n",
              "      <th>99%</th>\n",
              "    </tr>\n",
              "  </thead>\n",
              "  <tbody>\n",
              "    <tr>\n",
              "      <th rowspan=\"2\" valign=\"top\">100</th>\n",
              "      <th>lower</th>\n",
              "      <td>0.889941</td>\n",
              "      <td>0.875531</td>\n",
              "      <td>0.834004</td>\n",
              "    </tr>\n",
              "    <tr>\n",
              "      <th>upper</th>\n",
              "      <td>0.956196</td>\n",
              "      <td>0.961676</td>\n",
              "      <td>0.972323</td>\n",
              "    </tr>\n",
              "    <tr>\n",
              "      <th rowspan=\"2\" valign=\"top\">1000</th>\n",
              "      <th>lower</th>\n",
              "      <td>0.842246</td>\n",
              "      <td>0.837764</td>\n",
              "      <td>0.826075</td>\n",
              "    </tr>\n",
              "    <tr>\n",
              "      <th>upper</th>\n",
              "      <td>0.870586</td>\n",
              "      <td>0.874298</td>\n",
              "      <td>0.883204</td>\n",
              "    </tr>\n",
              "    <tr>\n",
              "      <th rowspan=\"2\" valign=\"top\">1800</th>\n",
              "      <th>lower</th>\n",
              "      <td>0.848059</td>\n",
              "      <td>0.844807</td>\n",
              "      <td>0.836394</td>\n",
              "    </tr>\n",
              "    <tr>\n",
              "      <th>upper</th>\n",
              "      <td>0.869066</td>\n",
              "      <td>0.871887</td>\n",
              "      <td>0.878739</td>\n",
              "    </tr>\n",
              "  </tbody>\n",
              "</table>\n",
              "</div>"
            ],
            "text/plain": [
              "                 80%       90%       99%\n",
              "100  lower  0.889941  0.875531  0.834004\n",
              "     upper  0.956196  0.961676  0.972323\n",
              "1000 lower  0.842246  0.837764  0.826075\n",
              "     upper  0.870586  0.874298  0.883204\n",
              "1800 lower  0.848059  0.844807  0.836394\n",
              "     upper  0.869066  0.871887  0.878739"
            ]
          },
          "execution_count": 113,
          "metadata": {},
          "output_type": "execute_result"
        }
      ],
      "source": [
        "import numpy as np\n",
        "tuples = [\n",
        "   (N1,\"lower\"), (N1,\"upper\"),\n",
        "   (N4,\"lower\"), (N4,\"upper\"),\n",
        "   (N5,\"lower\"), (N5,\"upper\")\n",
        "]\n",
        "index = pd.MultiIndex.from_tuples(tuples)\n",
        "values = [[l801, l901, l991],\n",
        "          [u801, u901, u991],\n",
        "          [l804, l904, l994],\n",
        "          [u804, u904, u994],\n",
        "          [l805, l905, l995],\n",
        "          [u805, u905, u995]]\n",
        "df = pd.DataFrame(values, columns=['80%', '90%', '99%'], index=index)\n",
        "df"
      ]
    },
    {
      "cell_type": "markdown",
      "metadata": {
        "id": "oAuodfBHcY5M"
      },
      "source": [
        "# 3."
      ]
    },
    {
      "cell_type": "code",
      "execution_count": null,
      "metadata": {
        "id": "fDgf1Z8hcY5M",
        "outputId": "881d3f3d-4179-4a35-bdb9-0fb9991fc87d"
      },
      "outputs": [
        {
          "data": {
            "image/png": "[encoded data removed]",
            "text/plain": [
              "<Figure size 432x288 with 1 Axes>"
            ]
          },
          "metadata": {
            "needs_background": "light"
          },
          "output_type": "display_data"
        }
      ],
      "source": [
        "import matplotlib.pyplot as plt\n",
        "x = [N1,N4,N5]\n",
        "y80 = [l801,l804,l805]\n",
        "y800 = [u801,u804,u805]\n",
        "l80 = plt.fill_between(x,y80,y800, alpha=1.0, color='#ff87e7')\n",
        "\n",
        "y90 = [l901,l904,l905]\n",
        "y900 = [u901,u904,u905]\n",
        "l90 = plt.fill_between(x,y90,y900, alpha=0.4, color='#ff6900')\n",
        "\n",
        "y99 = [l991,l994,l995]\n",
        "y990 = [u991,u994,u995]\n",
        "l99 = plt.fill_between(x,y99,y990, alpha=0.3, color='#43ecff')\n",
        "\n",
        "plt.legend([l80,l90,l99],[\"80%\",\"90%\",\"99%\"])\n",
        "plt.title(\"Confidence Interval\")\n",
        "plt.ylabel(\"Accuracy\")\n",
        "plt.xlabel(\"samples\")\n",
        "plt.xticks([N1,N4,N5])\n",
        "plt.show()"
      ]
    },
    {
      "cell_type": "markdown",
      "metadata": {
        "id": "XfTIwSt5cY5M"
      },
      "source": [
        "# 4."
      ]
    },
    {
      "cell_type": "markdown",
      "metadata": {
        "id": "BQizAbiucY5M"
      },
      "source": [
        "## (a)在同一信心水準下， 3 個測試資料集的信賴區間有何不同？\n",
        "### Answer:當樣本數越來越大，信賴區間的寬度也越來越小，表示準確度的精準值越來越好"
      ]
    },
    {
      "cell_type": "markdown",
      "metadata": {
        "id": "0p58XhrGcY5M"
      },
      "source": [
        "## (b) 不同信心水準下的信賴區間有何不同？\n",
        "### Answer:在樣本數相同的情況下，信賴水準c越大，信賴區間也越大"
      ]
    },
    {
      "cell_type": "markdown",
      "metadata": {
        "id": "8whU5JJwcY5M"
      },
      "source": [
        "# 第二部分：Model Comparison"
      ]
    },
    {
      "cell_type": "code",
      "execution_count": null,
      "metadata": {
        "scrolled": false,
        "id": "9z6xFwa7cY5M",
        "outputId": "c247200d-9580-464c-c5dd-9a4b26f71ca6"
      },
      "outputs": [
        {
          "data": {
            "text/html": [
              "<div>\n",
              "<style scoped>\n",
              "    .dataframe tbody tr th:only-of-type {\n",
              "        vertical-align: middle;\n",
              "    }\n",
              "\n",
              "    .dataframe tbody tr th {\n",
              "        vertical-align: top;\n",
              "    }\n",
              "\n",
              "    .dataframe thead th {\n",
              "        text-align: right;\n",
              "    }\n",
              "</style>\n",
              "<table border=\"1\" class=\"dataframe\">\n",
              "  <thead>\n",
              "    <tr style=\"text-align: right;\">\n",
              "      <th></th>\n",
              "      <th>diagnosis</th>\n",
              "      <th>radius_mean</th>\n",
              "      <th>texture_mean</th>\n",
              "      <th>perimeter_mean</th>\n",
              "      <th>area_mean</th>\n",
              "      <th>smoothness_mean</th>\n",
              "      <th>compactness_mean</th>\n",
              "      <th>concavity_mean</th>\n",
              "      <th>concave points_mean</th>\n",
              "      <th>symmetry_mean</th>\n",
              "      <th>...</th>\n",
              "      <th>texture_worst</th>\n",
              "      <th>perimeter_worst</th>\n",
              "      <th>area_worst</th>\n",
              "      <th>smoothness_worst</th>\n",
              "      <th>compactness_worst</th>\n",
              "      <th>concavity_worst</th>\n",
              "      <th>concave points_worst</th>\n",
              "      <th>symmetry_worst</th>\n",
              "      <th>fractal_dimension_worst</th>\n",
              "      <th>Unnamed: 32</th>\n",
              "    </tr>\n",
              "    <tr>\n",
              "      <th>id</th>\n",
              "      <th></th>\n",
              "      <th></th>\n",
              "      <th></th>\n",
              "      <th></th>\n",
              "      <th></th>\n",
              "      <th></th>\n",
              "      <th></th>\n",
              "      <th></th>\n",
              "      <th></th>\n",
              "      <th></th>\n",
              "      <th></th>\n",
              "      <th></th>\n",
              "      <th></th>\n",
              "      <th></th>\n",
              "      <th></th>\n",
              "      <th></th>\n",
              "      <th></th>\n",
              "      <th></th>\n",
              "      <th></th>\n",
              "      <th></th>\n",
              "      <th></th>\n",
              "    </tr>\n",
              "  </thead>\n",
              "  <tbody>\n",
              "    <tr>\n",
              "      <th>842302</th>\n",
              "      <td>M</td>\n",
              "      <td>17.99</td>\n",
              "      <td>10.38</td>\n",
              "      <td>122.80</td>\n",
              "      <td>1001.0</td>\n",
              "      <td>0.11840</td>\n",
              "      <td>0.27760</td>\n",
              "      <td>0.30010</td>\n",
              "      <td>0.14710</td>\n",
              "      <td>0.2419</td>\n",
              "      <td>...</td>\n",
              "      <td>17.33</td>\n",
              "      <td>184.60</td>\n",
              "      <td>2019.0</td>\n",
              "      <td>0.16220</td>\n",
              "      <td>0.66560</td>\n",
              "      <td>0.7119</td>\n",
              "      <td>0.2654</td>\n",
              "      <td>0.4601</td>\n",
              "      <td>0.11890</td>\n",
              "      <td>NaN</td>\n",
              "    </tr>\n",
              "    <tr>\n",
              "      <th>842517</th>\n",
              "      <td>M</td>\n",
              "      <td>20.57</td>\n",
              "      <td>17.77</td>\n",
              "      <td>132.90</td>\n",
              "      <td>1326.0</td>\n",
              "      <td>0.08474</td>\n",
              "      <td>0.07864</td>\n",
              "      <td>0.08690</td>\n",
              "      <td>0.07017</td>\n",
              "      <td>0.1812</td>\n",
              "      <td>...</td>\n",
              "      <td>23.41</td>\n",
              "      <td>158.80</td>\n",
              "      <td>1956.0</td>\n",
              "      <td>0.12380</td>\n",
              "      <td>0.18660</td>\n",
              "      <td>0.2416</td>\n",
              "      <td>0.1860</td>\n",
              "      <td>0.2750</td>\n",
              "      <td>0.08902</td>\n",
              "      <td>NaN</td>\n",
              "    </tr>\n",
              "    <tr>\n",
              "      <th>84300903</th>\n",
              "      <td>M</td>\n",
              "      <td>19.69</td>\n",
              "      <td>21.25</td>\n",
              "      <td>130.00</td>\n",
              "      <td>1203.0</td>\n",
              "      <td>0.10960</td>\n",
              "      <td>0.15990</td>\n",
              "      <td>0.19740</td>\n",
              "      <td>0.12790</td>\n",
              "      <td>0.2069</td>\n",
              "      <td>...</td>\n",
              "      <td>25.53</td>\n",
              "      <td>152.50</td>\n",
              "      <td>1709.0</td>\n",
              "      <td>0.14440</td>\n",
              "      <td>0.42450</td>\n",
              "      <td>0.4504</td>\n",
              "      <td>0.2430</td>\n",
              "      <td>0.3613</td>\n",
              "      <td>0.08758</td>\n",
              "      <td>NaN</td>\n",
              "    </tr>\n",
              "    <tr>\n",
              "      <th>84348301</th>\n",
              "      <td>M</td>\n",
              "      <td>11.42</td>\n",
              "      <td>20.38</td>\n",
              "      <td>77.58</td>\n",
              "      <td>386.1</td>\n",
              "      <td>0.14250</td>\n",
              "      <td>0.28390</td>\n",
              "      <td>0.24140</td>\n",
              "      <td>0.10520</td>\n",
              "      <td>0.2597</td>\n",
              "      <td>...</td>\n",
              "      <td>26.50</td>\n",
              "      <td>98.87</td>\n",
              "      <td>567.7</td>\n",
              "      <td>0.20980</td>\n",
              "      <td>0.86630</td>\n",
              "      <td>0.6869</td>\n",
              "      <td>0.2575</td>\n",
              "      <td>0.6638</td>\n",
              "      <td>0.17300</td>\n",
              "      <td>NaN</td>\n",
              "    </tr>\n",
              "    <tr>\n",
              "      <th>84358402</th>\n",
              "      <td>M</td>\n",
              "      <td>20.29</td>\n",
              "      <td>14.34</td>\n",
              "      <td>135.10</td>\n",
              "      <td>1297.0</td>\n",
              "      <td>0.10030</td>\n",
              "      <td>0.13280</td>\n",
              "      <td>0.19800</td>\n",
              "      <td>0.10430</td>\n",
              "      <td>0.1809</td>\n",
              "      <td>...</td>\n",
              "      <td>16.67</td>\n",
              "      <td>152.20</td>\n",
              "      <td>1575.0</td>\n",
              "      <td>0.13740</td>\n",
              "      <td>0.20500</td>\n",
              "      <td>0.4000</td>\n",
              "      <td>0.1625</td>\n",
              "      <td>0.2364</td>\n",
              "      <td>0.07678</td>\n",
              "      <td>NaN</td>\n",
              "    </tr>\n",
              "    <tr>\n",
              "      <th>...</th>\n",
              "      <td>...</td>\n",
              "      <td>...</td>\n",
              "      <td>...</td>\n",
              "      <td>...</td>\n",
              "      <td>...</td>\n",
              "      <td>...</td>\n",
              "      <td>...</td>\n",
              "      <td>...</td>\n",
              "      <td>...</td>\n",
              "      <td>...</td>\n",
              "      <td>...</td>\n",
              "      <td>...</td>\n",
              "      <td>...</td>\n",
              "      <td>...</td>\n",
              "      <td>...</td>\n",
              "      <td>...</td>\n",
              "      <td>...</td>\n",
              "      <td>...</td>\n",
              "      <td>...</td>\n",
              "      <td>...</td>\n",
              "      <td>...</td>\n",
              "    </tr>\n",
              "    <tr>\n",
              "      <th>926424</th>\n",
              "      <td>M</td>\n",
              "      <td>21.56</td>\n",
              "      <td>22.39</td>\n",
              "      <td>142.00</td>\n",
              "      <td>1479.0</td>\n",
              "      <td>0.11100</td>\n",
              "      <td>0.11590</td>\n",
              "      <td>0.24390</td>\n",
              "      <td>0.13890</td>\n",
              "      <td>0.1726</td>\n",
              "      <td>...</td>\n",
              "      <td>26.40</td>\n",
              "      <td>166.10</td>\n",
              "      <td>2027.0</td>\n",
              "      <td>0.14100</td>\n",
              "      <td>0.21130</td>\n",
              "      <td>0.4107</td>\n",
              "      <td>0.2216</td>\n",
              "      <td>0.2060</td>\n",
              "      <td>0.07115</td>\n",
              "      <td>NaN</td>\n",
              "    </tr>\n",
              "    <tr>\n",
              "      <th>926682</th>\n",
              "      <td>M</td>\n",
              "      <td>20.13</td>\n",
              "      <td>28.25</td>\n",
              "      <td>131.20</td>\n",
              "      <td>1261.0</td>\n",
              "      <td>0.09780</td>\n",
              "      <td>0.10340</td>\n",
              "      <td>0.14400</td>\n",
              "      <td>0.09791</td>\n",
              "      <td>0.1752</td>\n",
              "      <td>...</td>\n",
              "      <td>38.25</td>\n",
              "      <td>155.00</td>\n",
              "      <td>1731.0</td>\n",
              "      <td>0.11660</td>\n",
              "      <td>0.19220</td>\n",
              "      <td>0.3215</td>\n",
              "      <td>0.1628</td>\n",
              "      <td>0.2572</td>\n",
              "      <td>0.06637</td>\n",
              "      <td>NaN</td>\n",
              "    </tr>\n",
              "    <tr>\n",
              "      <th>926954</th>\n",
              "      <td>M</td>\n",
              "      <td>16.60</td>\n",
              "      <td>28.08</td>\n",
              "      <td>108.30</td>\n",
              "      <td>858.1</td>\n",
              "      <td>0.08455</td>\n",
              "      <td>0.10230</td>\n",
              "      <td>0.09251</td>\n",
              "      <td>0.05302</td>\n",
              "      <td>0.1590</td>\n",
              "      <td>...</td>\n",
              "      <td>34.12</td>\n",
              "      <td>126.70</td>\n",
              "      <td>1124.0</td>\n",
              "      <td>0.11390</td>\n",
              "      <td>0.30940</td>\n",
              "      <td>0.3403</td>\n",
              "      <td>0.1418</td>\n",
              "      <td>0.2218</td>\n",
              "      <td>0.07820</td>\n",
              "      <td>NaN</td>\n",
              "    </tr>\n",
              "    <tr>\n",
              "      <th>927241</th>\n",
              "      <td>M</td>\n",
              "      <td>20.60</td>\n",
              "      <td>29.33</td>\n",
              "      <td>140.10</td>\n",
              "      <td>1265.0</td>\n",
              "      <td>0.11780</td>\n",
              "      <td>0.27700</td>\n",
              "      <td>0.35140</td>\n",
              "      <td>0.15200</td>\n",
              "      <td>0.2397</td>\n",
              "      <td>...</td>\n",
              "      <td>39.42</td>\n",
              "      <td>184.60</td>\n",
              "      <td>1821.0</td>\n",
              "      <td>0.16500</td>\n",
              "      <td>0.86810</td>\n",
              "      <td>0.9387</td>\n",
              "      <td>0.2650</td>\n",
              "      <td>0.4087</td>\n",
              "      <td>0.12400</td>\n",
              "      <td>NaN</td>\n",
              "    </tr>\n",
              "    <tr>\n",
              "      <th>92751</th>\n",
              "      <td>B</td>\n",
              "      <td>7.76</td>\n",
              "      <td>24.54</td>\n",
              "      <td>47.92</td>\n",
              "      <td>181.0</td>\n",
              "      <td>0.05263</td>\n",
              "      <td>0.04362</td>\n",
              "      <td>0.00000</td>\n",
              "      <td>0.00000</td>\n",
              "      <td>0.1587</td>\n",
              "      <td>...</td>\n",
              "      <td>30.37</td>\n",
              "      <td>59.16</td>\n",
              "      <td>268.6</td>\n",
              "      <td>0.08996</td>\n",
              "      <td>0.06444</td>\n",
              "      <td>0.0000</td>\n",
              "      <td>0.0000</td>\n",
              "      <td>0.2871</td>\n",
              "      <td>0.07039</td>\n",
              "      <td>NaN</td>\n",
              "    </tr>\n",
              "  </tbody>\n",
              "</table>\n",
              "<p>569 rows × 32 columns</p>\n",
              "</div>"
            ],
            "text/plain": [
              "         diagnosis  radius_mean  texture_mean  perimeter_mean  area_mean  \\\n",
              "id                                                                         \n",
              "842302           M        17.99         10.38          122.80     1001.0   \n",
              "842517           M        20.57         17.77          132.90     1326.0   \n",
              "84300903         M        19.69         21.25          130.00     1203.0   \n",
              "84348301         M        11.42         20.38           77.58      386.1   \n",
              "84358402         M        20.29         14.34          135.10     1297.0   \n",
              "...            ...          ...           ...             ...        ...   \n",
              "926424           M        21.56         22.39          142.00     1479.0   \n",
              "926682           M        20.13         28.25          131.20     1261.0   \n",
              "926954           M        16.60         28.08          108.30      858.1   \n",
              "927241           M        20.60         29.33          140.10     1265.0   \n",
              "92751            B         7.76         24.54           47.92      181.0   \n",
              "\n",
              "          smoothness_mean  compactness_mean  concavity_mean  \\\n",
              "id                                                            \n",
              "842302            0.11840           0.27760         0.30010   \n",
              "842517            0.08474           0.07864         0.08690   \n",
              "84300903          0.10960           0.15990         0.19740   \n",
              "84348301          0.14250           0.28390         0.24140   \n",
              "84358402          0.10030           0.13280         0.19800   \n",
              "...                   ...               ...             ...   \n",
              "926424            0.11100           0.11590         0.24390   \n",
              "926682            0.09780           0.10340         0.14400   \n",
              "926954            0.08455           0.10230         0.09251   \n",
              "927241            0.11780           0.27700         0.35140   \n",
              "92751             0.05263           0.04362         0.00000   \n",
              "\n",
              "          concave points_mean  symmetry_mean  ...  texture_worst  \\\n",
              "id                                            ...                  \n",
              "842302                0.14710         0.2419  ...          17.33   \n",
              "842517                0.07017         0.1812  ...          23.41   \n",
              "84300903              0.12790         0.2069  ...          25.53   \n",
              "84348301              0.10520         0.2597  ...          26.50   \n",
              "84358402              0.10430         0.1809  ...          16.67   \n",
              "...                       ...            ...  ...            ...   \n",
              "926424                0.13890         0.1726  ...          26.40   \n",
              "926682                0.09791         0.1752  ...          38.25   \n",
              "926954                0.05302         0.1590  ...          34.12   \n",
              "927241                0.15200         0.2397  ...          39.42   \n",
              "92751                 0.00000         0.1587  ...          30.37   \n",
              "\n",
              "          perimeter_worst  area_worst  smoothness_worst  compactness_worst  \\\n",
              "id                                                                           \n",
              "842302             184.60      2019.0           0.16220            0.66560   \n",
              "842517             158.80      1956.0           0.12380            0.18660   \n",
              "84300903           152.50      1709.0           0.14440            0.42450   \n",
              "84348301            98.87       567.7           0.20980            0.86630   \n",
              "84358402           152.20      1575.0           0.13740            0.20500   \n",
              "...                   ...         ...               ...                ...   \n",
              "926424             166.10      2027.0           0.14100            0.21130   \n",
              "926682             155.00      1731.0           0.11660            0.19220   \n",
              "926954             126.70      1124.0           0.11390            0.30940   \n",
              "927241             184.60      1821.0           0.16500            0.86810   \n",
              "92751               59.16       268.6           0.08996            0.06444   \n",
              "\n",
              "          concavity_worst  concave points_worst  symmetry_worst  \\\n",
              "id                                                                \n",
              "842302             0.7119                0.2654          0.4601   \n",
              "842517             0.2416                0.1860          0.2750   \n",
              "84300903           0.4504                0.2430          0.3613   \n",
              "84348301           0.6869                0.2575          0.6638   \n",
              "84358402           0.4000                0.1625          0.2364   \n",
              "...                   ...                   ...             ...   \n",
              "926424             0.4107                0.2216          0.2060   \n",
              "926682             0.3215                0.1628          0.2572   \n",
              "926954             0.3403                0.1418          0.2218   \n",
              "927241             0.9387                0.2650          0.4087   \n",
              "92751              0.0000                0.0000          0.2871   \n",
              "\n",
              "          fractal_dimension_worst  Unnamed: 32  \n",
              "id                                              \n",
              "842302                    0.11890          NaN  \n",
              "842517                    0.08902          NaN  \n",
              "84300903                  0.08758          NaN  \n",
              "84348301                  0.17300          NaN  \n",
              "84358402                  0.07678          NaN  \n",
              "...                           ...          ...  \n",
              "926424                    0.07115          NaN  \n",
              "926682                    0.06637          NaN  \n",
              "926954                    0.07820          NaN  \n",
              "927241                    0.12400          NaN  \n",
              "92751                     0.07039          NaN  \n",
              "\n",
              "[569 rows x 32 columns]"
            ]
          },
          "execution_count": 115,
          "metadata": {},
          "output_type": "execute_result"
        }
      ],
      "source": [
        "data = pd.read_csv('BreastCancer.csv',index_col='id')\n",
        "data"
      ]
    },
    {
      "cell_type": "markdown",
      "metadata": {
        "id": "eOMVICPfcY5N"
      },
      "source": [
        "## 資料前處理"
      ]
    },
    {
      "cell_type": "code",
      "execution_count": null,
      "metadata": {
        "id": "WqIDSiLYcY5N"
      },
      "outputs": [],
      "source": [
        "# 丟棄Unnamed\n",
        "data = data.drop(['Unnamed: 32'],axis=1)"
      ]
    },
    {
      "cell_type": "code",
      "execution_count": null,
      "metadata": {
        "id": "lc_8zIf7cY5N"
      },
      "outputs": [],
      "source": [
        "data.groupby(['diagnosis']).size()\n",
        "# 判斷diagnosis為目標\n",
        "import copy\n",
        "copy = copy.deepcopy(data['diagnosis'])"
      ]
    },
    {
      "cell_type": "code",
      "execution_count": null,
      "metadata": {
        "id": "bAYzEmoWcY5N"
      },
      "outputs": [],
      "source": [
        "data = data.drop(['diagnosis'],axis=1)"
      ]
    },
    {
      "cell_type": "code",
      "execution_count": null,
      "metadata": {
        "id": "kePbcHbycY5N"
      },
      "outputs": [],
      "source": [
        "data['diagnosis'] = copy"
      ]
    },
    {
      "cell_type": "code",
      "execution_count": null,
      "metadata": {
        "scrolled": true,
        "id": "PWczRrKLcY5N",
        "outputId": "f182091e-8168-4a36-e389-835e25443d71"
      },
      "outputs": [
        {
          "data": {
            "text/html": [
              "<div>\n",
              "<style scoped>\n",
              "    .dataframe tbody tr th:only-of-type {\n",
              "        vertical-align: middle;\n",
              "    }\n",
              "\n",
              "    .dataframe tbody tr th {\n",
              "        vertical-align: top;\n",
              "    }\n",
              "\n",
              "    .dataframe thead th {\n",
              "        text-align: right;\n",
              "    }\n",
              "</style>\n",
              "<table border=\"1\" class=\"dataframe\">\n",
              "  <thead>\n",
              "    <tr style=\"text-align: right;\">\n",
              "      <th></th>\n",
              "      <th>radius_mean</th>\n",
              "      <th>texture_mean</th>\n",
              "      <th>perimeter_mean</th>\n",
              "      <th>area_mean</th>\n",
              "      <th>smoothness_mean</th>\n",
              "      <th>compactness_mean</th>\n",
              "      <th>concavity_mean</th>\n",
              "      <th>concave points_mean</th>\n",
              "      <th>symmetry_mean</th>\n",
              "      <th>fractal_dimension_mean</th>\n",
              "      <th>...</th>\n",
              "      <th>texture_worst</th>\n",
              "      <th>perimeter_worst</th>\n",
              "      <th>area_worst</th>\n",
              "      <th>smoothness_worst</th>\n",
              "      <th>compactness_worst</th>\n",
              "      <th>concavity_worst</th>\n",
              "      <th>concave points_worst</th>\n",
              "      <th>symmetry_worst</th>\n",
              "      <th>fractal_dimension_worst</th>\n",
              "      <th>diagnosis</th>\n",
              "    </tr>\n",
              "    <tr>\n",
              "      <th>id</th>\n",
              "      <th></th>\n",
              "      <th></th>\n",
              "      <th></th>\n",
              "      <th></th>\n",
              "      <th></th>\n",
              "      <th></th>\n",
              "      <th></th>\n",
              "      <th></th>\n",
              "      <th></th>\n",
              "      <th></th>\n",
              "      <th></th>\n",
              "      <th></th>\n",
              "      <th></th>\n",
              "      <th></th>\n",
              "      <th></th>\n",
              "      <th></th>\n",
              "      <th></th>\n",
              "      <th></th>\n",
              "      <th></th>\n",
              "      <th></th>\n",
              "      <th></th>\n",
              "    </tr>\n",
              "  </thead>\n",
              "  <tbody>\n",
              "    <tr>\n",
              "      <th>842302</th>\n",
              "      <td>17.99</td>\n",
              "      <td>10.38</td>\n",
              "      <td>122.80</td>\n",
              "      <td>1001.0</td>\n",
              "      <td>0.11840</td>\n",
              "      <td>0.27760</td>\n",
              "      <td>0.3001</td>\n",
              "      <td>0.14710</td>\n",
              "      <td>0.2419</td>\n",
              "      <td>0.07871</td>\n",
              "      <td>...</td>\n",
              "      <td>17.33</td>\n",
              "      <td>184.60</td>\n",
              "      <td>2019.0</td>\n",
              "      <td>0.1622</td>\n",
              "      <td>0.6656</td>\n",
              "      <td>0.7119</td>\n",
              "      <td>0.2654</td>\n",
              "      <td>0.4601</td>\n",
              "      <td>0.11890</td>\n",
              "      <td>M</td>\n",
              "    </tr>\n",
              "    <tr>\n",
              "      <th>842517</th>\n",
              "      <td>20.57</td>\n",
              "      <td>17.77</td>\n",
              "      <td>132.90</td>\n",
              "      <td>1326.0</td>\n",
              "      <td>0.08474</td>\n",
              "      <td>0.07864</td>\n",
              "      <td>0.0869</td>\n",
              "      <td>0.07017</td>\n",
              "      <td>0.1812</td>\n",
              "      <td>0.05667</td>\n",
              "      <td>...</td>\n",
              "      <td>23.41</td>\n",
              "      <td>158.80</td>\n",
              "      <td>1956.0</td>\n",
              "      <td>0.1238</td>\n",
              "      <td>0.1866</td>\n",
              "      <td>0.2416</td>\n",
              "      <td>0.1860</td>\n",
              "      <td>0.2750</td>\n",
              "      <td>0.08902</td>\n",
              "      <td>M</td>\n",
              "    </tr>\n",
              "    <tr>\n",
              "      <th>84300903</th>\n",
              "      <td>19.69</td>\n",
              "      <td>21.25</td>\n",
              "      <td>130.00</td>\n",
              "      <td>1203.0</td>\n",
              "      <td>0.10960</td>\n",
              "      <td>0.15990</td>\n",
              "      <td>0.1974</td>\n",
              "      <td>0.12790</td>\n",
              "      <td>0.2069</td>\n",
              "      <td>0.05999</td>\n",
              "      <td>...</td>\n",
              "      <td>25.53</td>\n",
              "      <td>152.50</td>\n",
              "      <td>1709.0</td>\n",
              "      <td>0.1444</td>\n",
              "      <td>0.4245</td>\n",
              "      <td>0.4504</td>\n",
              "      <td>0.2430</td>\n",
              "      <td>0.3613</td>\n",
              "      <td>0.08758</td>\n",
              "      <td>M</td>\n",
              "    </tr>\n",
              "    <tr>\n",
              "      <th>84348301</th>\n",
              "      <td>11.42</td>\n",
              "      <td>20.38</td>\n",
              "      <td>77.58</td>\n",
              "      <td>386.1</td>\n",
              "      <td>0.14250</td>\n",
              "      <td>0.28390</td>\n",
              "      <td>0.2414</td>\n",
              "      <td>0.10520</td>\n",
              "      <td>0.2597</td>\n",
              "      <td>0.09744</td>\n",
              "      <td>...</td>\n",
              "      <td>26.50</td>\n",
              "      <td>98.87</td>\n",
              "      <td>567.7</td>\n",
              "      <td>0.2098</td>\n",
              "      <td>0.8663</td>\n",
              "      <td>0.6869</td>\n",
              "      <td>0.2575</td>\n",
              "      <td>0.6638</td>\n",
              "      <td>0.17300</td>\n",
              "      <td>M</td>\n",
              "    </tr>\n",
              "    <tr>\n",
              "      <th>84358402</th>\n",
              "      <td>20.29</td>\n",
              "      <td>14.34</td>\n",
              "      <td>135.10</td>\n",
              "      <td>1297.0</td>\n",
              "      <td>0.10030</td>\n",
              "      <td>0.13280</td>\n",
              "      <td>0.1980</td>\n",
              "      <td>0.10430</td>\n",
              "      <td>0.1809</td>\n",
              "      <td>0.05883</td>\n",
              "      <td>...</td>\n",
              "      <td>16.67</td>\n",
              "      <td>152.20</td>\n",
              "      <td>1575.0</td>\n",
              "      <td>0.1374</td>\n",
              "      <td>0.2050</td>\n",
              "      <td>0.4000</td>\n",
              "      <td>0.1625</td>\n",
              "      <td>0.2364</td>\n",
              "      <td>0.07678</td>\n",
              "      <td>M</td>\n",
              "    </tr>\n",
              "  </tbody>\n",
              "</table>\n",
              "<p>5 rows × 31 columns</p>\n",
              "</div>"
            ],
            "text/plain": [
              "          radius_mean  texture_mean  perimeter_mean  area_mean  \\\n",
              "id                                                               \n",
              "842302          17.99         10.38          122.80     1001.0   \n",
              "842517          20.57         17.77          132.90     1326.0   \n",
              "84300903        19.69         21.25          130.00     1203.0   \n",
              "84348301        11.42         20.38           77.58      386.1   \n",
              "84358402        20.29         14.34          135.10     1297.0   \n",
              "\n",
              "          smoothness_mean  compactness_mean  concavity_mean  \\\n",
              "id                                                            \n",
              "842302            0.11840           0.27760          0.3001   \n",
              "842517            0.08474           0.07864          0.0869   \n",
              "84300903          0.10960           0.15990          0.1974   \n",
              "84348301          0.14250           0.28390          0.2414   \n",
              "84358402          0.10030           0.13280          0.1980   \n",
              "\n",
              "          concave points_mean  symmetry_mean  fractal_dimension_mean  ...  \\\n",
              "id                                                                    ...   \n",
              "842302                0.14710         0.2419                 0.07871  ...   \n",
              "842517                0.07017         0.1812                 0.05667  ...   \n",
              "84300903              0.12790         0.2069                 0.05999  ...   \n",
              "84348301              0.10520         0.2597                 0.09744  ...   \n",
              "84358402              0.10430         0.1809                 0.05883  ...   \n",
              "\n",
              "          texture_worst  perimeter_worst  area_worst  smoothness_worst  \\\n",
              "id                                                                       \n",
              "842302            17.33           184.60      2019.0            0.1622   \n",
              "842517            23.41           158.80      1956.0            0.1238   \n",
              "84300903          25.53           152.50      1709.0            0.1444   \n",
              "84348301          26.50            98.87       567.7            0.2098   \n",
              "84358402          16.67           152.20      1575.0            0.1374   \n",
              "\n",
              "          compactness_worst  concavity_worst  concave points_worst  \\\n",
              "id                                                                   \n",
              "842302               0.6656           0.7119                0.2654   \n",
              "842517               0.1866           0.2416                0.1860   \n",
              "84300903             0.4245           0.4504                0.2430   \n",
              "84348301             0.8663           0.6869                0.2575   \n",
              "84358402             0.2050           0.4000                0.1625   \n",
              "\n",
              "          symmetry_worst  fractal_dimension_worst  diagnosis  \n",
              "id                                                            \n",
              "842302            0.4601                  0.11890          M  \n",
              "842517            0.2750                  0.08902          M  \n",
              "84300903          0.3613                  0.08758          M  \n",
              "84348301          0.6638                  0.17300          M  \n",
              "84358402          0.2364                  0.07678          M  \n",
              "\n",
              "[5 rows x 31 columns]"
            ]
          },
          "execution_count": 120,
          "metadata": {},
          "output_type": "execute_result"
        }
      ],
      "source": [
        "data.head()"
      ]
    },
    {
      "cell_type": "markdown",
      "metadata": {
        "id": "3hMxefMRcY5N"
      },
      "source": [
        "## Naive Bayes"
      ]
    },
    {
      "cell_type": "code",
      "execution_count": null,
      "metadata": {
        "id": "_rwwecFYcY5N"
      },
      "outputs": [],
      "source": [
        "X = data[data.columns[:-1]]\n",
        "y = data[['diagnosis']]"
      ]
    },
    {
      "cell_type": "code",
      "execution_count": null,
      "metadata": {
        "id": "4_o9j97kcY5N"
      },
      "outputs": [],
      "source": [
        "from sklearn.model_selection import train_test_split\n",
        "X_train, X_test, y_train, y_test = train_test_split(X.values, y, test_size=0.2, random_state=100, stratify=y)"
      ]
    },
    {
      "cell_type": "code",
      "execution_count": null,
      "metadata": {
        "id": "rFAAS9nAcY5R",
        "outputId": "852da846-0661-4809-843a-bf414803006d"
      },
      "outputs": [
        {
          "name": "stderr",
          "output_type": "stream",
          "text": [
            "C:\\Users\\user\\anaconda3\\lib\\site-packages\\sklearn\\utils\\validation.py:72: DataConversionWarning: A column-vector y was passed when a 1d array was expected. Please change the shape of y to (n_samples, ), for example using ravel().\n",
            "  return f(**kwargs)\n"
          ]
        }
      ],
      "source": [
        "from sklearn.naive_bayes import BernoulliNB\n",
        "modelnb = BernoulliNB(binarize=3)\n",
        "modelnb.fit(X_train,y_train)\n",
        "y_pred = modelnb.predict(X_test)"
      ]
    },
    {
      "cell_type": "code",
      "execution_count": null,
      "metadata": {
        "id": "hampioSpcY5R",
        "outputId": "8bce4010-4c87-4039-b028-c1311582e1ca"
      },
      "outputs": [
        {
          "name": "stdout",
          "output_type": "stream",
          "text": [
            "              precision    recall  f1-score   support\n",
            "\n",
            "           B       0.78      0.86      0.82        72\n",
            "           M       0.71      0.60      0.65        42\n",
            "\n",
            "    accuracy                           0.76       114\n",
            "   macro avg       0.75      0.73      0.74       114\n",
            "weighted avg       0.76      0.76      0.76       114\n",
            "\n"
          ]
        }
      ],
      "source": [
        "from sklearn import metrics\n",
        "print(metrics.classification_report(y_test,y_pred))"
      ]
    },
    {
      "cell_type": "code",
      "execution_count": null,
      "metadata": {
        "id": "BG6CqIDycY5R",
        "outputId": "fd21ba08-cb25-4e21-a75f-4ddceb8b523f"
      },
      "outputs": [
        {
          "data": {
            "text/plain": [
              "array([[62, 10],\n",
              "       [17, 25]], dtype=int64)"
            ]
          },
          "execution_count": 125,
          "metadata": {},
          "output_type": "execute_result"
        }
      ],
      "source": [
        "from sklearn.metrics import confusion_matrix\n",
        "cm = confusion_matrix(y_test, y_pred)\n",
        "cm"
      ]
    },
    {
      "cell_type": "code",
      "execution_count": null,
      "metadata": {
        "id": "G8ztH_bocY5R",
        "outputId": "d19f21a1-4459-4c32-c544-9bc0b609b00f"
      },
      "outputs": [
        {
          "name": "stdout",
          "output_type": "stream",
          "text": [
            "NB model的accuracy 0.7631578947368421\n"
          ]
        }
      ],
      "source": [
        "print(\"NB model的accuracy\",modelnb.score(X_test, y_test))"
      ]
    },
    {
      "cell_type": "code",
      "execution_count": null,
      "metadata": {
        "id": "sg1G2ixNcY5R",
        "outputId": "347b83d9-d8a8-45e0-b6f0-26255f451ba5"
      },
      "outputs": [
        {
          "name": "stdout",
          "output_type": "stream",
          "text": [
            "NB Accuracy： 0.7631578947368421\n",
            "NB Precision(B)： 0.7848101265822784\n",
            "NB Recall(B)： 0.8611111111111112\n",
            "NB Precision(M)： 0.7142857142857143\n",
            "NB Recall(M)： 0.5952380952380952\n"
          ]
        }
      ],
      "source": [
        "TP = cm[0][0]\n",
        "FP = cm[1][0]\n",
        "FN = cm[0][1]\n",
        "TN = cm[1][1]\n",
        "print(\"NB Accuracy：\", (TP+TN)/(TP+TN+FP+FN))\n",
        "print(\"NB Precision(B)：\", TP/(TP+FP))\n",
        "print(\"NB Recall(B)：\", TP/(TP+FN))\n",
        "print(\"NB Precision(M)：\", TN/(FN+TN))\n",
        "print(\"NB Recall(M)：\", TN/(TN+FP))"
      ]
    },
    {
      "cell_type": "code",
      "execution_count": null,
      "metadata": {
        "id": "-E-8dbxHcY5R",
        "outputId": "2b936674-c49b-43f0-bdd9-7df3b038079a"
      },
      "outputs": [
        {
          "name": "stdout",
          "output_type": "stream",
          "text": [
            "[0.76086957 0.82608696 0.76086957 0.80434783 0.80434783 0.77777778\n",
            " 0.86666667 0.82222222 0.86666667 0.86666667]\n",
            "CV的準確率： 0.8156521739130435\n"
          ]
        },
        {
          "name": "stderr",
          "output_type": "stream",
          "text": [
            "C:\\Users\\user\\anaconda3\\lib\\site-packages\\sklearn\\utils\\validation.py:72: DataConversionWarning: A column-vector y was passed when a 1d array was expected. Please change the shape of y to (n_samples, ), for example using ravel().\n",
            "  return f(**kwargs)\n",
            "C:\\Users\\user\\anaconda3\\lib\\site-packages\\sklearn\\utils\\validation.py:72: DataConversionWarning: A column-vector y was passed when a 1d array was expected. Please change the shape of y to (n_samples, ), for example using ravel().\n",
            "  return f(**kwargs)\n",
            "C:\\Users\\user\\anaconda3\\lib\\site-packages\\sklearn\\utils\\validation.py:72: DataConversionWarning: A column-vector y was passed when a 1d array was expected. Please change the shape of y to (n_samples, ), for example using ravel().\n",
            "  return f(**kwargs)\n",
            "C:\\Users\\user\\anaconda3\\lib\\site-packages\\sklearn\\utils\\validation.py:72: DataConversionWarning: A column-vector y was passed when a 1d array was expected. Please change the shape of y to (n_samples, ), for example using ravel().\n",
            "  return f(**kwargs)\n",
            "C:\\Users\\user\\anaconda3\\lib\\site-packages\\sklearn\\utils\\validation.py:72: DataConversionWarning: A column-vector y was passed when a 1d array was expected. Please change the shape of y to (n_samples, ), for example using ravel().\n",
            "  return f(**kwargs)\n",
            "C:\\Users\\user\\anaconda3\\lib\\site-packages\\sklearn\\utils\\validation.py:72: DataConversionWarning: A column-vector y was passed when a 1d array was expected. Please change the shape of y to (n_samples, ), for example using ravel().\n",
            "  return f(**kwargs)\n",
            "C:\\Users\\user\\anaconda3\\lib\\site-packages\\sklearn\\utils\\validation.py:72: DataConversionWarning: A column-vector y was passed when a 1d array was expected. Please change the shape of y to (n_samples, ), for example using ravel().\n",
            "  return f(**kwargs)\n",
            "C:\\Users\\user\\anaconda3\\lib\\site-packages\\sklearn\\utils\\validation.py:72: DataConversionWarning: A column-vector y was passed when a 1d array was expected. Please change the shape of y to (n_samples, ), for example using ravel().\n",
            "  return f(**kwargs)\n",
            "C:\\Users\\user\\anaconda3\\lib\\site-packages\\sklearn\\utils\\validation.py:72: DataConversionWarning: A column-vector y was passed when a 1d array was expected. Please change the shape of y to (n_samples, ), for example using ravel().\n",
            "  return f(**kwargs)\n",
            "C:\\Users\\user\\anaconda3\\lib\\site-packages\\sklearn\\utils\\validation.py:72: DataConversionWarning: A column-vector y was passed when a 1d array was expected. Please change the shape of y to (n_samples, ), for example using ravel().\n",
            "  return f(**kwargs)\n"
          ]
        }
      ],
      "source": [
        "from sklearn.model_selection import cross_val_score\n",
        "scores = cross_val_score(modelnb,X_train,y_train,cv=10,scoring=\"accuracy\")\n",
        "print(scores)\n",
        "print(\"CV的準確率：\",scores.mean())"
      ]
    },
    {
      "cell_type": "markdown",
      "metadata": {
        "id": "x8BZz9P4cY5R"
      },
      "source": [
        "## Decision Tree"
      ]
    },
    {
      "cell_type": "code",
      "execution_count": null,
      "metadata": {
        "id": "7mqWzXcHcY5R"
      },
      "outputs": [],
      "source": [
        "X = data[data.columns[:-1]]\n",
        "y = data[['diagnosis']]\n",
        "from sklearn import tree\n",
        "modeltree = tree.DecisionTreeClassifier()\n",
        "modeltree.fit(X_train,y_train)\n",
        "y_pred = modeltree.predict(X_test)"
      ]
    },
    {
      "cell_type": "code",
      "execution_count": null,
      "metadata": {
        "id": "UJXGaM8scY5R",
        "outputId": "e65b232c-0c14-4017-a079-e999a7dfd408"
      },
      "outputs": [
        {
          "name": "stdout",
          "output_type": "stream",
          "text": [
            "              precision    recall  f1-score   support\n",
            "\n",
            "           B       0.96      0.94      0.95        72\n",
            "           M       0.91      0.93      0.92        42\n",
            "\n",
            "    accuracy                           0.94       114\n",
            "   macro avg       0.93      0.94      0.93       114\n",
            "weighted avg       0.94      0.94      0.94       114\n",
            "\n"
          ]
        }
      ],
      "source": [
        "from sklearn import metrics\n",
        "print(metrics.classification_report(y_test,y_pred))"
      ]
    },
    {
      "cell_type": "code",
      "execution_count": null,
      "metadata": {
        "id": "ZgsqDmcScY5R",
        "outputId": "3eec08ae-768d-4e20-e3aa-d85e3494a90a"
      },
      "outputs": [
        {
          "name": "stdout",
          "output_type": "stream",
          "text": [
            "tree model的accuracy 0.9385964912280702\n"
          ]
        }
      ],
      "source": [
        "print(\"tree model的accuracy\",modeltree.score(X_test, y_test))"
      ]
    },
    {
      "cell_type": "code",
      "execution_count": null,
      "metadata": {
        "id": "z7iPA1ClcY5R",
        "outputId": "b2087ba9-ff00-4595-a370-b67d1d5417b2"
      },
      "outputs": [
        {
          "name": "stdout",
          "output_type": "stream",
          "text": [
            "tree Accuracy： 0.9385964912280702\n",
            "tree Precision(B)： 0.9577464788732394\n",
            "tree Recall(B)： 0.9444444444444444\n",
            "tree Precision(M)： 0.9069767441860465\n",
            "tree Recall(M)： 0.9285714285714286\n"
          ]
        },
        {
          "data": {
            "text/plain": [
              "array([[68,  4],\n",
              "       [ 3, 39]], dtype=int64)"
            ]
          },
          "execution_count": 132,
          "metadata": {},
          "output_type": "execute_result"
        }
      ],
      "source": [
        "cm = confusion_matrix(y_test, y_pred)\n",
        "TP = cm[0][0]\n",
        "FP = cm[1][0]\n",
        "FN = cm[0][1]\n",
        "TN = cm[1][1]\n",
        "print(\"tree Accuracy：\", (TP+TN)/(TP+TN+FP+FN))\n",
        "print(\"tree Precision(B)：\", TP/(TP+FP))\n",
        "print(\"tree Recall(B)：\", TP/(TP+FN))\n",
        "print(\"tree Precision(M)：\", TN/(FN+TN))\n",
        "print(\"tree Recall(M)：\", TN/(TN+FP))\n",
        "cm"
      ]
    },
    {
      "cell_type": "code",
      "execution_count": null,
      "metadata": {
        "id": "wCNA5GUXcY5S",
        "outputId": "3aed87cf-9bca-4c1c-8db1-e029a1ee8149"
      },
      "outputs": [
        {
          "name": "stdout",
          "output_type": "stream",
          "text": [
            "[0.97826087 0.97826087 0.93478261 0.89130435 0.95652174 0.91111111\n",
            " 0.93333333 0.91111111 0.77777778 0.97777778]\n",
            "CV的準確率： 0.925024154589372\n"
          ]
        }
      ],
      "source": [
        "scores = cross_val_score(modeltree,X_train,y_train,cv=10,scoring=\"accuracy\")\n",
        "print(scores)\n",
        "print(\"CV的準確率：\",scores.mean())"
      ]
    },
    {
      "cell_type": "markdown",
      "metadata": {
        "id": "ymn6pLNfcY5S"
      },
      "source": [
        "## SVM"
      ]
    },
    {
      "cell_type": "code",
      "execution_count": null,
      "metadata": {
        "id": "ZhJK-7dwcY5S",
        "outputId": "e8685df9-b5f2-4840-d771-16ea96627684"
      },
      "outputs": [
        {
          "name": "stderr",
          "output_type": "stream",
          "text": [
            "C:\\Users\\user\\anaconda3\\lib\\site-packages\\sklearn\\utils\\validation.py:72: DataConversionWarning: A column-vector y was passed when a 1d array was expected. Please change the shape of y to (n_samples, ), for example using ravel().\n",
            "  return f(**kwargs)\n"
          ]
        }
      ],
      "source": [
        "X = data[data.columns[:-1]]\n",
        "y = data[['diagnosis']]\n",
        "from sklearn import svm\n",
        "modelsvm=svm.SVC(kernel='rbf',C=1,gamma='auto')\n",
        "modelsvm.fit(X_train,y_train)\n",
        "y_pred1 = modelsvm.predict(X_test)"
      ]
    },
    {
      "cell_type": "code",
      "execution_count": null,
      "metadata": {
        "id": "otwVOMEBcY5S",
        "outputId": "3336c39a-cc27-4862-b2f6-0daed760eba2"
      },
      "outputs": [
        {
          "name": "stdout",
          "output_type": "stream",
          "text": [
            "              precision    recall  f1-score   support\n",
            "\n",
            "           B       0.63      1.00      0.77        72\n",
            "           M       0.00      0.00      0.00        42\n",
            "\n",
            "    accuracy                           0.63       114\n",
            "   macro avg       0.32      0.50      0.39       114\n",
            "weighted avg       0.40      0.63      0.49       114\n",
            "\n"
          ]
        },
        {
          "name": "stderr",
          "output_type": "stream",
          "text": [
            "C:\\Users\\user\\anaconda3\\lib\\site-packages\\sklearn\\metrics\\_classification.py:1221: UndefinedMetricWarning: Precision and F-score are ill-defined and being set to 0.0 in labels with no predicted samples. Use `zero_division` parameter to control this behavior.\n",
            "  _warn_prf(average, modifier, msg_start, len(result))\n"
          ]
        }
      ],
      "source": [
        "from sklearn import metrics\n",
        "print(metrics.classification_report(y_test,y_pred1))"
      ]
    },
    {
      "cell_type": "code",
      "execution_count": null,
      "metadata": {
        "id": "opKTQs-9cY5S",
        "outputId": "b9ea2d29-7c64-46d0-8797-1a156dece156"
      },
      "outputs": [
        {
          "name": "stdout",
          "output_type": "stream",
          "text": [
            "SVM model的accuracy： 0.631578947368421\n"
          ]
        }
      ],
      "source": [
        "print(\"SVM model的accuracy：\",modelsvm.score(X_test, y_test))"
      ]
    },
    {
      "cell_type": "code",
      "execution_count": null,
      "metadata": {
        "id": "sTqQv4mlcY5S",
        "outputId": "d01e0bf5-f555-46f0-f649-5604d5f5dc7c"
      },
      "outputs": [
        {
          "name": "stdout",
          "output_type": "stream",
          "text": [
            "svm Accuracy： 0.631578947368421\n",
            "svm Precision(B)： 0.631578947368421\n",
            "svm Recall(B)： 1.0\n",
            "svm Recall(M)： 0.0\n"
          ]
        },
        {
          "data": {
            "text/plain": [
              "array([[72,  0],\n",
              "       [42,  0]], dtype=int64)"
            ]
          },
          "execution_count": 137,
          "metadata": {},
          "output_type": "execute_result"
        }
      ],
      "source": [
        "cm = confusion_matrix(y_test, y_pred1)\n",
        "TP = cm[0][0]\n",
        "FP = cm[1][0]\n",
        "FN = cm[0][1]\n",
        "TN = cm[1][1]\n",
        "print(\"svm Accuracy：\", (TP+TN)/(TP+TN+FP+FN))\n",
        "print(\"svm Precision(B)：\", TP/(TP+FP))\n",
        "print(\"svm Recall(B)：\", TP/(TP+FN))\n",
        "print(\"svm Recall(M)：\", TN/(TN+FP))\n",
        "cm"
      ]
    },
    {
      "cell_type": "code",
      "execution_count": null,
      "metadata": {
        "id": "kAlKhYaXcY5S",
        "outputId": "7afbd341-b909-4d07-e2b0-f286874bc368"
      },
      "outputs": [
        {
          "name": "stderr",
          "output_type": "stream",
          "text": [
            "C:\\Users\\user\\anaconda3\\lib\\site-packages\\sklearn\\utils\\validation.py:72: DataConversionWarning: A column-vector y was passed when a 1d array was expected. Please change the shape of y to (n_samples, ), for example using ravel().\n",
            "  return f(**kwargs)\n",
            "C:\\Users\\user\\anaconda3\\lib\\site-packages\\sklearn\\utils\\validation.py:72: DataConversionWarning: A column-vector y was passed when a 1d array was expected. Please change the shape of y to (n_samples, ), for example using ravel().\n",
            "  return f(**kwargs)\n",
            "C:\\Users\\user\\anaconda3\\lib\\site-packages\\sklearn\\utils\\validation.py:72: DataConversionWarning: A column-vector y was passed when a 1d array was expected. Please change the shape of y to (n_samples, ), for example using ravel().\n",
            "  return f(**kwargs)\n",
            "C:\\Users\\user\\anaconda3\\lib\\site-packages\\sklearn\\utils\\validation.py:72: DataConversionWarning: A column-vector y was passed when a 1d array was expected. Please change the shape of y to (n_samples, ), for example using ravel().\n",
            "  return f(**kwargs)\n",
            "C:\\Users\\user\\anaconda3\\lib\\site-packages\\sklearn\\utils\\validation.py:72: DataConversionWarning: A column-vector y was passed when a 1d array was expected. Please change the shape of y to (n_samples, ), for example using ravel().\n",
            "  return f(**kwargs)\n",
            "C:\\Users\\user\\anaconda3\\lib\\site-packages\\sklearn\\utils\\validation.py:72: DataConversionWarning: A column-vector y was passed when a 1d array was expected. Please change the shape of y to (n_samples, ), for example using ravel().\n",
            "  return f(**kwargs)\n",
            "C:\\Users\\user\\anaconda3\\lib\\site-packages\\sklearn\\utils\\validation.py:72: DataConversionWarning: A column-vector y was passed when a 1d array was expected. Please change the shape of y to (n_samples, ), for example using ravel().\n",
            "  return f(**kwargs)\n",
            "C:\\Users\\user\\anaconda3\\lib\\site-packages\\sklearn\\utils\\validation.py:72: DataConversionWarning: A column-vector y was passed when a 1d array was expected. Please change the shape of y to (n_samples, ), for example using ravel().\n",
            "  return f(**kwargs)\n",
            "C:\\Users\\user\\anaconda3\\lib\\site-packages\\sklearn\\utils\\validation.py:72: DataConversionWarning: A column-vector y was passed when a 1d array was expected. Please change the shape of y to (n_samples, ), for example using ravel().\n",
            "  return f(**kwargs)\n",
            "C:\\Users\\user\\anaconda3\\lib\\site-packages\\sklearn\\utils\\validation.py:72: DataConversionWarning: A column-vector y was passed when a 1d array was expected. Please change the shape of y to (n_samples, ), for example using ravel().\n",
            "  return f(**kwargs)\n"
          ]
        },
        {
          "name": "stdout",
          "output_type": "stream",
          "text": [
            "[0.63043478 0.63043478 0.63043478 0.63043478 0.63043478 0.62222222\n",
            " 0.62222222 0.62222222 0.62222222 0.62222222]\n",
            "CV的準確率： 0.6263285024154589\n"
          ]
        }
      ],
      "source": [
        "scores = cross_val_score(modelsvm,X_train,y_train,cv=10,scoring=\"accuracy\")\n",
        "print(scores)\n",
        "print(\"CV的準確率：\",scores.mean())"
      ]
    }
  ],
  "metadata": {
    "kernelspec": {
      "display_name": "Python 3",
      "language": "python",
      "name": "python3"
    },
    "language_info": {
      "codemirror_mode": {
        "name": "ipython",
        "version": 3
      },
      "file_extension": ".py",
      "mimetype": "text/x-python",
      "name": "python",
      "nbconvert_exporter": "python",
      "pygments_lexer": "ipython3",
      "version": "3.8.5"
    },
    "colab": {
      "provenance": [],
      "include_colab_link": true
    }
  },
  "nbformat": 4,
  "nbformat_minor": 0
}