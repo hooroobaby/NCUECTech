{
  "cells": [
    {
      "cell_type": "markdown",
      "metadata": {
        "id": "view-in-github",
        "colab_type": "text"
      },
      "source": [
        "<a href=\"https://colab.research.google.com/github/hooroobaby/NCUECTech/blob/main/ECT_HW10_107403037.ipynb\" target=\"_parent\"><img src=\"https://colab.research.google.com/assets/colab-badge.svg\" alt=\"Open In Colab\"/></a>"
      ]
    },
    {
      "cell_type": "code",
      "execution_count": null,
      "metadata": {
        "id": "UMsgR1omdS-M"
      },
      "outputs": [],
      "source": [
        "import pandas as pd\n",
        "df = pd.read_csv(\"Final.csv\", error_bad_lines=False)"
      ]
    },
    {
      "cell_type": "code",
      "execution_count": null,
      "metadata": {
        "id": "dC1qkkQ2dS-O",
        "outputId": "2a4540d4-f1d6-43c3-aaa4-42f02d50caac"
      },
      "outputs": [
        {
          "data": {
            "text/html": [
              "<div>\n",
              "<style scoped>\n",
              "    .dataframe tbody tr th:only-of-type {\n",
              "        vertical-align: middle;\n",
              "    }\n",
              "\n",
              "    .dataframe tbody tr th {\n",
              "        vertical-align: top;\n",
              "    }\n",
              "\n",
              "    .dataframe thead th {\n",
              "        text-align: right;\n",
              "    }\n",
              "</style>\n",
              "<table border=\"1\" class=\"dataframe\">\n",
              "  <thead>\n",
              "    <tr style=\"text-align: right;\">\n",
              "      <th></th>\n",
              "      <th>com.google.android.googleapps.permission.GOOGLE_AUTH.wise</th>\n",
              "      <th>com.google.android.googleapps.permission.GOOGLE_AUTH.speech</th>\n",
              "      <th>com.google.android.googleapps.permission.GOOGLE_AUTH.sierrasandbox</th>\n",
              "      <th>android.permission.DISABLE_KEYGUARD</th>\n",
              "      <th>android.permission.WRITE_SOCIAL_STREAM</th>\n",
              "      <th>android.permission.RECEIVE_BOOT_COMPLETED</th>\n",
              "      <th>com.google.android.googleapps.permission.GOOGLE_AUTH.android</th>\n",
              "      <th>android.permission.WRITE_SETTINGS</th>\n",
              "      <th>android.permission.RECEIVE_WAP_PUSH</th>\n",
              "      <th>android.permission.WRITE_CALENDAR</th>\n",
              "      <th>...</th>\n",
              "      <th>vsin.t16_funny_photo.permission.C2D_MESSAGE</th>\n",
              "      <th>wb.receipts.permission.C2D_MESSAGE</th>\n",
              "      <th>wikem.chris.permission.C2D_MESSAGE</th>\n",
              "      <th>willcom.android.permission.RECEIVE_PHS_STATE</th>\n",
              "      <th>works.examples.Syllabus.permission.C2D_MESSAGE</th>\n",
              "      <th>wsj.reader_sp.permission.C2D_MESSAGE</th>\n",
              "      <th>wsj.reader_sp.permission.RECEIVE_ADM_MESSAGE</th>\n",
              "      <th>wsj.reader_sp.permission.UA_DATA</th>\n",
              "      <th>xcxin.filexpert.permission.C2D_MESSAGE</th>\n",
              "      <th>Mal</th>\n",
              "    </tr>\n",
              "  </thead>\n",
              "  <tbody>\n",
              "    <tr>\n",
              "      <th>0</th>\n",
              "      <td>0</td>\n",
              "      <td>0</td>\n",
              "      <td>0</td>\n",
              "      <td>0</td>\n",
              "      <td>0</td>\n",
              "      <td>1</td>\n",
              "      <td>0</td>\n",
              "      <td>0</td>\n",
              "      <td>0</td>\n",
              "      <td>0</td>\n",
              "      <td>...</td>\n",
              "      <td>0</td>\n",
              "      <td>0</td>\n",
              "      <td>0</td>\n",
              "      <td>0</td>\n",
              "      <td>0</td>\n",
              "      <td>0</td>\n",
              "      <td>0</td>\n",
              "      <td>0</td>\n",
              "      <td>0</td>\n",
              "      <td>1</td>\n",
              "    </tr>\n",
              "    <tr>\n",
              "      <th>1</th>\n",
              "      <td>0</td>\n",
              "      <td>0</td>\n",
              "      <td>0</td>\n",
              "      <td>0</td>\n",
              "      <td>0</td>\n",
              "      <td>0</td>\n",
              "      <td>0</td>\n",
              "      <td>0</td>\n",
              "      <td>0</td>\n",
              "      <td>0</td>\n",
              "      <td>...</td>\n",
              "      <td>0</td>\n",
              "      <td>0</td>\n",
              "      <td>0</td>\n",
              "      <td>0</td>\n",
              "      <td>0</td>\n",
              "      <td>0</td>\n",
              "      <td>0</td>\n",
              "      <td>0</td>\n",
              "      <td>0</td>\n",
              "      <td>1</td>\n",
              "    </tr>\n",
              "    <tr>\n",
              "      <th>2</th>\n",
              "      <td>0</td>\n",
              "      <td>0</td>\n",
              "      <td>0</td>\n",
              "      <td>0</td>\n",
              "      <td>0</td>\n",
              "      <td>0</td>\n",
              "      <td>0</td>\n",
              "      <td>0</td>\n",
              "      <td>0</td>\n",
              "      <td>0</td>\n",
              "      <td>...</td>\n",
              "      <td>0</td>\n",
              "      <td>0</td>\n",
              "      <td>0</td>\n",
              "      <td>0</td>\n",
              "      <td>0</td>\n",
              "      <td>0</td>\n",
              "      <td>0</td>\n",
              "      <td>0</td>\n",
              "      <td>0</td>\n",
              "      <td>1</td>\n",
              "    </tr>\n",
              "    <tr>\n",
              "      <th>3</th>\n",
              "      <td>0</td>\n",
              "      <td>0</td>\n",
              "      <td>0</td>\n",
              "      <td>0</td>\n",
              "      <td>0</td>\n",
              "      <td>1</td>\n",
              "      <td>0</td>\n",
              "      <td>0</td>\n",
              "      <td>0</td>\n",
              "      <td>0</td>\n",
              "      <td>...</td>\n",
              "      <td>0</td>\n",
              "      <td>0</td>\n",
              "      <td>0</td>\n",
              "      <td>0</td>\n",
              "      <td>0</td>\n",
              "      <td>0</td>\n",
              "      <td>0</td>\n",
              "      <td>0</td>\n",
              "      <td>0</td>\n",
              "      <td>1</td>\n",
              "    </tr>\n",
              "    <tr>\n",
              "      <th>4</th>\n",
              "      <td>0</td>\n",
              "      <td>0</td>\n",
              "      <td>0</td>\n",
              "      <td>0</td>\n",
              "      <td>0</td>\n",
              "      <td>0</td>\n",
              "      <td>0</td>\n",
              "      <td>0</td>\n",
              "      <td>0</td>\n",
              "      <td>0</td>\n",
              "      <td>...</td>\n",
              "      <td>0</td>\n",
              "      <td>0</td>\n",
              "      <td>0</td>\n",
              "      <td>0</td>\n",
              "      <td>0</td>\n",
              "      <td>0</td>\n",
              "      <td>0</td>\n",
              "      <td>0</td>\n",
              "      <td>0</td>\n",
              "      <td>1</td>\n",
              "    </tr>\n",
              "    <tr>\n",
              "      <th>...</th>\n",
              "      <td>...</td>\n",
              "      <td>...</td>\n",
              "      <td>...</td>\n",
              "      <td>...</td>\n",
              "      <td>...</td>\n",
              "      <td>...</td>\n",
              "      <td>...</td>\n",
              "      <td>...</td>\n",
              "      <td>...</td>\n",
              "      <td>...</td>\n",
              "      <td>...</td>\n",
              "      <td>...</td>\n",
              "      <td>...</td>\n",
              "      <td>...</td>\n",
              "      <td>...</td>\n",
              "      <td>...</td>\n",
              "      <td>...</td>\n",
              "      <td>...</td>\n",
              "      <td>...</td>\n",
              "      <td>...</td>\n",
              "      <td>...</td>\n",
              "    </tr>\n",
              "    <tr>\n",
              "      <th>9694</th>\n",
              "      <td>0</td>\n",
              "      <td>0</td>\n",
              "      <td>0</td>\n",
              "      <td>0</td>\n",
              "      <td>0</td>\n",
              "      <td>0</td>\n",
              "      <td>0</td>\n",
              "      <td>1</td>\n",
              "      <td>0</td>\n",
              "      <td>0</td>\n",
              "      <td>...</td>\n",
              "      <td>0</td>\n",
              "      <td>0</td>\n",
              "      <td>0</td>\n",
              "      <td>0</td>\n",
              "      <td>0</td>\n",
              "      <td>0</td>\n",
              "      <td>0</td>\n",
              "      <td>0</td>\n",
              "      <td>0</td>\n",
              "      <td>1</td>\n",
              "    </tr>\n",
              "    <tr>\n",
              "      <th>9695</th>\n",
              "      <td>0</td>\n",
              "      <td>0</td>\n",
              "      <td>0</td>\n",
              "      <td>0</td>\n",
              "      <td>0</td>\n",
              "      <td>1</td>\n",
              "      <td>0</td>\n",
              "      <td>0</td>\n",
              "      <td>0</td>\n",
              "      <td>0</td>\n",
              "      <td>...</td>\n",
              "      <td>0</td>\n",
              "      <td>0</td>\n",
              "      <td>0</td>\n",
              "      <td>0</td>\n",
              "      <td>0</td>\n",
              "      <td>0</td>\n",
              "      <td>0</td>\n",
              "      <td>0</td>\n",
              "      <td>0</td>\n",
              "      <td>1</td>\n",
              "    </tr>\n",
              "    <tr>\n",
              "      <th>9696</th>\n",
              "      <td>0</td>\n",
              "      <td>0</td>\n",
              "      <td>0</td>\n",
              "      <td>0</td>\n",
              "      <td>0</td>\n",
              "      <td>0</td>\n",
              "      <td>0</td>\n",
              "      <td>1</td>\n",
              "      <td>0</td>\n",
              "      <td>0</td>\n",
              "      <td>...</td>\n",
              "      <td>0</td>\n",
              "      <td>0</td>\n",
              "      <td>0</td>\n",
              "      <td>0</td>\n",
              "      <td>0</td>\n",
              "      <td>0</td>\n",
              "      <td>0</td>\n",
              "      <td>0</td>\n",
              "      <td>0</td>\n",
              "      <td>1</td>\n",
              "    </tr>\n",
              "    <tr>\n",
              "      <th>9697</th>\n",
              "      <td>0</td>\n",
              "      <td>0</td>\n",
              "      <td>0</td>\n",
              "      <td>0</td>\n",
              "      <td>0</td>\n",
              "      <td>0</td>\n",
              "      <td>0</td>\n",
              "      <td>0</td>\n",
              "      <td>1</td>\n",
              "      <td>0</td>\n",
              "      <td>...</td>\n",
              "      <td>0</td>\n",
              "      <td>0</td>\n",
              "      <td>0</td>\n",
              "      <td>0</td>\n",
              "      <td>0</td>\n",
              "      <td>0</td>\n",
              "      <td>0</td>\n",
              "      <td>0</td>\n",
              "      <td>0</td>\n",
              "      <td>1</td>\n",
              "    </tr>\n",
              "    <tr>\n",
              "      <th>9698</th>\n",
              "      <td>0</td>\n",
              "      <td>0</td>\n",
              "      <td>0</td>\n",
              "      <td>0</td>\n",
              "      <td>0</td>\n",
              "      <td>1</td>\n",
              "      <td>0</td>\n",
              "      <td>1</td>\n",
              "      <td>0</td>\n",
              "      <td>0</td>\n",
              "      <td>...</td>\n",
              "      <td>0</td>\n",
              "      <td>0</td>\n",
              "      <td>0</td>\n",
              "      <td>0</td>\n",
              "      <td>0</td>\n",
              "      <td>0</td>\n",
              "      <td>0</td>\n",
              "      <td>0</td>\n",
              "      <td>0</td>\n",
              "      <td>1</td>\n",
              "    </tr>\n",
              "  </tbody>\n",
              "</table>\n",
              "<p>9699 rows × 3601 columns</p>\n",
              "</div>"
            ],
            "text/plain": [
              "      com.google.android.googleapps.permission.GOOGLE_AUTH.wise  \\\n",
              "0                                                     0           \n",
              "1                                                     0           \n",
              "2                                                     0           \n",
              "3                                                     0           \n",
              "4                                                     0           \n",
              "...                                                 ...           \n",
              "9694                                                  0           \n",
              "9695                                                  0           \n",
              "9696                                                  0           \n",
              "9697                                                  0           \n",
              "9698                                                  0           \n",
              "\n",
              "      com.google.android.googleapps.permission.GOOGLE_AUTH.speech  \\\n",
              "0                                                     0             \n",
              "1                                                     0             \n",
              "2                                                     0             \n",
              "3                                                     0             \n",
              "4                                                     0             \n",
              "...                                                 ...             \n",
              "9694                                                  0             \n",
              "9695                                                  0             \n",
              "9696                                                  0             \n",
              "9697                                                  0             \n",
              "9698                                                  0             \n",
              "\n",
              "      com.google.android.googleapps.permission.GOOGLE_AUTH.sierrasandbox  \\\n",
              "0                                                     0                    \n",
              "1                                                     0                    \n",
              "2                                                     0                    \n",
              "3                                                     0                    \n",
              "4                                                     0                    \n",
              "...                                                 ...                    \n",
              "9694                                                  0                    \n",
              "9695                                                  0                    \n",
              "9696                                                  0                    \n",
              "9697                                                  0                    \n",
              "9698                                                  0                    \n",
              "\n",
              "      android.permission.DISABLE_KEYGUARD  \\\n",
              "0                                       0   \n",
              "1                                       0   \n",
              "2                                       0   \n",
              "3                                       0   \n",
              "4                                       0   \n",
              "...                                   ...   \n",
              "9694                                    0   \n",
              "9695                                    0   \n",
              "9696                                    0   \n",
              "9697                                    0   \n",
              "9698                                    0   \n",
              "\n",
              "      android.permission.WRITE_SOCIAL_STREAM  \\\n",
              "0                                          0   \n",
              "1                                          0   \n",
              "2                                          0   \n",
              "3                                          0   \n",
              "4                                          0   \n",
              "...                                      ...   \n",
              "9694                                       0   \n",
              "9695                                       0   \n",
              "9696                                       0   \n",
              "9697                                       0   \n",
              "9698                                       0   \n",
              "\n",
              "      android.permission.RECEIVE_BOOT_COMPLETED  \\\n",
              "0                                             1   \n",
              "1                                             0   \n",
              "2                                             0   \n",
              "3                                             1   \n",
              "4                                             0   \n",
              "...                                         ...   \n",
              "9694                                          0   \n",
              "9695                                          1   \n",
              "9696                                          0   \n",
              "9697                                          0   \n",
              "9698                                          1   \n",
              "\n",
              "      com.google.android.googleapps.permission.GOOGLE_AUTH.android  \\\n",
              "0                                                     0              \n",
              "1                                                     0              \n",
              "2                                                     0              \n",
              "3                                                     0              \n",
              "4                                                     0              \n",
              "...                                                 ...              \n",
              "9694                                                  0              \n",
              "9695                                                  0              \n",
              "9696                                                  0              \n",
              "9697                                                  0              \n",
              "9698                                                  0              \n",
              "\n",
              "      android.permission.WRITE_SETTINGS  android.permission.RECEIVE_WAP_PUSH  \\\n",
              "0                                     0                                    0   \n",
              "1                                     0                                    0   \n",
              "2                                     0                                    0   \n",
              "3                                     0                                    0   \n",
              "4                                     0                                    0   \n",
              "...                                 ...                                  ...   \n",
              "9694                                  1                                    0   \n",
              "9695                                  0                                    0   \n",
              "9696                                  1                                    0   \n",
              "9697                                  0                                    1   \n",
              "9698                                  1                                    0   \n",
              "\n",
              "      android.permission.WRITE_CALENDAR  ...  \\\n",
              "0                                     0  ...   \n",
              "1                                     0  ...   \n",
              "2                                     0  ...   \n",
              "3                                     0  ...   \n",
              "4                                     0  ...   \n",
              "...                                 ...  ...   \n",
              "9694                                  0  ...   \n",
              "9695                                  0  ...   \n",
              "9696                                  0  ...   \n",
              "9697                                  0  ...   \n",
              "9698                                  0  ...   \n",
              "\n",
              "      vsin.t16_funny_photo.permission.C2D_MESSAGE  \\\n",
              "0                                               0   \n",
              "1                                               0   \n",
              "2                                               0   \n",
              "3                                               0   \n",
              "4                                               0   \n",
              "...                                           ...   \n",
              "9694                                            0   \n",
              "9695                                            0   \n",
              "9696                                            0   \n",
              "9697                                            0   \n",
              "9698                                            0   \n",
              "\n",
              "      wb.receipts.permission.C2D_MESSAGE  wikem.chris.permission.C2D_MESSAGE  \\\n",
              "0                                      0                                   0   \n",
              "1                                      0                                   0   \n",
              "2                                      0                                   0   \n",
              "3                                      0                                   0   \n",
              "4                                      0                                   0   \n",
              "...                                  ...                                 ...   \n",
              "9694                                   0                                   0   \n",
              "9695                                   0                                   0   \n",
              "9696                                   0                                   0   \n",
              "9697                                   0                                   0   \n",
              "9698                                   0                                   0   \n",
              "\n",
              "      willcom.android.permission.RECEIVE_PHS_STATE  \\\n",
              "0                                                0   \n",
              "1                                                0   \n",
              "2                                                0   \n",
              "3                                                0   \n",
              "4                                                0   \n",
              "...                                            ...   \n",
              "9694                                             0   \n",
              "9695                                             0   \n",
              "9696                                             0   \n",
              "9697                                             0   \n",
              "9698                                             0   \n",
              "\n",
              "      works.examples.Syllabus.permission.C2D_MESSAGE  \\\n",
              "0                                                  0   \n",
              "1                                                  0   \n",
              "2                                                  0   \n",
              "3                                                  0   \n",
              "4                                                  0   \n",
              "...                                              ...   \n",
              "9694                                               0   \n",
              "9695                                               0   \n",
              "9696                                               0   \n",
              "9697                                               0   \n",
              "9698                                               0   \n",
              "\n",
              "      wsj.reader_sp.permission.C2D_MESSAGE  \\\n",
              "0                                        0   \n",
              "1                                        0   \n",
              "2                                        0   \n",
              "3                                        0   \n",
              "4                                        0   \n",
              "...                                    ...   \n",
              "9694                                     0   \n",
              "9695                                     0   \n",
              "9696                                     0   \n",
              "9697                                     0   \n",
              "9698                                     0   \n",
              "\n",
              "      wsj.reader_sp.permission.RECEIVE_ADM_MESSAGE  \\\n",
              "0                                                0   \n",
              "1                                                0   \n",
              "2                                                0   \n",
              "3                                                0   \n",
              "4                                                0   \n",
              "...                                            ...   \n",
              "9694                                             0   \n",
              "9695                                             0   \n",
              "9696                                             0   \n",
              "9697                                             0   \n",
              "9698                                             0   \n",
              "\n",
              "      wsj.reader_sp.permission.UA_DATA  \\\n",
              "0                                    0   \n",
              "1                                    0   \n",
              "2                                    0   \n",
              "3                                    0   \n",
              "4                                    0   \n",
              "...                                ...   \n",
              "9694                                 0   \n",
              "9695                                 0   \n",
              "9696                                 0   \n",
              "9697                                 0   \n",
              "9698                                 0   \n",
              "\n",
              "      xcxin.filexpert.permission.C2D_MESSAGE  Mal  \n",
              "0                                          0    1  \n",
              "1                                          0    1  \n",
              "2                                          0    1  \n",
              "3                                          0    1  \n",
              "4                                          0    1  \n",
              "...                                      ...  ...  \n",
              "9694                                       0    1  \n",
              "9695                                       0    1  \n",
              "9696                                       0    1  \n",
              "9697                                       0    1  \n",
              "9698                                       0    1  \n",
              "\n",
              "[9699 rows x 3601 columns]"
            ]
          },
          "execution_count": 3,
          "metadata": {},
          "output_type": "execute_result"
        }
      ],
      "source": [
        "df = df.drop(['Unnamed: 3608', 'yo.app.free.permission.C2D_MESSAGE','you.in.spark.energy.permission.C2D_MESSAGE','your_package_name.permission.MAPS_RECEIVE','za.co.discovery.consumer.permission.C2D_MESSAGE','zayhu.permission.ACCESS_SVC','zing.zalo.permission.ZALO_SERVICE', 'android.permission.READ_SMS.1'], axis=1)\n",
        "df"
      ]
    },
    {
      "cell_type": "code",
      "execution_count": null,
      "metadata": {
        "id": "pBomfEDGdS-P"
      },
      "outputs": [],
      "source": [
        "from sklearn import svm\n",
        "import pandas as pd\n",
        "import numpy as np\n",
        "import matplotlib.pyplot as plt\n",
        "from sklearn import datasets, ensemble, preprocessing, metrics\n",
        "from sklearn.model_selection import train_test_split"
      ]
    },
    {
      "cell_type": "code",
      "execution_count": null,
      "metadata": {
        "id": "v2nbOBBDdS-P",
        "outputId": "a765aabd-8c65-428b-eb5b-8b338a49d597"
      },
      "outputs": [
        {
          "data": {
            "text/plain": [
              "False"
            ]
          },
          "execution_count": 5,
          "metadata": {},
          "output_type": "execute_result"
        }
      ],
      "source": [
        "np.any(np.isnan(df))\n",
        "np.all(np.isfinite(df))"
      ]
    },
    {
      "cell_type": "code",
      "execution_count": null,
      "metadata": {
        "id": "aKCeqY-JdS-Q"
      },
      "outputs": [],
      "source": [
        "df.fillna(0, inplace=True)"
      ]
    },
    {
      "cell_type": "code",
      "execution_count": null,
      "metadata": {
        "id": "0oMYo77GdS-Q"
      },
      "outputs": [],
      "source": [
        "X = df[df.columns[:-1]]\n",
        "y=df[[\"Mal\"]]\n",
        "X_train, X_test, y_train, y_test = train_test_split(X.values, y,test_size=0.2,random_state=100)"
      ]
    },
    {
      "cell_type": "markdown",
      "metadata": {
        "id": "zJyERhJidS-Q"
      },
      "source": [
        "# SVM"
      ]
    },
    {
      "cell_type": "code",
      "execution_count": null,
      "metadata": {
        "id": "bqmXqvnudS-R",
        "outputId": "c8820b9c-a21f-4ca5-b30e-33610d3511ca"
      },
      "outputs": [
        {
          "name": "stderr",
          "output_type": "stream",
          "text": [
            "C:\\Users\\user\\anaconda3\\lib\\site-packages\\sklearn\\utils\\validation.py:72: DataConversionWarning: A column-vector y was passed when a 1d array was expected. Please change the shape of y to (n_samples, ), for example using ravel().\n",
            "  return f(**kwargs)\n"
          ]
        },
        {
          "data": {
            "text/plain": [
              "SVC(C=1)"
            ]
          },
          "execution_count": 39,
          "metadata": {},
          "output_type": "execute_result"
        }
      ],
      "source": [
        "from sklearn import svm\n",
        "modelsvm=svm.SVC(kernel='rbf',C=1,gamma='scale')\n",
        "modelsvm.fit(X_train,y_train)"
      ]
    },
    {
      "cell_type": "code",
      "execution_count": null,
      "metadata": {
        "id": "AgKRPQTHdS-R",
        "outputId": "c88f1cd7-ed11-4e87-baef-e539f5c6441b"
      },
      "outputs": [
        {
          "data": {
            "text/plain": [
              "array([1, 0, 0, ..., 0, 1, 1], dtype=int64)"
            ]
          },
          "execution_count": 40,
          "metadata": {},
          "output_type": "execute_result"
        }
      ],
      "source": [
        "y_pred1 = modelsvm.predict(X_test)\n",
        "y_pred1"
      ]
    },
    {
      "cell_type": "code",
      "execution_count": null,
      "metadata": {
        "id": "9eKOGIkvdS-S",
        "outputId": "a1ebe5db-98bd-4011-fd70-f424a29a4d96"
      },
      "outputs": [
        {
          "name": "stdout",
          "output_type": "stream",
          "text": [
            "SVM model的accuracy： 0.9788659793814433\n"
          ]
        }
      ],
      "source": [
        "print(\"SVM model的accuracy：\",modelsvm.score(X_test, y_test))"
      ]
    },
    {
      "cell_type": "code",
      "execution_count": null,
      "metadata": {
        "id": "78HrmTXBdS-S",
        "outputId": "11f0a366-38e1-4617-868d-b137f779899d"
      },
      "outputs": [
        {
          "name": "stdout",
          "output_type": "stream",
          "text": [
            "trainning data的accuracy： 0.9858229153241397\n",
            "test data的accuracy： 0.9788659793814433\n"
          ]
        }
      ],
      "source": [
        "print(\"trainning data的accuracy：\",modelsvm.score(X_train,y_train))\n",
        "print(\"test data的accuracy：\",modelsvm.score(X_test, y_test))"
      ]
    },
    {
      "cell_type": "code",
      "execution_count": null,
      "metadata": {
        "id": "3nIfAgSFdS-S",
        "outputId": "946f3f2a-44a7-45c0-a435-716c04670620"
      },
      "outputs": [
        {
          "name": "stdout",
          "output_type": "stream",
          "text": [
            "              precision    recall  f1-score   support\n",
            "\n",
            "           0       0.98      0.97      0.98       824\n",
            "           1       0.98      0.98      0.98      1116\n",
            "\n",
            "    accuracy                           0.98      1940\n",
            "   macro avg       0.98      0.98      0.98      1940\n",
            "weighted avg       0.98      0.98      0.98      1940\n",
            "\n"
          ]
        }
      ],
      "source": [
        "from sklearn import metrics\n",
        "print(metrics.classification_report(y_test,y_pred1))"
      ]
    },
    {
      "cell_type": "markdown",
      "metadata": {
        "id": "hEGqxz3AdS-T"
      },
      "source": [
        "# RandomForest"
      ]
    },
    {
      "cell_type": "code",
      "execution_count": null,
      "metadata": {
        "id": "BddAFfNLdS-T",
        "outputId": "61e9a631-afbc-4247-b7fa-2db316cbb423"
      },
      "outputs": [
        {
          "name": "stderr",
          "output_type": "stream",
          "text": [
            "<ipython-input-44-1f9f44d4c94c>:3: DataConversionWarning: A column-vector y was passed when a 1d array was expected. Please change the shape of y to (n_samples,), for example using ravel().\n",
            "  forest.fit(X_train, y_train)\n"
          ]
        },
        {
          "data": {
            "text/plain": [
              "RandomForestClassifier(n_estimators=2400)"
            ]
          },
          "execution_count": 44,
          "metadata": {},
          "output_type": "execute_result"
        }
      ],
      "source": [
        "# 建立 random forest 模型\n",
        "forest = ensemble.RandomForestClassifier(n_estimators = 2400)\n",
        "forest.fit(X_train, y_train)"
      ]
    },
    {
      "cell_type": "code",
      "execution_count": null,
      "metadata": {
        "id": "ENP1USuwdS-T"
      },
      "outputs": [],
      "source": [
        "y_pred = forest.predict(X_test)"
      ]
    },
    {
      "cell_type": "code",
      "execution_count": null,
      "metadata": {
        "id": "zGV9_25qdS-T",
        "outputId": "6dab75b6-19f4-413a-80ea-6b5eea7eb0de"
      },
      "outputs": [
        {
          "name": "stdout",
          "output_type": "stream",
          "text": [
            "RandomForest的accuracy： 0.979381443298969\n"
          ]
        }
      ],
      "source": [
        "print(\"RandomForest的accuracy：\",metrics.accuracy_score(y_test, y_pred))"
      ]
    },
    {
      "cell_type": "markdown",
      "metadata": {
        "id": "5uvUVkbvdS-T"
      },
      "source": [
        "# CNN"
      ]
    },
    {
      "cell_type": "code",
      "execution_count": null,
      "metadata": {
        "id": "EMS_BBEFdS-T"
      },
      "outputs": [],
      "source": [
        "X = df[df.columns[:-1]]\n",
        "y=df[[\"Mal\"]]\n",
        "X_train, X_test, y_train, y_test = train_test_split(X.values, y,test_size=0.2,random_state=100)"
      ]
    },
    {
      "cell_type": "code",
      "execution_count": null,
      "metadata": {
        "id": "s11PVIfCdS-T",
        "outputId": "a1b1588b-39d9-4353-fdac-abc75fe81d97"
      },
      "outputs": [
        {
          "data": {
            "text/plain": [
              "3600"
            ]
          },
          "execution_count": 9,
          "metadata": {},
          "output_type": "execute_result"
        }
      ],
      "source": [
        "X_train.shape[-1]"
      ]
    },
    {
      "cell_type": "code",
      "execution_count": null,
      "metadata": {
        "id": "0HfUg73XdS-T",
        "outputId": "9fe91695-5660-4ab5-9889-41806ca7d658"
      },
      "outputs": [
        {
          "data": {
            "text/plain": [
              "dtype('float64')"
            ]
          },
          "execution_count": 10,
          "metadata": {},
          "output_type": "execute_result"
        }
      ],
      "source": [
        "from numpy import *\n",
        "X_train = np.reshape(X_train, (X_train.shape[0], 60 ,60, 1))\n",
        "# X_train = X_train.reshape(-1, 28, 28, 1)\n",
        "X_train.dtype"
      ]
    },
    {
      "cell_type": "code",
      "execution_count": null,
      "metadata": {
        "id": "bqk8zjs_dS-T",
        "outputId": "1c37a7bb-4e93-40c1-e0f6-9b28bca2b248"
      },
      "outputs": [
        {
          "data": {
            "text/plain": [
              "dtype('uint8')"
            ]
          },
          "execution_count": 11,
          "metadata": {},
          "output_type": "execute_result"
        }
      ],
      "source": [
        "X_train = X_train.astype(\"uint8\")\n",
        "X_train = array(X_train)\n",
        "X_train.dtype"
      ]
    },
    {
      "cell_type": "code",
      "execution_count": null,
      "metadata": {
        "id": "0cHZrpaPdS-T",
        "outputId": "816f8eaa-1e53-40d6-cab4-2f71019a35a3"
      },
      "outputs": [
        {
          "data": {
            "text/plain": [
              "(7759, 60, 60, 1)"
            ]
          },
          "execution_count": 12,
          "metadata": {},
          "output_type": "execute_result"
        }
      ],
      "source": [
        "X_train.shape"
      ]
    },
    {
      "cell_type": "code",
      "execution_count": null,
      "metadata": {
        "id": "-Bm0CpzTdS-T",
        "outputId": "1a57a14d-5a8a-426c-bbcd-28e0c70ee5ab"
      },
      "outputs": [
        {
          "data": {
            "text/plain": [
              "dtype('uint8')"
            ]
          },
          "execution_count": 13,
          "metadata": {},
          "output_type": "execute_result"
        }
      ],
      "source": [
        "X_test = np.reshape(X_test, (X_test.shape[0], 60, 60, 1)).astype(\"uint8\")\n",
        "X_test = array(X_test)\n",
        "X_test.dtype"
      ]
    },
    {
      "cell_type": "code",
      "execution_count": null,
      "metadata": {
        "id": "O-MgMOQPdS-U",
        "outputId": "18ea7713-0e03-42bb-b8da-ef587db28b3c"
      },
      "outputs": [
        {
          "data": {
            "text/plain": [
              "(1940, 60, 60, 1)"
            ]
          },
          "execution_count": 14,
          "metadata": {},
          "output_type": "execute_result"
        }
      ],
      "source": [
        "X_test.shape"
      ]
    },
    {
      "cell_type": "code",
      "execution_count": null,
      "metadata": {
        "id": "33rMPNlbdS-U"
      },
      "outputs": [],
      "source": [
        "# y_train = np.reshape(y_train, (y_train.shape[0], y_train.shape[1], 1)).astype(\"uint8\")\n",
        "# y_test = np.reshape(y_test, (y_test.shape[0], y_test.shape[1], 1)).astype(\"uint8\")\n",
        "# X_train = X_train / 255\n",
        "# X_test = X_test / 255"
      ]
    },
    {
      "cell_type": "code",
      "execution_count": null,
      "metadata": {
        "id": "w2Kw8_-4dS-U"
      },
      "outputs": [],
      "source": [
        "from keras.utils import np_utils\n",
        "# 使用one-hot進行轉換\n",
        "# 將 training 的 label 進行 one-hot encoding，例如數字 7 經過 One-hot encoding 轉換後是 0000001000，即第7個值為 1\n",
        "y_train_one = np_utils.to_categorical(y_train)\n",
        "y_test_one = np_utils.to_categorical(y_test)"
      ]
    },
    {
      "cell_type": "code",
      "execution_count": null,
      "metadata": {
        "id": "CvW826HCdS-U"
      },
      "outputs": [],
      "source": [
        "import tensorflow as tf\n",
        "import keras\n",
        "from keras.models import Sequential\n",
        "from keras.layers import Dense, Dropout, Flatten, Conv2D, MaxPooling2D"
      ]
    },
    {
      "cell_type": "code",
      "execution_count": null,
      "metadata": {
        "id": "LctDdaUIdS-U"
      },
      "outputs": [],
      "source": [
        "# 建立簡單的線性執行的模型\n",
        "model = Sequential()\n",
        "# ----------------------------------------------------------------\n",
        "# Add Input layer\n",
        "# 輸出16個60*60個影像\n",
        "model.add(Conv2D(16,3, padding='same', activation='relu', input_shape=(60, 60, 1)))\n",
        "# Pooling=>16個30*30\n",
        "model.add(MaxPooling2D(pool_size=(2, 2)))\n",
        "\n",
        "# 第2個Convolution=>36個30*30\n",
        "model.add(Conv2D(32,3, padding='same', activation='relu'))\n",
        "# 第2次Pooling=>36個15*15\n",
        "model.add(MaxPooling2D(pool_size=(2, 2)))\n",
        "\n",
        "# 第3次Convolution=>64個15*15\n",
        "model.add(Conv2D(64,3, padding='same', activation='relu'))\n",
        "# 第3次Pooling=>64個15/2*15/2\n",
        "model.add(MaxPooling2D(pool_size=(2, 2)))\n",
        "\n",
        "# # 第3次Convolution=>64個64*64\n",
        "# model.add(Conv2D(16,3, padding='same', activation='relu'))\n",
        "# # 第2次Pooling=>64個32*32\n",
        "# model.add(MaxPooling2D(pool_size=(2, 2)))\n",
        "# ------------------------------------------------------------------\n",
        "# Dropout=>減少過度儗和，繞每次batch run都丟棄0.25的neuron\n",
        "model.add(Dropout(0.2))\n",
        "# Flatten=>轉一維=>63*32*32\n",
        "model.add(Flatten())\n",
        "# connected\n",
        "model.add(Dense(512, activation='relu'))\n",
        "\n",
        "# model.add(Dropout(0.5)) #可有可無\n",
        "\n",
        "# output layer=>因為我只有0/1=>用sigmoid\n",
        "model.add(Dense(2, kernel_initializer='normal', activation='sigmoid'))"
      ]
    },
    {
      "cell_type": "code",
      "execution_count": null,
      "metadata": {
        "scrolled": false,
        "id": "hhb_DxnZdS-U",
        "outputId": "90da04d0-bff9-43d3-ac62-de42410264a0"
      },
      "outputs": [
        {
          "name": "stdout",
          "output_type": "stream",
          "text": [
            "Model: \"sequential_2\"\n",
            "_________________________________________________________________\n",
            "Layer (type)                 Output Shape              Param #   \n",
            "=================================================================\n",
            "conv2d_4 (Conv2D)            (None, 60, 60, 16)        160       \n",
            "_________________________________________________________________\n",
            "max_pooling2d_4 (MaxPooling2 (None, 30, 30, 16)        0         \n",
            "_________________________________________________________________\n",
            "conv2d_5 (Conv2D)            (None, 30, 30, 32)        4640      \n",
            "_________________________________________________________________\n",
            "max_pooling2d_5 (MaxPooling2 (None, 15, 15, 32)        0         \n",
            "_________________________________________________________________\n",
            "conv2d_6 (Conv2D)            (None, 15, 15, 64)        18496     \n",
            "_________________________________________________________________\n",
            "max_pooling2d_6 (MaxPooling2 (None, 7, 7, 64)          0         \n",
            "_________________________________________________________________\n",
            "conv2d_7 (Conv2D)            (None, 7, 7, 16)          9232      \n",
            "_________________________________________________________________\n",
            "max_pooling2d_7 (MaxPooling2 (None, 3, 3, 16)          0         \n",
            "_________________________________________________________________\n",
            "dropout_2 (Dropout)          (None, 3, 3, 16)          0         \n",
            "_________________________________________________________________\n",
            "flatten_2 (Flatten)          (None, 144)               0         \n",
            "_________________________________________________________________\n",
            "dense_4 (Dense)              (None, 512)               74240     \n",
            "_________________________________________________________________\n",
            "dense_5 (Dense)              (None, 2)                 1026      \n",
            "=================================================================\n",
            "Total params: 107,794\n",
            "Trainable params: 107,794\n",
            "Non-trainable params: 0\n",
            "_________________________________________________________________\n"
          ]
        }
      ],
      "source": [
        "model.summary()"
      ]
    },
    {
      "cell_type": "code",
      "execution_count": null,
      "metadata": {
        "id": "hkbDm9c1dS-U"
      },
      "outputs": [],
      "source": [
        "# 選擇損失函數、優化方法及成效衡量方式==>定義model\n",
        "model.compile(loss='categorical_crossentropy',\n",
        "              optimizer='adam',\n",
        "              metrics=['accuracy']\n",
        "             )"
      ]
    },
    {
      "cell_type": "code",
      "execution_count": null,
      "metadata": {
        "scrolled": false,
        "id": "5EwsQ5KGdS-U",
        "outputId": "fde536ba-6889-4e38-c1e1-745879cb0982"
      },
      "outputs": [
        {
          "name": "stdout",
          "output_type": "stream",
          "text": [
            "Epoch 1/50\n",
            "8/8 - 34s - loss: 0.6730 - accuracy: 0.5951 - val_loss: 0.6436 - val_accuracy: 0.5838\n",
            "Epoch 2/50\n",
            "8/8 - 29s - loss: 0.5862 - accuracy: 0.6808 - val_loss: 0.4886 - val_accuracy: 0.7629\n",
            "Epoch 3/50\n",
            "8/8 - 31s - loss: 0.4329 - accuracy: 0.8165 - val_loss: 0.3501 - val_accuracy: 0.8544\n",
            "Epoch 4/50\n",
            "8/8 - 30s - loss: 0.3521 - accuracy: 0.8695 - val_loss: 0.2853 - val_accuracy: 0.8866\n",
            "Epoch 5/50\n",
            "8/8 - 30s - loss: 0.2782 - accuracy: 0.9029 - val_loss: 0.2200 - val_accuracy: 0.9227\n",
            "Epoch 6/50\n",
            "8/8 - 31s - loss: 0.2210 - accuracy: 0.9225 - val_loss: 0.1850 - val_accuracy: 0.9356\n",
            "Epoch 7/50\n",
            "8/8 - 30s - loss: 0.1961 - accuracy: 0.9306 - val_loss: 0.1775 - val_accuracy: 0.9381\n",
            "Epoch 8/50\n",
            "8/8 - 30s - loss: 0.1734 - accuracy: 0.9378 - val_loss: 0.1622 - val_accuracy: 0.9433\n",
            "Epoch 9/50\n",
            "8/8 - 30s - loss: 0.1594 - accuracy: 0.9407 - val_loss: 0.1466 - val_accuracy: 0.9407\n",
            "Epoch 10/50\n",
            "8/8 - 31s - loss: 0.1440 - accuracy: 0.9468 - val_loss: 0.1378 - val_accuracy: 0.9459\n",
            "Epoch 11/50\n",
            "8/8 - 32s - loss: 0.1251 - accuracy: 0.9546 - val_loss: 0.1300 - val_accuracy: 0.9491\n",
            "Epoch 12/50\n",
            "8/8 - 32s - loss: 0.1208 - accuracy: 0.9565 - val_loss: 0.1261 - val_accuracy: 0.9549\n",
            "Epoch 13/50\n",
            "8/8 - 31s - loss: 0.1133 - accuracy: 0.9594 - val_loss: 0.1244 - val_accuracy: 0.9555\n",
            "Epoch 14/50\n",
            "8/8 - 31s - loss: 0.1057 - accuracy: 0.9625 - val_loss: 0.1199 - val_accuracy: 0.9562\n",
            "Epoch 15/50\n",
            "8/8 - 30s - loss: 0.0967 - accuracy: 0.9663 - val_loss: 0.1188 - val_accuracy: 0.9575\n",
            "Epoch 16/50\n",
            "8/8 - 32s - loss: 0.0931 - accuracy: 0.9675 - val_loss: 0.1104 - val_accuracy: 0.9588\n",
            "Epoch 17/50\n",
            "8/8 - 37s - loss: 0.0881 - accuracy: 0.9684 - val_loss: 0.1049 - val_accuracy: 0.9588\n",
            "Epoch 18/50\n",
            "8/8 - 29s - loss: 0.0835 - accuracy: 0.9726 - val_loss: 0.1031 - val_accuracy: 0.9620\n",
            "Epoch 19/50\n",
            "8/8 - 31s - loss: 0.0776 - accuracy: 0.9733 - val_loss: 0.1075 - val_accuracy: 0.9613\n",
            "Epoch 20/50\n",
            "8/8 - 31s - loss: 0.0743 - accuracy: 0.9750 - val_loss: 0.1055 - val_accuracy: 0.9639\n",
            "Epoch 21/50\n",
            "8/8 - 31s - loss: 0.0750 - accuracy: 0.9766 - val_loss: 0.0992 - val_accuracy: 0.9646\n",
            "Epoch 22/50\n",
            "8/8 - 30s - loss: 0.0677 - accuracy: 0.9786 - val_loss: 0.1100 - val_accuracy: 0.9626\n",
            "Epoch 23/50\n",
            "8/8 - 30s - loss: 0.0666 - accuracy: 0.9784 - val_loss: 0.1071 - val_accuracy: 0.9620\n",
            "Epoch 24/50\n",
            "8/8 - 32s - loss: 0.0658 - accuracy: 0.9784 - val_loss: 0.0979 - val_accuracy: 0.9659\n",
            "Epoch 25/50\n",
            "8/8 - 32s - loss: 0.0608 - accuracy: 0.9805 - val_loss: 0.1008 - val_accuracy: 0.9652\n",
            "Epoch 26/50\n",
            "8/8 - 31s - loss: 0.0599 - accuracy: 0.9805 - val_loss: 0.0972 - val_accuracy: 0.9678\n",
            "Epoch 27/50\n",
            "8/8 - 30s - loss: 0.0576 - accuracy: 0.9821 - val_loss: 0.0972 - val_accuracy: 0.9671\n",
            "Epoch 28/50\n",
            "8/8 - 29s - loss: 0.0600 - accuracy: 0.9813 - val_loss: 0.0987 - val_accuracy: 0.9659\n",
            "Epoch 29/50\n",
            "8/8 - 30s - loss: 0.0578 - accuracy: 0.9820 - val_loss: 0.1099 - val_accuracy: 0.9620\n",
            "Epoch 30/50\n",
            "8/8 - 30s - loss: 0.0563 - accuracy: 0.9826 - val_loss: 0.0946 - val_accuracy: 0.9704\n",
            "Epoch 31/50\n",
            "8/8 - 30s - loss: 0.0546 - accuracy: 0.9820 - val_loss: 0.0952 - val_accuracy: 0.9710\n",
            "Epoch 32/50\n",
            "8/8 - 30s - loss: 0.0525 - accuracy: 0.9837 - val_loss: 0.0952 - val_accuracy: 0.9704\n",
            "Epoch 33/50\n",
            "8/8 - 33s - loss: 0.0497 - accuracy: 0.9836 - val_loss: 0.1054 - val_accuracy: 0.9633\n",
            "Epoch 34/50\n",
            "8/8 - 30s - loss: 0.0482 - accuracy: 0.9849 - val_loss: 0.1040 - val_accuracy: 0.9639\n",
            "Epoch 35/50\n",
            "8/8 - 32s - loss: 0.0484 - accuracy: 0.9839 - val_loss: 0.1026 - val_accuracy: 0.9639\n",
            "Epoch 36/50\n",
            "8/8 - 31s - loss: 0.0463 - accuracy: 0.9849 - val_loss: 0.1022 - val_accuracy: 0.9652\n",
            "Epoch 37/50\n",
            "8/8 - 31s - loss: 0.0428 - accuracy: 0.9868 - val_loss: 0.0984 - val_accuracy: 0.9691\n",
            "Epoch 38/50\n",
            "8/8 - 30s - loss: 0.0423 - accuracy: 0.9878 - val_loss: 0.0976 - val_accuracy: 0.9704\n",
            "Epoch 39/50\n",
            "8/8 - 30s - loss: 0.0413 - accuracy: 0.9871 - val_loss: 0.0937 - val_accuracy: 0.9691\n",
            "Epoch 40/50\n",
            "8/8 - 29s - loss: 0.0400 - accuracy: 0.9873 - val_loss: 0.0934 - val_accuracy: 0.9678\n",
            "Epoch 41/50\n",
            "8/8 - 29s - loss: 0.0395 - accuracy: 0.9873 - val_loss: 0.0946 - val_accuracy: 0.9704\n",
            "Epoch 42/50\n",
            "8/8 - 29s - loss: 0.0397 - accuracy: 0.9879 - val_loss: 0.0951 - val_accuracy: 0.9691\n",
            "Epoch 43/50\n",
            "8/8 - 29s - loss: 0.0396 - accuracy: 0.9878 - val_loss: 0.1015 - val_accuracy: 0.9691\n",
            "Epoch 44/50\n",
            "8/8 - 29s - loss: 0.0371 - accuracy: 0.9868 - val_loss: 0.0908 - val_accuracy: 0.9704\n",
            "Epoch 45/50\n",
            "8/8 - 31s - loss: 0.0366 - accuracy: 0.9884 - val_loss: 0.0961 - val_accuracy: 0.9697\n",
            "Epoch 46/50\n",
            "8/8 - 30s - loss: 0.0356 - accuracy: 0.9882 - val_loss: 0.0940 - val_accuracy: 0.9697\n",
            "Epoch 47/50\n",
            "8/8 - 29s - loss: 0.0342 - accuracy: 0.9889 - val_loss: 0.0959 - val_accuracy: 0.9691\n",
            "Epoch 48/50\n",
            "8/8 - 29s - loss: 0.0337 - accuracy: 0.9887 - val_loss: 0.0986 - val_accuracy: 0.9691\n",
            "Epoch 49/50\n",
            "8/8 - 29s - loss: 0.0332 - accuracy: 0.9899 - val_loss: 0.0955 - val_accuracy: 0.9697\n",
            "Epoch 50/50\n",
            "8/8 - 28s - loss: 0.0313 - accuracy: 0.9900 - val_loss: 0.0976 - val_accuracy: 0.9678\n"
          ]
        }
      ],
      "source": [
        "# 進行訓練, 訓練過程會存在history\n",
        "history = model.fit(x=X_train, y=y_train_one, validation_split=0.2, epochs=20, batch_size=800, verbose=2)"
      ]
    },
    {
      "cell_type": "code",
      "execution_count": null,
      "metadata": {
        "id": "WJqt193IdS-U",
        "outputId": "8cc25d81-29cb-4890-8cc9-2c0c9c90e624"
      },
      "outputs": [
        {
          "name": "stdout",
          "output_type": "stream",
          "text": [
            "dict_keys(['loss', 'accuracy', 'val_loss', 'val_accuracy'])\n"
          ]
        },
        {
          "data": {
            "image/png": "[encoded data removed]",
            "text/plain": [
              "<Figure size 432x288 with 1 Axes>"
            ]
          },
          "metadata": {
            "needs_background": "light"
          },
          "output_type": "display_data"
        }
      ],
      "source": [
        "print(history.history.keys())\n",
        "\n",
        "plt.plot(history.history['accuracy'])\n",
        "plt.plot(history.history['val_accuracy'])\n",
        "plt.title('model accuracy')\n",
        "plt.ylabel('accuracy')\n",
        "plt.xlabel('epoch')\n",
        "plt.show()"
      ]
    },
    {
      "cell_type": "code",
      "execution_count": null,
      "metadata": {
        "id": "vOBwS9ZcdS-U",
        "outputId": "84d3c7c2-3197-4623-ac01-a398c4c3157b"
      },
      "outputs": [
        {
          "data": {
            "image/png": "[encoded data removed]",
            "text/plain": [
              "<Figure size 432x288 with 1 Axes>"
            ]
          },
          "metadata": {
            "needs_background": "light"
          },
          "output_type": "display_data"
        }
      ],
      "source": [
        "plt.plot(history.history['loss'])\n",
        "plt.plot(history.history['val_loss'])\n",
        "plt.title('model loss')\n",
        "plt.ylabel('loss')\n",
        "plt.xlabel('epoch')\n",
        "\n",
        "plt.show()"
      ]
    },
    {
      "cell_type": "code",
      "execution_count": null,
      "metadata": {
        "scrolled": false,
        "id": "Mb2fvo29dS-V",
        "outputId": "a5a6a769-e6a3-4db9-cfdd-350a3b0e7d80"
      },
      "outputs": [
        {
          "name": "stdout",
          "output_type": "stream",
          "text": [
            "61/61 [==============================] - 2s 35ms/step - loss: 0.0822 - accuracy: 0.9742\n"
          ]
        },
        {
          "data": {
            "text/plain": [
              "0.9742268323898315"
            ]
          },
          "execution_count": 80,
          "metadata": {},
          "output_type": "execute_result"
        }
      ],
      "source": [
        "scores = model.evaluate(X_test, y_test_one)\n",
        "\n",
        "scores[1]"
      ]
    },
    {
      "cell_type": "markdown",
      "metadata": {
        "id": "WByQ_v4XdS-V"
      },
      "source": [
        "# LeNet"
      ]
    },
    {
      "cell_type": "code",
      "execution_count": null,
      "metadata": {
        "id": "r0tUq2P4dS-V"
      },
      "outputs": [],
      "source": [
        "from keras.models import Sequential\n",
        "from keras.layers import Conv2D, MaxPooling2D, Flatten, Dense\n",
        "from keras.datasets import mnist\n",
        "from keras import backend as k\n",
        "from keras.utils import np_utils\n",
        "import numpy as np\n",
        "import matplotlib.pyplot as plt"
      ]
    },
    {
      "cell_type": "code",
      "execution_count": null,
      "metadata": {
        "id": "1gk7BvgUdS-V"
      },
      "outputs": [],
      "source": [
        "class LeNet:\n",
        "     @staticmethod\n",
        "     def build(input_shape, classes):\n",
        "         # Defining the model to be used\n",
        "         model = Sequential()\n",
        "         # Adding the layers\n",
        "         model.add(Conv2D(20, kernel_size=5, activation='relu', padding='same', input_shape=input_shape))\n",
        "         model.add(MaxPooling2D(pool_size=(2,2), strides=(2,2)))\n",
        "         model.add(Conv2D(50, kernel_size=5, activation='relu'))\n",
        "         model.add(MaxPooling2D(pool_size=(2,2), strides=(2,2)))\n",
        "         model.add(Flatten())\n",
        "         model.add(Dense(500, activation='relu'))\n",
        "         model.add(Dense(classes, activation='softmax'))\n",
        "         return model\n",
        ""
      ]
    },
    {
      "cell_type": "code",
      "execution_count": null,
      "metadata": {
        "scrolled": false,
        "id": "TC-J9MyPdS-V",
        "outputId": "e7c3c981-d5d3-40ef-b6fe-7279b9fee284"
      },
      "outputs": [
        {
          "name": "stdout",
          "output_type": "stream",
          "text": [
            "Epoch 1/20\n",
            "46/46 [==============================] - 37s 457ms/step - loss: 0.4176 - accuracy: 0.8193 - val_loss: 0.1469 - val_accuracy: 0.9438\n",
            "Epoch 2/20\n",
            "46/46 [==============================] - 19s 419ms/step - loss: 0.1165 - accuracy: 0.9582 - val_loss: 0.1110 - val_accuracy: 0.9557\n",
            "Epoch 3/20\n",
            "46/46 [==============================] - 19s 405ms/step - loss: 0.0942 - accuracy: 0.9678 - val_loss: 0.0996 - val_accuracy: 0.9660\n",
            "Epoch 4/20\n",
            "46/46 [==============================] - 17s 376ms/step - loss: 0.0691 - accuracy: 0.9763 - val_loss: 0.0911 - val_accuracy: 0.9691\n",
            "Epoch 5/20\n",
            "46/46 [==============================] - 17s 363ms/step - loss: 0.0621 - accuracy: 0.9790 - val_loss: 0.1077 - val_accuracy: 0.9639\n",
            "Epoch 6/20\n",
            "46/46 [==============================] - 17s 368ms/step - loss: 0.0648 - accuracy: 0.9792 - val_loss: 0.0902 - val_accuracy: 0.9696\n",
            "Epoch 7/20\n",
            "46/46 [==============================] - 17s 366ms/step - loss: 0.0526 - accuracy: 0.9845 - val_loss: 0.0872 - val_accuracy: 0.9722\n",
            "Epoch 8/20\n",
            "46/46 [==============================] - 17s 363ms/step - loss: 0.0500 - accuracy: 0.9842 - val_loss: 0.0976 - val_accuracy: 0.9706\n",
            "Epoch 9/20\n",
            "46/46 [==============================] - 17s 363ms/step - loss: 0.0401 - accuracy: 0.9884 - val_loss: 0.0901 - val_accuracy: 0.9732\n",
            "Epoch 10/20\n",
            "46/46 [==============================] - 17s 372ms/step - loss: 0.0501 - accuracy: 0.9833 - val_loss: 0.1064 - val_accuracy: 0.9696\n",
            "Epoch 11/20\n",
            "46/46 [==============================] - 17s 365ms/step - loss: 0.0445 - accuracy: 0.9852 - val_loss: 0.0867 - val_accuracy: 0.9722\n",
            "Epoch 12/20\n",
            "46/46 [==============================] - 17s 372ms/step - loss: 0.0402 - accuracy: 0.9865 - val_loss: 0.0890 - val_accuracy: 0.9737\n",
            "Epoch 13/20\n",
            "46/46 [==============================] - 17s 380ms/step - loss: 0.0376 - accuracy: 0.9891 - val_loss: 0.1146 - val_accuracy: 0.9675\n",
            "Epoch 14/20\n",
            "46/46 [==============================] - 17s 371ms/step - loss: 0.0365 - accuracy: 0.9884 - val_loss: 0.1119 - val_accuracy: 0.9711\n",
            "Epoch 15/20\n",
            "46/46 [==============================] - 17s 372ms/step - loss: 0.0306 - accuracy: 0.9906 - val_loss: 0.1028 - val_accuracy: 0.9701\n",
            "Epoch 16/20\n",
            "46/46 [==============================] - 17s 374ms/step - loss: 0.0279 - accuracy: 0.9913 - val_loss: 0.0888 - val_accuracy: 0.9727\n",
            "Epoch 17/20\n",
            "46/46 [==============================] - 18s 389ms/step - loss: 0.0334 - accuracy: 0.9890 - val_loss: 0.0942 - val_accuracy: 0.9747\n",
            "Epoch 18/20\n",
            "46/46 [==============================] - 17s 378ms/step - loss: 0.0287 - accuracy: 0.9900 - val_loss: 0.1034 - val_accuracy: 0.9722\n",
            "Epoch 19/20\n",
            "46/46 [==============================] - 18s 380ms/step - loss: 0.0308 - accuracy: 0.9902 - val_loss: 0.0975 - val_accuracy: 0.9732\n",
            "Epoch 20/20\n",
            "46/46 [==============================] - 17s 375ms/step - loss: 0.0231 - accuracy: 0.9931 - val_loss: 0.1078 - val_accuracy: 0.9732\n",
            "61/61 [==============================] - 1s 22ms/step - loss: 0.0936 - accuracy: 0.9778\n",
            "Test Score :  0.09363837540149689\n",
            "Test Accuracy :  0.9778350591659546\n",
            "dict_keys(['loss', 'accuracy', 'val_loss', 'val_accuracy'])\n"
          ]
        }
      ],
      "source": [
        "# Hyperparameter Definition\n",
        "BATCH_SIZE=128\n",
        "EPOCHS = 20\n",
        "IP_SHAPE = (60, 60, 1)\n",
        "# k.set_image_dim_ordering('th')\n",
        "\n",
        "# Building the model\n",
        "model = LeNet.build(input_shape=IP_SHAPE, classes=2)\n",
        "model.compile(loss='categorical_crossentropy', optimizer='adam', metrics=['accuracy'])\n",
        "history=model.fit(X_train, y_train_one, batch_size=BATCH_SIZE, epochs=EPOCHS, verbose=True, validation_split=0.25)\n",
        "score=model.evaluate(X_test, y_test_one, verbose=True)\n",
        "print(\"Test Score : \", score[0])\n",
        "print(\"Test Accuracy : \", score[1])\n",
        "print(history.history.keys())"
      ]
    },
    {
      "cell_type": "code",
      "execution_count": null,
      "metadata": {
        "id": "OMuXZLMzdS-V",
        "outputId": "8090ee13-a2e3-41fa-9a2b-e7b0f39826ce"
      },
      "outputs": [
        {
          "data": {
            "image/png": "[encoded data removed]",
            "text/plain": [
              "<Figure size 432x288 with 1 Axes>"
            ]
          },
          "metadata": {
            "needs_background": "light"
          },
          "output_type": "display_data"
        }
      ],
      "source": [
        "# Accuracy Visualization\n",
        "plt.plot(history.history['accuracy'])\n",
        "plt.plot(history.history['val_accuracy'])\n",
        "plt.title(\"LeNet Model Accuracy\")\n",
        "plt.ylabel('Accuracy')\n",
        "plt.xlabel('Number of Epochs')\n",
        "plt.legend(['train', 'test'], loc='upper left')\n",
        "plt.show()"
      ]
    }
  ],
  "metadata": {
    "kernelspec": {
      "display_name": "Python 3",
      "language": "python",
      "name": "python3"
    },
    "language_info": {
      "codemirror_mode": {
        "name": "ipython",
        "version": 3
      },
      "file_extension": ".py",
      "mimetype": "text/x-python",
      "name": "python",
      "nbconvert_exporter": "python",
      "pygments_lexer": "ipython3",
      "version": "3.8.5"
    },
    "colab": {
      "provenance": [],
      "include_colab_link": true
    }
  },
  "nbformat": 4,
  "nbformat_minor": 0
}