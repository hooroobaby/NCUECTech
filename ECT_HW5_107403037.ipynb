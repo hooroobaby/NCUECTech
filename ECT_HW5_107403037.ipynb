{
  "cells": [
    {
      "cell_type": "markdown",
      "metadata": {
        "id": "view-in-github",
        "colab_type": "text"
      },
      "source": [
        "<a href=\"https://colab.research.google.com/github/hooroobaby/NCUECTech/blob/main/ECT_HW5_107403037.ipynb\" target=\"_parent\"><img src=\"https://colab.research.google.com/assets/colab-badge.svg\" alt=\"Open In Colab\"/></a>"
      ]
    },
    {
      "cell_type": "markdown",
      "metadata": {
        "id": "LwsQGHnpcJtc"
      },
      "source": [
        "# k-means\n",
        "## 1."
      ]
    },
    {
      "cell_type": "code",
      "execution_count": null,
      "metadata": {
        "id": "OJYgPzwBcJtd"
      },
      "outputs": [],
      "source": [
        "import pandas as pd\n",
        "import numpy as np\n",
        "import matplotlib.pyplot as plt\n",
        "%matplotlib inline"
      ]
    },
    {
      "cell_type": "code",
      "execution_count": null,
      "metadata": {
        "id": "7MqT_hV2cJtd",
        "outputId": "8559eb0d-1f91-43e9-f312-6a195a35d338"
      },
      "outputs": [
        {
          "name": "stdout",
          "output_type": "stream",
          "text": [
            "<class 'pandas.core.frame.DataFrame'>\n",
            "RangeIndex: 1000 entries, 0 to 999\n",
            "Data columns (total 2 columns):\n",
            " #   Column  Non-Null Count  Dtype\n",
            "---  ------  --------------  -----\n",
            " 0   income  1000 non-null   int64\n",
            " 1   age     1000 non-null   int64\n",
            "dtypes: int64(2)\n",
            "memory usage: 15.8 KB\n"
          ]
        }
      ],
      "source": [
        "df = pd.read_csv('ageinc.csv')\n",
        "df.info()"
      ]
    },
    {
      "cell_type": "code",
      "execution_count": null,
      "metadata": {
        "id": "do_xfqYucJtd",
        "outputId": "a08c2dca-0f43-4d45-ef28-9a8dc4757962"
      },
      "outputs": [
        {
          "data": {
            "text/html": [
              "<div>\n",
              "<style scoped>\n",
              "    .dataframe tbody tr th:only-of-type {\n",
              "        vertical-align: middle;\n",
              "    }\n",
              "\n",
              "    .dataframe tbody tr th {\n",
              "        vertical-align: top;\n",
              "    }\n",
              "\n",
              "    .dataframe thead th {\n",
              "        text-align: right;\n",
              "    }\n",
              "</style>\n",
              "<table border=\"1\" class=\"dataframe\">\n",
              "  <thead>\n",
              "    <tr style=\"text-align: right;\">\n",
              "      <th></th>\n",
              "      <th>income</th>\n",
              "      <th>age</th>\n",
              "      <th>z_income</th>\n",
              "      <th>z_age</th>\n",
              "    </tr>\n",
              "  </thead>\n",
              "  <tbody>\n",
              "    <tr>\n",
              "      <th>0</th>\n",
              "      <td>101743</td>\n",
              "      <td>58</td>\n",
              "      <td>0.550812</td>\n",
              "      <td>1.693570</td>\n",
              "    </tr>\n",
              "    <tr>\n",
              "      <th>1</th>\n",
              "      <td>49597</td>\n",
              "      <td>27</td>\n",
              "      <td>-0.777331</td>\n",
              "      <td>-1.130565</td>\n",
              "    </tr>\n",
              "    <tr>\n",
              "      <th>2</th>\n",
              "      <td>36517</td>\n",
              "      <td>52</td>\n",
              "      <td>-1.110474</td>\n",
              "      <td>1.146963</td>\n",
              "    </tr>\n",
              "    <tr>\n",
              "      <th>3</th>\n",
              "      <td>33223</td>\n",
              "      <td>49</td>\n",
              "      <td>-1.194372</td>\n",
              "      <td>0.873660</td>\n",
              "    </tr>\n",
              "    <tr>\n",
              "      <th>4</th>\n",
              "      <td>72994</td>\n",
              "      <td>53</td>\n",
              "      <td>-0.181416</td>\n",
              "      <td>1.238064</td>\n",
              "    </tr>\n",
              "  </tbody>\n",
              "</table>\n",
              "</div>"
            ],
            "text/plain": [
              "   income  age  z_income     z_age\n",
              "0  101743   58  0.550812  1.693570\n",
              "1   49597   27 -0.777331 -1.130565\n",
              "2   36517   52 -1.110474  1.146963\n",
              "3   33223   49 -1.194372  0.873660\n",
              "4   72994   53 -0.181416  1.238064"
            ]
          },
          "execution_count": 196,
          "metadata": {},
          "output_type": "execute_result"
        }
      ],
      "source": [
        "cols = df.columns\n",
        "# 標準化的概念\n",
        "for col in cols:\n",
        "    df['z_'+col] = (df[col]-df[col].mean())/df[col].std()\n",
        "df.head()"
      ]
    },
    {
      "cell_type": "markdown",
      "metadata": {
        "id": "a2lZPzPGcJte"
      },
      "source": [
        "## 2-1"
      ]
    },
    {
      "cell_type": "code",
      "execution_count": null,
      "metadata": {
        "id": "XXuTQLITcJte"
      },
      "outputs": [],
      "source": [
        "from sklearn import cluster\n",
        "model = cluster.KMeans(n_clusters=2, random_state=10) #分成兩群\n",
        "X = df[['z_income', 'z_age']].values\n",
        "model.fit_predict(X)\n",
        "cluster_assignment = model.labels_\n",
        "centers = model.cluster_centers_"
      ]
    },
    {
      "cell_type": "code",
      "execution_count": null,
      "metadata": {
        "id": "jJISj2DecJte",
        "outputId": "55bf2919-f178-424d-eaa3-ab8f0d456fb5"
      },
      "outputs": [
        {
          "name": "stdout",
          "output_type": "stream",
          "text": [
            "1189.7476232504307\n"
          ]
        }
      ],
      "source": [
        "import numpy as np\n",
        "# 做出SSE，內部從X0開始\n",
        "print(np.sum((X - centers[cluster_assignment])**2))"
      ]
    },
    {
      "cell_type": "markdown",
      "metadata": {
        "id": "2juTwSIMcJte"
      },
      "source": [
        "## 2-2"
      ]
    },
    {
      "cell_type": "code",
      "execution_count": null,
      "metadata": {
        "id": "QGsvgu8_cJte",
        "outputId": "cb6d1904-73e2-4166-cc47-4a005ab34db7"
      },
      "outputs": [
        {
          "data": {
            "text/plain": [
              "[1189.7476232504307,\n",
              " 734.6649696823624,\n",
              " 386.0702389582008,\n",
              " 341.65511788057347,\n",
              " 301.60354116992715,\n",
              " 271.16618461596397,\n",
              " 241.90179918136994,\n",
              " 216.130205395693,\n",
              " 192.56868717475385]"
            ]
          },
          "execution_count": 199,
          "metadata": {},
          "output_type": "execute_result"
        }
      ],
      "source": [
        "import matplotlib.pyplot as plt\n",
        "ss = []\n",
        "krange = list(range(2, 11))\n",
        "X = df[['z_income', 'z_age']].values\n",
        "for n in krange:\n",
        "    model = cluster.KMeans(n_clusters=n, random_state=10)\n",
        "    model.fit_predict(X)\n",
        "    cluster_assignments = model.labels_\n",
        "    centers = model.cluster_centers_\n",
        "    ss.append(np.sum((X-centers[cluster_assignments])**2))\n",
        "ss"
      ]
    },
    {
      "cell_type": "markdown",
      "metadata": {
        "id": "C0wPmb47cJte"
      },
      "source": [
        "## 2-3"
      ]
    },
    {
      "cell_type": "code",
      "execution_count": null,
      "metadata": {
        "id": "4PQkmGqjcJte",
        "outputId": "d76359cf-5a17-4f84-c036-cb5e092d1921"
      },
      "outputs": [
        {
          "data": {
            "image/png": "[encoded data removed]",
            "text/plain": [
              "<Figure size 432x288 with 1 Axes>"
            ]
          },
          "metadata": {
            "needs_background": "light"
          },
          "output_type": "display_data"
        }
      ],
      "source": [
        "plt.plot(krange, ss)\n",
        "plt.xlabel('$K$')\n",
        "plt.ylabel('Sum of Squares')\n",
        "plt.show()"
      ]
    },
    {
      "cell_type": "code",
      "execution_count": null,
      "metadata": {
        "id": "Xzu_9G7GcJte",
        "outputId": "dfb714fd-cf2c-4194-c753-70ea8e68cc45"
      },
      "outputs": [
        {
          "data": {
            "text/plain": [
              "[0.3959184508340371,\n",
              " 0.4208222007732521,\n",
              " 0.5070220697246968,\n",
              " 0.4563497743918506,\n",
              " 0.39517629742960697,\n",
              " 0.3462633058866619,\n",
              " 0.3544817379201776,\n",
              " 0.3288853395094744,\n",
              " 0.3400215840902519]"
            ]
          },
          "execution_count": 201,
          "metadata": {},
          "output_type": "execute_result"
        }
      ],
      "source": [
        "from sklearn import metrics\n",
        "silhouettes = []\n",
        "for n in krange:\n",
        "    model = cluster.KMeans(n_clusters=n, random_state=10)\n",
        "    model.fit_predict(X)\n",
        "    cluster_assignments = model.labels_\n",
        "    silhouettes.append(metrics.silhouette_score(X,cluster_assignments))\n",
        "silhouettes\n",
        "\n",
        "# 因此可得知k=4是最好的，(silhouettes越接近1越好)"
      ]
    },
    {
      "cell_type": "markdown",
      "metadata": {
        "id": "u77PCNcWcJtf"
      },
      "source": [
        "## 3."
      ]
    },
    {
      "cell_type": "code",
      "execution_count": null,
      "metadata": {
        "id": "CyfGuOR2cJtf"
      },
      "outputs": [],
      "source": [
        "model = cluster.KMeans(n_clusters=4, random_state=10) #分成4群\n",
        "X = df[['z_income', 'z_age']].values\n",
        "model.fit_predict(X)\n",
        "cluster_assignment = model.labels_"
      ]
    },
    {
      "cell_type": "code",
      "execution_count": null,
      "metadata": {
        "id": "6GZVgxnDcJtf"
      },
      "outputs": [],
      "source": [
        "df[\"kmean_cluster\"] = cluster_assignment"
      ]
    },
    {
      "cell_type": "code",
      "execution_count": null,
      "metadata": {
        "id": "WG-v9trCcJtf",
        "outputId": "8b2592fa-231c-4ed3-ef31-cf45a8b952b4"
      },
      "outputs": [
        {
          "data": {
            "text/html": [
              "<div>\n",
              "<style scoped>\n",
              "    .dataframe tbody tr th:only-of-type {\n",
              "        vertical-align: middle;\n",
              "    }\n",
              "\n",
              "    .dataframe tbody tr th {\n",
              "        vertical-align: top;\n",
              "    }\n",
              "\n",
              "    .dataframe thead th {\n",
              "        text-align: right;\n",
              "    }\n",
              "</style>\n",
              "<table border=\"1\" class=\"dataframe\">\n",
              "  <thead>\n",
              "    <tr style=\"text-align: right;\">\n",
              "      <th></th>\n",
              "      <th>income</th>\n",
              "      <th>age</th>\n",
              "      <th>z_income</th>\n",
              "      <th>z_age</th>\n",
              "      <th>kmean_cluster</th>\n",
              "    </tr>\n",
              "  </thead>\n",
              "  <tbody>\n",
              "    <tr>\n",
              "      <th>0</th>\n",
              "      <td>101743</td>\n",
              "      <td>58</td>\n",
              "      <td>0.550812</td>\n",
              "      <td>1.693570</td>\n",
              "      <td>0</td>\n",
              "    </tr>\n",
              "    <tr>\n",
              "      <th>1</th>\n",
              "      <td>49597</td>\n",
              "      <td>27</td>\n",
              "      <td>-0.777331</td>\n",
              "      <td>-1.130565</td>\n",
              "      <td>1</td>\n",
              "    </tr>\n",
              "    <tr>\n",
              "      <th>2</th>\n",
              "      <td>36517</td>\n",
              "      <td>52</td>\n",
              "      <td>-1.110474</td>\n",
              "      <td>1.146963</td>\n",
              "      <td>2</td>\n",
              "    </tr>\n",
              "    <tr>\n",
              "      <th>3</th>\n",
              "      <td>33223</td>\n",
              "      <td>49</td>\n",
              "      <td>-1.194372</td>\n",
              "      <td>0.873660</td>\n",
              "      <td>2</td>\n",
              "    </tr>\n",
              "    <tr>\n",
              "      <th>4</th>\n",
              "      <td>72994</td>\n",
              "      <td>53</td>\n",
              "      <td>-0.181416</td>\n",
              "      <td>1.238064</td>\n",
              "      <td>2</td>\n",
              "    </tr>\n",
              "    <tr>\n",
              "      <th>...</th>\n",
              "      <td>...</td>\n",
              "      <td>...</td>\n",
              "      <td>...</td>\n",
              "      <td>...</td>\n",
              "      <td>...</td>\n",
              "    </tr>\n",
              "    <tr>\n",
              "      <th>995</th>\n",
              "      <td>70615</td>\n",
              "      <td>29</td>\n",
              "      <td>-0.242008</td>\n",
              "      <td>-0.948363</td>\n",
              "      <td>1</td>\n",
              "    </tr>\n",
              "    <tr>\n",
              "      <th>996</th>\n",
              "      <td>95102</td>\n",
              "      <td>41</td>\n",
              "      <td>0.381668</td>\n",
              "      <td>0.144851</td>\n",
              "      <td>0</td>\n",
              "    </tr>\n",
              "    <tr>\n",
              "      <th>997</th>\n",
              "      <td>42203</td>\n",
              "      <td>35</td>\n",
              "      <td>-0.965654</td>\n",
              "      <td>-0.401756</td>\n",
              "      <td>1</td>\n",
              "    </tr>\n",
              "    <tr>\n",
              "      <th>998</th>\n",
              "      <td>16975</td>\n",
              "      <td>31</td>\n",
              "      <td>-1.608203</td>\n",
              "      <td>-0.766161</td>\n",
              "      <td>1</td>\n",
              "    </tr>\n",
              "    <tr>\n",
              "      <th>999</th>\n",
              "      <td>123857</td>\n",
              "      <td>44</td>\n",
              "      <td>1.114049</td>\n",
              "      <td>0.418154</td>\n",
              "      <td>0</td>\n",
              "    </tr>\n",
              "  </tbody>\n",
              "</table>\n",
              "<p>1000 rows × 5 columns</p>\n",
              "</div>"
            ],
            "text/plain": [
              "     income  age  z_income     z_age  kmean_cluster\n",
              "0    101743   58  0.550812  1.693570              0\n",
              "1     49597   27 -0.777331 -1.130565              1\n",
              "2     36517   52 -1.110474  1.146963              2\n",
              "3     33223   49 -1.194372  0.873660              2\n",
              "4     72994   53 -0.181416  1.238064              2\n",
              "..      ...  ...       ...       ...            ...\n",
              "995   70615   29 -0.242008 -0.948363              1\n",
              "996   95102   41  0.381668  0.144851              0\n",
              "997   42203   35 -0.965654 -0.401756              1\n",
              "998   16975   31 -1.608203 -0.766161              1\n",
              "999  123857   44  1.114049  0.418154              0\n",
              "\n",
              "[1000 rows x 5 columns]"
            ]
          },
          "execution_count": 204,
          "metadata": {},
          "output_type": "execute_result"
        }
      ],
      "source": [
        "df"
      ]
    },
    {
      "cell_type": "code",
      "execution_count": null,
      "metadata": {
        "id": "5_YXfsUqcJtf",
        "outputId": "8732c043-e858-4743-e6d9-9b21d11ccdc7"
      },
      "outputs": [
        {
          "data": {
            "text/plain": [
              "kmean_cluster\n",
              "0    238\n",
              "1    248\n",
              "2    256\n",
              "3    258\n",
              "dtype: int64"
            ]
          },
          "execution_count": 205,
          "metadata": {},
          "output_type": "execute_result"
        }
      ],
      "source": [
        "df.groupby(['kmean_cluster']).size()\n",
        "# 分成四群"
      ]
    },
    {
      "cell_type": "markdown",
      "metadata": {
        "id": "8HhpoQFqcJtf"
      },
      "source": [
        "# mean-shift\n",
        "## 4"
      ]
    },
    {
      "cell_type": "code",
      "execution_count": null,
      "metadata": {
        "id": "fUCiAIdncJtf",
        "outputId": "8ca27633-a8e4-48ac-e4dc-242edc94452a"
      },
      "outputs": [
        {
          "data": {
            "text/html": [
              "<div>\n",
              "<style scoped>\n",
              "    .dataframe tbody tr th:only-of-type {\n",
              "        vertical-align: middle;\n",
              "    }\n",
              "\n",
              "    .dataframe tbody tr th {\n",
              "        vertical-align: top;\n",
              "    }\n",
              "\n",
              "    .dataframe thead th {\n",
              "        text-align: right;\n",
              "    }\n",
              "</style>\n",
              "<table border=\"1\" class=\"dataframe\">\n",
              "  <thead>\n",
              "    <tr style=\"text-align: right;\">\n",
              "      <th></th>\n",
              "      <th>income</th>\n",
              "      <th>age</th>\n",
              "      <th>z_income</th>\n",
              "      <th>z_age</th>\n",
              "    </tr>\n",
              "  </thead>\n",
              "  <tbody>\n",
              "    <tr>\n",
              "      <th>0</th>\n",
              "      <td>101743</td>\n",
              "      <td>58</td>\n",
              "      <td>0.550812</td>\n",
              "      <td>1.693570</td>\n",
              "    </tr>\n",
              "    <tr>\n",
              "      <th>1</th>\n",
              "      <td>49597</td>\n",
              "      <td>27</td>\n",
              "      <td>-0.777331</td>\n",
              "      <td>-1.130565</td>\n",
              "    </tr>\n",
              "    <tr>\n",
              "      <th>2</th>\n",
              "      <td>36517</td>\n",
              "      <td>52</td>\n",
              "      <td>-1.110474</td>\n",
              "      <td>1.146963</td>\n",
              "    </tr>\n",
              "    <tr>\n",
              "      <th>3</th>\n",
              "      <td>33223</td>\n",
              "      <td>49</td>\n",
              "      <td>-1.194372</td>\n",
              "      <td>0.873660</td>\n",
              "    </tr>\n",
              "    <tr>\n",
              "      <th>4</th>\n",
              "      <td>72994</td>\n",
              "      <td>53</td>\n",
              "      <td>-0.181416</td>\n",
              "      <td>1.238064</td>\n",
              "    </tr>\n",
              "  </tbody>\n",
              "</table>\n",
              "</div>"
            ],
            "text/plain": [
              "   income  age  z_income     z_age\n",
              "0  101743   58  0.550812  1.693570\n",
              "1   49597   27 -0.777331 -1.130565\n",
              "2   36517   52 -1.110474  1.146963\n",
              "3   33223   49 -1.194372  0.873660\n",
              "4   72994   53 -0.181416  1.238064"
            ]
          },
          "execution_count": 206,
          "metadata": {},
          "output_type": "execute_result"
        }
      ],
      "source": [
        "shift = pd.read_csv('ageinc.csv')\n",
        "cols = shift.columns\n",
        "# 標準化的概念\n",
        "for col in cols:\n",
        "    shift['z_'+col] = (shift[col]-shift[col].mean())/shift[col].std()\n",
        "shift.head()"
      ]
    },
    {
      "cell_type": "markdown",
      "metadata": {
        "id": "GObenLbTcJtf"
      },
      "source": [
        "## 5.\n",
        "#### MeanShift:發現樣本的平滑密度中的點 ;\n",
        "#### estimate_bandwidth:計算要用於maen-shift演算法的頻寬"
      ]
    },
    {
      "cell_type": "code",
      "execution_count": null,
      "metadata": {
        "id": "dVodTbufcJtf"
      },
      "outputs": [],
      "source": [
        "from sklearn.cluster import MeanShift, estimate_bandwidth\n",
        "# from sklearn.datasets.samples_generator import make_blobs #產生用於clustering的等向高斯分布點"
      ]
    },
    {
      "cell_type": "code",
      "execution_count": null,
      "metadata": {
        "id": "AUwVubPQcJtf",
        "outputId": "037134a5-7a28-4786-b314-a71babb8710e"
      },
      "outputs": [
        {
          "data": {
            "text/plain": [
              "0.636820406937075"
            ]
          },
          "execution_count": 208,
          "metadata": {},
          "output_type": "execute_result"
        }
      ],
      "source": [
        "X = shift[['z_income','z_age']]\n",
        "bandwidth = estimate_bandwidth(X, quantile=0.1)\n",
        "bandwidth"
      ]
    },
    {
      "cell_type": "markdown",
      "metadata": {
        "id": "-iYjkjbMcJtf"
      },
      "source": [
        "## 6."
      ]
    },
    {
      "cell_type": "code",
      "execution_count": null,
      "metadata": {
        "id": "XkBuLymScJtf"
      },
      "outputs": [],
      "source": [
        "#Mean Shift method\n",
        "model = MeanShift(bandwidth = bandwidth)\n",
        "model.fit(X)\n",
        "labels = model.fit_predict(X)\n",
        "cluster_assignment = model.labels_"
      ]
    },
    {
      "cell_type": "code",
      "execution_count": null,
      "metadata": {
        "id": "kZ_ziBRncJtf",
        "outputId": "0caebfde-addf-4d50-f3de-9fe8a7d7d11d"
      },
      "outputs": [
        {
          "data": {
            "text/html": [
              "<div>\n",
              "<style scoped>\n",
              "    .dataframe tbody tr th:only-of-type {\n",
              "        vertical-align: middle;\n",
              "    }\n",
              "\n",
              "    .dataframe tbody tr th {\n",
              "        vertical-align: top;\n",
              "    }\n",
              "\n",
              "    .dataframe thead th {\n",
              "        text-align: right;\n",
              "    }\n",
              "</style>\n",
              "<table border=\"1\" class=\"dataframe\">\n",
              "  <thead>\n",
              "    <tr style=\"text-align: right;\">\n",
              "      <th></th>\n",
              "      <th>income</th>\n",
              "      <th>age</th>\n",
              "      <th>z_income</th>\n",
              "      <th>z_age</th>\n",
              "      <th>meanShift_cluster</th>\n",
              "    </tr>\n",
              "  </thead>\n",
              "  <tbody>\n",
              "    <tr>\n",
              "      <th>0</th>\n",
              "      <td>101743</td>\n",
              "      <td>58</td>\n",
              "      <td>0.550812</td>\n",
              "      <td>1.693570</td>\n",
              "      <td>2</td>\n",
              "    </tr>\n",
              "    <tr>\n",
              "      <th>1</th>\n",
              "      <td>49597</td>\n",
              "      <td>27</td>\n",
              "      <td>-0.777331</td>\n",
              "      <td>-1.130565</td>\n",
              "      <td>3</td>\n",
              "    </tr>\n",
              "    <tr>\n",
              "      <th>2</th>\n",
              "      <td>36517</td>\n",
              "      <td>52</td>\n",
              "      <td>-1.110474</td>\n",
              "      <td>1.146963</td>\n",
              "      <td>0</td>\n",
              "    </tr>\n",
              "    <tr>\n",
              "      <th>3</th>\n",
              "      <td>33223</td>\n",
              "      <td>49</td>\n",
              "      <td>-1.194372</td>\n",
              "      <td>0.873660</td>\n",
              "      <td>0</td>\n",
              "    </tr>\n",
              "    <tr>\n",
              "      <th>4</th>\n",
              "      <td>72994</td>\n",
              "      <td>53</td>\n",
              "      <td>-0.181416</td>\n",
              "      <td>1.238064</td>\n",
              "      <td>0</td>\n",
              "    </tr>\n",
              "    <tr>\n",
              "      <th>...</th>\n",
              "      <td>...</td>\n",
              "      <td>...</td>\n",
              "      <td>...</td>\n",
              "      <td>...</td>\n",
              "      <td>...</td>\n",
              "    </tr>\n",
              "    <tr>\n",
              "      <th>995</th>\n",
              "      <td>70615</td>\n",
              "      <td>29</td>\n",
              "      <td>-0.242008</td>\n",
              "      <td>-0.948363</td>\n",
              "      <td>3</td>\n",
              "    </tr>\n",
              "    <tr>\n",
              "      <th>996</th>\n",
              "      <td>95102</td>\n",
              "      <td>41</td>\n",
              "      <td>0.381668</td>\n",
              "      <td>0.144851</td>\n",
              "      <td>2</td>\n",
              "    </tr>\n",
              "    <tr>\n",
              "      <th>997</th>\n",
              "      <td>42203</td>\n",
              "      <td>35</td>\n",
              "      <td>-0.965654</td>\n",
              "      <td>-0.401756</td>\n",
              "      <td>3</td>\n",
              "    </tr>\n",
              "    <tr>\n",
              "      <th>998</th>\n",
              "      <td>16975</td>\n",
              "      <td>31</td>\n",
              "      <td>-1.608203</td>\n",
              "      <td>-0.766161</td>\n",
              "      <td>3</td>\n",
              "    </tr>\n",
              "    <tr>\n",
              "      <th>999</th>\n",
              "      <td>123857</td>\n",
              "      <td>44</td>\n",
              "      <td>1.114049</td>\n",
              "      <td>0.418154</td>\n",
              "      <td>2</td>\n",
              "    </tr>\n",
              "  </tbody>\n",
              "</table>\n",
              "<p>1000 rows × 5 columns</p>\n",
              "</div>"
            ],
            "text/plain": [
              "     income  age  z_income     z_age  meanShift_cluster\n",
              "0    101743   58  0.550812  1.693570                  2\n",
              "1     49597   27 -0.777331 -1.130565                  3\n",
              "2     36517   52 -1.110474  1.146963                  0\n",
              "3     33223   49 -1.194372  0.873660                  0\n",
              "4     72994   53 -0.181416  1.238064                  0\n",
              "..      ...  ...       ...       ...                ...\n",
              "995   70615   29 -0.242008 -0.948363                  3\n",
              "996   95102   41  0.381668  0.144851                  2\n",
              "997   42203   35 -0.965654 -0.401756                  3\n",
              "998   16975   31 -1.608203 -0.766161                  3\n",
              "999  123857   44  1.114049  0.418154                  2\n",
              "\n",
              "[1000 rows x 5 columns]"
            ]
          },
          "execution_count": 210,
          "metadata": {},
          "output_type": "execute_result"
        }
      ],
      "source": [
        "shift[\"meanShift_cluster\"] = cluster_assignment\n",
        "shift"
      ]
    },
    {
      "cell_type": "code",
      "execution_count": null,
      "metadata": {
        "id": "V-0U--cpcJtf",
        "outputId": "759ccba4-dab7-40eb-a817-379cdf08395c"
      },
      "outputs": [
        {
          "data": {
            "text/plain": [
              "meanShift_cluster\n",
              "0    255\n",
              "1    259\n",
              "2    239\n",
              "3    247\n",
              "dtype: int64"
            ]
          },
          "execution_count": 211,
          "metadata": {},
          "output_type": "execute_result"
        }
      ],
      "source": [
        "shift.groupby(['meanShift_cluster']).size()\n",
        "# 分成四群"
      ]
    },
    {
      "cell_type": "markdown",
      "metadata": {
        "id": "WsSn6a1tcJtf"
      },
      "source": [
        "## 7."
      ]
    },
    {
      "cell_type": "code",
      "execution_count": null,
      "metadata": {
        "id": "n2Y-gAqZcJtg",
        "outputId": "c4b68e09-81f9-40df-a340-817fdac97e27"
      },
      "outputs": [
        {
          "data": {
            "image/png": "[encoded data removed]",
            "text/plain": [
              "<Figure size 432x288 with 1 Axes>"
            ]
          },
          "metadata": {
            "needs_background": "light"
          },
          "output_type": "display_data"
        }
      ],
      "source": [
        "import copy\n",
        "df0 = copy.deepcopy(df[df['kmean_cluster'].isin(['0'])])\n",
        "plt.scatter(df0['income'], df0['age'], c='red')\n",
        "df1 = copy.deepcopy(df[df['kmean_cluster'].isin(['1'])])\n",
        "plt.scatter(df1['income'], df1['age'], c='blue')\n",
        "df2 = copy.deepcopy(df[df['kmean_cluster'].isin(['2'])])\n",
        "plt.scatter(df2['income'], df2['age'], c='black')\n",
        "df3 = copy.deepcopy(df[df['kmean_cluster'].isin(['3'])])\n",
        "plt.scatter(df3['income'], df3['age'], c='green')\n",
        "plt.title(\"k-means\")\n",
        "plt.show()"
      ]
    },
    {
      "cell_type": "code",
      "execution_count": null,
      "metadata": {
        "id": "g1b4i3LucJtg",
        "outputId": "f8ebbc96-4bca-459a-e732-48c8775b07de"
      },
      "outputs": [
        {
          "data": {
            "image/png": "[encoded data removed]",
            "text/plain": [
              "<Figure size 432x288 with 1 Axes>"
            ]
          },
          "metadata": {
            "needs_background": "light"
          },
          "output_type": "display_data"
        }
      ],
      "source": [
        "shift0 = copy.deepcopy(shift[shift['meanShift_cluster'].isin(['0'])])\n",
        "plt.scatter(shift0['income'], shift0['age'], c='red')\n",
        "shift1 = copy.deepcopy(shift[shift['meanShift_cluster'].isin(['1'])])\n",
        "plt.scatter(shift1['income'], shift1['age'], c='blue')\n",
        "shift2 = copy.deepcopy(shift[shift['meanShift_cluster'].isin(['2'])])\n",
        "plt.scatter(shift2['income'], shift2['age'], c='black')\n",
        "shift3 = copy.deepcopy(shift[shift['meanShift_cluster'].isin(['3'])])\n",
        "plt.scatter(shift3['income'], shift3['age'], c='green')\n",
        "plt.title(\"mean-shift\")\n",
        "plt.show()"
      ]
    },
    {
      "cell_type": "markdown",
      "metadata": {
        "id": "jo5orBaocJth"
      },
      "source": [
        "# k-prototypes\n",
        "## 8."
      ]
    },
    {
      "cell_type": "code",
      "execution_count": null,
      "metadata": {
        "id": "w_ZaeLfHcJth",
        "outputId": "e0d39fb5-abca-4400-cf6f-10b2cbe18856"
      },
      "outputs": [
        {
          "data": {
            "text/html": [
              "<div>\n",
              "<style scoped>\n",
              "    .dataframe tbody tr th:only-of-type {\n",
              "        vertical-align: middle;\n",
              "    }\n",
              "\n",
              "    .dataframe tbody tr th {\n",
              "        vertical-align: top;\n",
              "    }\n",
              "\n",
              "    .dataframe thead th {\n",
              "        text-align: right;\n",
              "    }\n",
              "</style>\n",
              "<table border=\"1\" class=\"dataframe\">\n",
              "  <thead>\n",
              "    <tr style=\"text-align: right;\">\n",
              "      <th></th>\n",
              "      <th>age</th>\n",
              "      <th>education</th>\n",
              "      <th>z_age</th>\n",
              "    </tr>\n",
              "  </thead>\n",
              "  <tbody>\n",
              "    <tr>\n",
              "      <th>0</th>\n",
              "      <td>27.007219</td>\n",
              "      <td>college</td>\n",
              "      <td>-1.446258</td>\n",
              "    </tr>\n",
              "    <tr>\n",
              "      <th>1</th>\n",
              "      <td>47.615409</td>\n",
              "      <td>highschool</td>\n",
              "      <td>0.438698</td>\n",
              "    </tr>\n",
              "    <tr>\n",
              "      <th>2</th>\n",
              "      <td>51.382815</td>\n",
              "      <td>highschool</td>\n",
              "      <td>0.783290</td>\n",
              "    </tr>\n",
              "    <tr>\n",
              "      <th>3</th>\n",
              "      <td>54.906622</td>\n",
              "      <td>highschool</td>\n",
              "      <td>1.105599</td>\n",
              "    </tr>\n",
              "    <tr>\n",
              "      <th>4</th>\n",
              "      <td>27.719939</td>\n",
              "      <td>less_than_highschool</td>\n",
              "      <td>-1.381068</td>\n",
              "    </tr>\n",
              "  </tbody>\n",
              "</table>\n",
              "</div>"
            ],
            "text/plain": [
              "         age             education     z_age\n",
              "0  27.007219               college -1.446258\n",
              "1  47.615409            highschool  0.438698\n",
              "2  51.382815            highschool  0.783290\n",
              "3  54.906622            highschool  1.105599\n",
              "4  27.719939  less_than_highschool -1.381068"
            ]
          },
          "execution_count": 214,
          "metadata": {},
          "output_type": "execute_result"
        }
      ],
      "source": [
        "proto = pd.read_csv('age_education.csv')\n",
        "proto['z_age'] = (proto['age']-proto['age'].mean())/proto['age'].std()\n",
        "proto.head()"
      ]
    },
    {
      "cell_type": "markdown",
      "metadata": {
        "id": "9aYPkaqxcJth"
      },
      "source": [
        "## 9."
      ]
    },
    {
      "cell_type": "code",
      "execution_count": null,
      "metadata": {
        "id": "yL2je_e4cJth",
        "outputId": "ad669bbc-06dc-4121-aed8-df4de041e783"
      },
      "outputs": [
        {
          "name": "stdout",
          "output_type": "stream",
          "text": [
            "# conda environments:\n",
            "#\n",
            "base                  *  C:\\Users\\user\\anaconda3\n",
            "NLP_course               C:\\Users\\user\\anaconda3\\envs\\NLP_course\n",
            "\n",
            "\n",
            "Note: you may need to restart the kernel to use updated packages.\n"
          ]
        }
      ],
      "source": [
        "conda info --envs"
      ]
    },
    {
      "cell_type": "code",
      "execution_count": null,
      "metadata": {
        "id": "kAkp8ld2cJth",
        "outputId": "3eafa145-f492-407c-ab7f-1cd8f8e1a3c3"
      },
      "outputs": [
        {
          "name": "stdout",
          "output_type": "stream",
          "text": [
            "Requirement already satisfied: kmodes in c:\\users\\user\\anaconda3\\lib\\site-packages (0.11.0)\n",
            "Requirement already satisfied: numpy>=1.10.4 in c:\\users\\user\\anaconda3\\lib\\site-packages (from kmodes) (1.19.2)\n",
            "Requirement already satisfied: joblib>=0.11 in c:\\users\\user\\anaconda3\\lib\\site-packages (from kmodes) (0.17.0)\n",
            "Requirement already satisfied: scipy>=0.13.3 in c:\\users\\user\\anaconda3\\lib\\site-packages (from kmodes) (1.5.2)\n",
            "Requirement already satisfied: scikit-learn>=0.22.0 in c:\\users\\user\\anaconda3\\lib\\site-packages (from kmodes) (0.23.2)\n",
            "Requirement already satisfied: threadpoolctl>=2.0.0 in c:\\users\\user\\anaconda3\\lib\\site-packages (from scikit-learn>=0.22.0->kmodes) (2.1.0)\n",
            "Note: you may need to restart the kernel to use updated packages.\n"
          ]
        }
      ],
      "source": [
        "pip install kmodes"
      ]
    },
    {
      "cell_type": "code",
      "execution_count": null,
      "metadata": {
        "scrolled": true,
        "id": "IV54lNstcJth",
        "outputId": "c7b328e3-b844-46c4-eb0c-f8a6f8aeeea7"
      },
      "outputs": [
        {
          "name": "stdout",
          "output_type": "stream",
          "text": [
            "Requirement already up-to-date: kmodes in c:\\users\\user\\anaconda3\\lib\\site-packages (0.11.0)\n",
            "Requirement already satisfied, skipping upgrade: scikit-learn>=0.22.0 in c:\\users\\user\\anaconda3\\lib\\site-packages (from kmodes) (0.23.2)\n",
            "Requirement already satisfied, skipping upgrade: joblib>=0.11 in c:\\users\\user\\anaconda3\\lib\\site-packages (from kmodes) (0.17.0)\n",
            "Requirement already satisfied, skipping upgrade: scipy>=0.13.3 in c:\\users\\user\\anaconda3\\lib\\site-packages (from kmodes) (1.5.2)\n",
            "Requirement already satisfied, skipping upgrade: numpy>=1.10.4 in c:\\users\\user\\anaconda3\\lib\\site-packages (from kmodes) (1.19.2)\n",
            "Requirement already satisfied, skipping upgrade: threadpoolctl>=2.0.0 in c:\\users\\user\\anaconda3\\lib\\site-packages (from scikit-learn>=0.22.0->kmodes) (2.1.0)\n",
            "Note: you may need to restart the kernel to use updated packages.\n"
          ]
        }
      ],
      "source": [
        "pip install --upgrade kmodes"
      ]
    },
    {
      "cell_type": "code",
      "execution_count": null,
      "metadata": {
        "id": "qtRb9uX2cJth",
        "outputId": "f1214276-7ff4-4e3e-b0d6-dd30b98a3a20"
      },
      "outputs": [
        {
          "name": "stdout",
          "output_type": "stream",
          "text": [
            "<class 'pandas.core.frame.DataFrame'>\n",
            "RangeIndex: 1000 entries, 0 to 999\n",
            "Data columns (total 3 columns):\n",
            " #   Column     Non-Null Count  Dtype  \n",
            "---  ------     --------------  -----  \n",
            " 0   age        1000 non-null   float64\n",
            " 1   education  1000 non-null   object \n",
            " 2   z_age      1000 non-null   float64\n",
            "dtypes: float64(2), object(1)\n",
            "memory usage: 23.6+ KB\n"
          ]
        }
      ],
      "source": [
        "proto[:0] = proto[:0].astype(float)\n",
        "proto.info()"
      ]
    },
    {
      "cell_type": "code",
      "execution_count": null,
      "metadata": {
        "id": "jnRSImwCcJti",
        "outputId": "3124851a-bdc2-42ae-abc4-ecbbab06416b"
      },
      "outputs": [
        {
          "data": {
            "text/plain": [
              "education\n",
              "college                 334\n",
              "highschool              333\n",
              "less_than_highschool    333\n",
              "dtype: int64"
            ]
          },
          "execution_count": 219,
          "metadata": {},
          "output_type": "execute_result"
        }
      ],
      "source": [
        "proto.groupby(['education']).size()"
      ]
    },
    {
      "cell_type": "code",
      "execution_count": null,
      "metadata": {
        "id": "sRanjwMPcJti",
        "outputId": "15c38c73-7bbb-42de-b1bd-c6ab7cb513aa"
      },
      "outputs": [
        {
          "data": {
            "text/html": [
              "<div>\n",
              "<style scoped>\n",
              "    .dataframe tbody tr th:only-of-type {\n",
              "        vertical-align: middle;\n",
              "    }\n",
              "\n",
              "    .dataframe tbody tr th {\n",
              "        vertical-align: top;\n",
              "    }\n",
              "\n",
              "    .dataframe thead th {\n",
              "        text-align: right;\n",
              "    }\n",
              "</style>\n",
              "<table border=\"1\" class=\"dataframe\">\n",
              "  <thead>\n",
              "    <tr style=\"text-align: right;\">\n",
              "      <th></th>\n",
              "      <th>age</th>\n",
              "      <th>education</th>\n",
              "      <th>z_age</th>\n",
              "    </tr>\n",
              "  </thead>\n",
              "  <tbody>\n",
              "    <tr>\n",
              "      <th>0</th>\n",
              "      <td>27.007219</td>\n",
              "      <td>0</td>\n",
              "      <td>-1.446258</td>\n",
              "    </tr>\n",
              "    <tr>\n",
              "      <th>1</th>\n",
              "      <td>47.615409</td>\n",
              "      <td>1</td>\n",
              "      <td>0.438698</td>\n",
              "    </tr>\n",
              "    <tr>\n",
              "      <th>2</th>\n",
              "      <td>51.382815</td>\n",
              "      <td>1</td>\n",
              "      <td>0.783290</td>\n",
              "    </tr>\n",
              "    <tr>\n",
              "      <th>3</th>\n",
              "      <td>54.906622</td>\n",
              "      <td>1</td>\n",
              "      <td>1.105599</td>\n",
              "    </tr>\n",
              "    <tr>\n",
              "      <th>4</th>\n",
              "      <td>27.719939</td>\n",
              "      <td>2</td>\n",
              "      <td>-1.381068</td>\n",
              "    </tr>\n",
              "  </tbody>\n",
              "</table>\n",
              "</div>"
            ],
            "text/plain": [
              "         age  education     z_age\n",
              "0  27.007219          0 -1.446258\n",
              "1  47.615409          1  0.438698\n",
              "2  51.382815          1  0.783290\n",
              "3  54.906622          1  1.105599\n",
              "4  27.719939          2 -1.381068"
            ]
          },
          "execution_count": 220,
          "metadata": {},
          "output_type": "execute_result"
        }
      ],
      "source": [
        "# 將object物件轉換為nominal\n",
        "repla = {'education': {'college':0, \"highschool\":1, \"less_than_highschool\":2}}\n",
        "proto = proto.replace(repla)\n",
        "proto.head()"
      ]
    },
    {
      "cell_type": "code",
      "execution_count": null,
      "metadata": {
        "id": "8T9QzpFqcJti",
        "outputId": "cc89008e-3e0d-4f88-f7c1-4900dcc50f8f"
      },
      "outputs": [
        {
          "data": {
            "text/plain": [
              "2    397\n",
              "1    315\n",
              "0    288\n",
              "dtype: int64"
            ]
          },
          "execution_count": 221,
          "metadata": {},
          "output_type": "execute_result"
        }
      ],
      "source": [
        "from kmodes.kprototypes import KPrototypes\n",
        "catColumnsPos = [df.columns.get_loc(col) for col in list(df.select_dtypes('object').columns)]\n",
        "dfMatrix = proto.to_numpy()\n",
        "# catColumnsPos\n",
        "test=KPrototypes(n_clusters=3, random_state=10)\n",
        "cluster=test.fit_predict(dfMatrix, categorical=[1,2])\n",
        "#Prints the count of each cluster group\n",
        "pd.Series(cluster).value_counts()"
      ]
    },
    {
      "cell_type": "markdown",
      "metadata": {
        "id": "lacfc1e2cJtl"
      },
      "source": [
        "# k-modes\n",
        "## 10."
      ]
    },
    {
      "cell_type": "code",
      "execution_count": null,
      "metadata": {
        "id": "pxAsNQbPcJtl",
        "outputId": "e0177268-e4cc-47d0-e565-c798fe3eefcf"
      },
      "outputs": [
        {
          "data": {
            "text/html": [
              "<div>\n",
              "<style scoped>\n",
              "    .dataframe tbody tr th:only-of-type {\n",
              "        vertical-align: middle;\n",
              "    }\n",
              "\n",
              "    .dataframe tbody tr th {\n",
              "        vertical-align: top;\n",
              "    }\n",
              "\n",
              "    .dataframe thead th {\n",
              "        text-align: right;\n",
              "    }\n",
              "</style>\n",
              "<table border=\"1\" class=\"dataframe\">\n",
              "  <thead>\n",
              "    <tr style=\"text-align: right;\">\n",
              "      <th></th>\n",
              "      <th>1</th>\n",
              "      <th>2</th>\n",
              "      <th>3</th>\n",
              "      <th>4</th>\n",
              "      <th>5</th>\n",
              "      <th>6</th>\n",
              "      <th>7</th>\n",
              "      <th>8</th>\n",
              "      <th>9</th>\n",
              "      <th>10</th>\n",
              "      <th>...</th>\n",
              "      <th>23</th>\n",
              "      <th>24</th>\n",
              "      <th>25</th>\n",
              "      <th>26</th>\n",
              "      <th>27</th>\n",
              "      <th>28</th>\n",
              "      <th>29</th>\n",
              "      <th>30</th>\n",
              "      <th>31</th>\n",
              "      <th>32</th>\n",
              "    </tr>\n",
              "    <tr>\n",
              "      <th>customer_name</th>\n",
              "      <th></th>\n",
              "      <th></th>\n",
              "      <th></th>\n",
              "      <th></th>\n",
              "      <th></th>\n",
              "      <th></th>\n",
              "      <th></th>\n",
              "      <th></th>\n",
              "      <th></th>\n",
              "      <th></th>\n",
              "      <th></th>\n",
              "      <th></th>\n",
              "      <th></th>\n",
              "      <th></th>\n",
              "      <th></th>\n",
              "      <th></th>\n",
              "      <th></th>\n",
              "      <th></th>\n",
              "      <th></th>\n",
              "      <th></th>\n",
              "      <th></th>\n",
              "    </tr>\n",
              "  </thead>\n",
              "  <tbody>\n",
              "    <tr>\n",
              "      <th>Adams</th>\n",
              "      <td>0</td>\n",
              "      <td>0</td>\n",
              "      <td>0</td>\n",
              "      <td>0</td>\n",
              "      <td>0</td>\n",
              "      <td>0</td>\n",
              "      <td>0</td>\n",
              "      <td>0</td>\n",
              "      <td>0</td>\n",
              "      <td>0</td>\n",
              "      <td>...</td>\n",
              "      <td>0</td>\n",
              "      <td>0</td>\n",
              "      <td>0</td>\n",
              "      <td>0</td>\n",
              "      <td>0</td>\n",
              "      <td>0</td>\n",
              "      <td>1</td>\n",
              "      <td>1</td>\n",
              "      <td>0</td>\n",
              "      <td>0</td>\n",
              "    </tr>\n",
              "    <tr>\n",
              "      <th>Allen</th>\n",
              "      <td>0</td>\n",
              "      <td>0</td>\n",
              "      <td>0</td>\n",
              "      <td>0</td>\n",
              "      <td>0</td>\n",
              "      <td>0</td>\n",
              "      <td>0</td>\n",
              "      <td>0</td>\n",
              "      <td>1</td>\n",
              "      <td>0</td>\n",
              "      <td>...</td>\n",
              "      <td>0</td>\n",
              "      <td>0</td>\n",
              "      <td>0</td>\n",
              "      <td>0</td>\n",
              "      <td>1</td>\n",
              "      <td>0</td>\n",
              "      <td>0</td>\n",
              "      <td>0</td>\n",
              "      <td>0</td>\n",
              "      <td>0</td>\n",
              "    </tr>\n",
              "    <tr>\n",
              "      <th>Anderson</th>\n",
              "      <td>0</td>\n",
              "      <td>0</td>\n",
              "      <td>0</td>\n",
              "      <td>0</td>\n",
              "      <td>0</td>\n",
              "      <td>0</td>\n",
              "      <td>0</td>\n",
              "      <td>0</td>\n",
              "      <td>0</td>\n",
              "      <td>0</td>\n",
              "      <td>...</td>\n",
              "      <td>0</td>\n",
              "      <td>1</td>\n",
              "      <td>0</td>\n",
              "      <td>1</td>\n",
              "      <td>0</td>\n",
              "      <td>0</td>\n",
              "      <td>0</td>\n",
              "      <td>0</td>\n",
              "      <td>0</td>\n",
              "      <td>0</td>\n",
              "    </tr>\n",
              "    <tr>\n",
              "      <th>Bailey</th>\n",
              "      <td>0</td>\n",
              "      <td>0</td>\n",
              "      <td>0</td>\n",
              "      <td>0</td>\n",
              "      <td>0</td>\n",
              "      <td>0</td>\n",
              "      <td>1</td>\n",
              "      <td>0</td>\n",
              "      <td>0</td>\n",
              "      <td>0</td>\n",
              "      <td>...</td>\n",
              "      <td>0</td>\n",
              "      <td>0</td>\n",
              "      <td>0</td>\n",
              "      <td>0</td>\n",
              "      <td>0</td>\n",
              "      <td>0</td>\n",
              "      <td>0</td>\n",
              "      <td>1</td>\n",
              "      <td>0</td>\n",
              "      <td>0</td>\n",
              "    </tr>\n",
              "    <tr>\n",
              "      <th>Baker</th>\n",
              "      <td>0</td>\n",
              "      <td>0</td>\n",
              "      <td>0</td>\n",
              "      <td>0</td>\n",
              "      <td>0</td>\n",
              "      <td>0</td>\n",
              "      <td>1</td>\n",
              "      <td>0</td>\n",
              "      <td>0</td>\n",
              "      <td>1</td>\n",
              "      <td>...</td>\n",
              "      <td>0</td>\n",
              "      <td>0</td>\n",
              "      <td>0</td>\n",
              "      <td>0</td>\n",
              "      <td>0</td>\n",
              "      <td>0</td>\n",
              "      <td>0</td>\n",
              "      <td>0</td>\n",
              "      <td>1</td>\n",
              "      <td>0</td>\n",
              "    </tr>\n",
              "  </tbody>\n",
              "</table>\n",
              "<p>5 rows × 32 columns</p>\n",
              "</div>"
            ],
            "text/plain": [
              "               1  2  3  4  5  6  7  8  9  10  ...  23  24  25  26  27  28  29  \\\n",
              "customer_name                                 ...                               \n",
              "Adams          0  0  0  0  0  0  0  0  0   0  ...   0   0   0   0   0   0   1   \n",
              "Allen          0  0  0  0  0  0  0  0  1   0  ...   0   0   0   0   1   0   0   \n",
              "Anderson       0  0  0  0  0  0  0  0  0   0  ...   0   1   0   1   0   0   0   \n",
              "Bailey         0  0  0  0  0  0  1  0  0   0  ...   0   0   0   0   0   0   0   \n",
              "Baker          0  0  0  0  0  0  1  0  0   1  ...   0   0   0   0   0   0   0   \n",
              "\n",
              "               30  31  32  \n",
              "customer_name              \n",
              "Adams           1   0   0  \n",
              "Allen           0   0   0  \n",
              "Anderson        0   0   0  \n",
              "Bailey          1   0   0  \n",
              "Baker           0   1   0  \n",
              "\n",
              "[5 rows x 32 columns]"
            ]
          },
          "execution_count": 222,
          "metadata": {},
          "output_type": "execute_result"
        }
      ],
      "source": [
        "mode = pd.read_csv('customer_offers.csv', index_col=\"customer_name\")\n",
        "mode.head()"
      ]
    },
    {
      "cell_type": "markdown",
      "metadata": {
        "id": "Tg9ABMVgcJtl"
      },
      "source": [
        "## 11."
      ]
    },
    {
      "cell_type": "code",
      "execution_count": null,
      "metadata": {
        "id": "izi8h4MxcJtl",
        "outputId": "359d454c-f451-4f05-f9a0-6277ca89fb48"
      },
      "outputs": [
        {
          "data": {
            "text/plain": [
              "0    89\n",
              "2     6\n",
              "3     3\n",
              "1     2\n",
              "dtype: int64"
            ]
          },
          "execution_count": 223,
          "metadata": {},
          "output_type": "execute_result"
        }
      ],
      "source": [
        "from kmodes.kmodes import KModes\n",
        "\n",
        "km = KModes(n_clusters=4, random_state=10)\n",
        "\n",
        "clusters = km.fit_predict(mode)\n",
        "\n",
        "pd.Series(clusters).value_counts()\n",
        "# print(km.cluster_centroids_) # Print the cluster centroids"
      ]
    },
    {
      "cell_type": "markdown",
      "metadata": {
        "id": "i6L8rGfVcJtl"
      },
      "source": [
        "## 12. 請用文字說明 k-means、mean-shift、k-prototypes、k-modes 四種分群方法的差異"
      ]
    }
  ],
  "metadata": {
    "kernelspec": {
      "display_name": "Python 3",
      "language": "python",
      "name": "python3"
    },
    "language_info": {
      "codemirror_mode": {
        "name": "ipython",
        "version": 3
      },
      "file_extension": ".py",
      "mimetype": "text/x-python",
      "name": "python",
      "nbconvert_exporter": "python",
      "pygments_lexer": "ipython3",
      "version": "3.8.5"
    },
    "colab": {
      "provenance": [],
      "include_colab_link": true
    }
  },
  "nbformat": 4,
  "nbformat_minor": 0
}